{
 "cells": [
  {
   "cell_type": "code",
   "execution_count": 1,
   "id": "1d9278a2",
   "metadata": {
    "_cell_guid": "b1076dfc-b9ad-4769-8c92-a6c4dae69d19",
    "_uuid": "8f2839f25d086af736a60e9eeb907d3b93b6e0e5",
    "execution": {
     "iopub.execute_input": "2023-01-06T07:08:41.475190Z",
     "iopub.status.busy": "2023-01-06T07:08:41.474513Z",
     "iopub.status.idle": "2023-01-06T07:08:41.497844Z",
     "shell.execute_reply": "2023-01-06T07:08:41.495939Z"
    },
    "papermill": {
     "duration": 0.056197,
     "end_time": "2023-01-06T07:08:41.501511",
     "exception": false,
     "start_time": "2023-01-06T07:08:41.445314",
     "status": "completed"
    },
    "tags": []
   },
   "outputs": [
    {
     "name": "stdout",
     "output_type": "stream",
     "text": [
      "/kaggle/input/old-car-price-prediction/car_price.csv\n"
     ]
    }
   ],
   "source": [
    "# This Python 3 environment comes with many helpful analytics libraries installed\n",
    "# It is defined by the kaggle/python Docker image: https://github.com/kaggle/docker-python\n",
    "# For example, here's several helpful packages to load\n",
    "\n",
    "import numpy as np # linear algebra\n",
    "import pandas as pd # data processing, CSV file I/O (e.g. pd.read_csv)\n",
    "\n",
    "# Input data files are available in the read-only \"../input/\" directory\n",
    "# For example, running this (by clicking run or pressing Shift+Enter) will list all files under the input directory\n",
    "\n",
    "import os\n",
    "for dirname, _, filenames in os.walk('/kaggle/input'):\n",
    "    for filename in filenames:\n",
    "        print(os.path.join(dirname, filename))\n",
    "\n",
    "# You can write up to 20GB to the current directory (/kaggle/working/) that gets preserved as output when you create a version using \"Save & Run All\" \n",
    "# You can also write temporary files to /kaggle/temp/, but they won't be saved outside of the current session"
   ]
  },
  {
   "cell_type": "code",
   "execution_count": 2,
   "id": "627ed765",
   "metadata": {
    "execution": {
     "iopub.execute_input": "2023-01-06T07:08:41.545518Z",
     "iopub.status.busy": "2023-01-06T07:08:41.545055Z",
     "iopub.status.idle": "2023-01-06T07:08:43.051479Z",
     "shell.execute_reply": "2023-01-06T07:08:43.050147Z"
    },
    "papermill": {
     "duration": 1.531792,
     "end_time": "2023-01-06T07:08:43.055569",
     "exception": false,
     "start_time": "2023-01-06T07:08:41.523777",
     "status": "completed"
    },
    "tags": []
   },
   "outputs": [],
   "source": [
    "import numpy as np\n",
    "import pandas as pd\n",
    "import matplotlib.pyplot as plt\n",
    "import seaborn as sns"
   ]
  },
  {
   "cell_type": "code",
   "execution_count": 3,
   "id": "cebf0dc5",
   "metadata": {
    "execution": {
     "iopub.execute_input": "2023-01-06T07:08:43.100234Z",
     "iopub.status.busy": "2023-01-06T07:08:43.099758Z",
     "iopub.status.idle": "2023-01-06T07:08:43.189966Z",
     "shell.execute_reply": "2023-01-06T07:08:43.188281Z"
    },
    "papermill": {
     "duration": 0.116977,
     "end_time": "2023-01-06T07:08:43.193789",
     "exception": false,
     "start_time": "2023-01-06T07:08:43.076812",
     "status": "completed"
    },
    "tags": []
   },
   "outputs": [
    {
     "name": "stdout",
     "output_type": "stream",
     "text": [
      "\n",
      "Data shape: (5512, 10)\n"
     ]
    },
    {
     "data": {
      "text/html": [
       "<div>\n",
       "<style scoped>\n",
       "    .dataframe tbody tr th:only-of-type {\n",
       "        vertical-align: middle;\n",
       "    }\n",
       "\n",
       "    .dataframe tbody tr th {\n",
       "        vertical-align: top;\n",
       "    }\n",
       "\n",
       "    .dataframe thead th {\n",
       "        text-align: right;\n",
       "    }\n",
       "</style>\n",
       "<table border=\"1\" class=\"dataframe\">\n",
       "  <thead>\n",
       "    <tr style=\"text-align: right;\">\n",
       "      <th></th>\n",
       "      <th>Unnamed: 0</th>\n",
       "      <th>car_name</th>\n",
       "      <th>car_prices_in_rupee</th>\n",
       "      <th>kms_driven</th>\n",
       "      <th>fuel_type</th>\n",
       "      <th>transmission</th>\n",
       "      <th>ownership</th>\n",
       "      <th>manufacture</th>\n",
       "      <th>engine</th>\n",
       "      <th>Seats</th>\n",
       "    </tr>\n",
       "  </thead>\n",
       "  <tbody>\n",
       "    <tr>\n",
       "      <th>0</th>\n",
       "      <td>0</td>\n",
       "      <td>Jeep Compass 2.0 Longitude Option BSIV</td>\n",
       "      <td>10.03 Lakh</td>\n",
       "      <td>86,226 kms</td>\n",
       "      <td>Diesel</td>\n",
       "      <td>Manual</td>\n",
       "      <td>1st Owner</td>\n",
       "      <td>2017</td>\n",
       "      <td>1956 cc</td>\n",
       "      <td>5 Seats</td>\n",
       "    </tr>\n",
       "    <tr>\n",
       "      <th>1</th>\n",
       "      <td>1</td>\n",
       "      <td>Renault Duster RXZ Turbo CVT</td>\n",
       "      <td>12.83 Lakh</td>\n",
       "      <td>13,248 kms</td>\n",
       "      <td>Petrol</td>\n",
       "      <td>Automatic</td>\n",
       "      <td>1st Owner</td>\n",
       "      <td>2021</td>\n",
       "      <td>1330 cc</td>\n",
       "      <td>5 Seats</td>\n",
       "    </tr>\n",
       "    <tr>\n",
       "      <th>2</th>\n",
       "      <td>2</td>\n",
       "      <td>Toyota Camry 2.5 G</td>\n",
       "      <td>16.40 Lakh</td>\n",
       "      <td>60,343 kms</td>\n",
       "      <td>Petrol</td>\n",
       "      <td>Automatic</td>\n",
       "      <td>1st Owner</td>\n",
       "      <td>2016</td>\n",
       "      <td>2494 cc</td>\n",
       "      <td>5 Seats</td>\n",
       "    </tr>\n",
       "    <tr>\n",
       "      <th>3</th>\n",
       "      <td>3</td>\n",
       "      <td>Honda Jazz VX CVT</td>\n",
       "      <td>7.77 Lakh</td>\n",
       "      <td>26,696 kms</td>\n",
       "      <td>Petrol</td>\n",
       "      <td>Automatic</td>\n",
       "      <td>1st Owner</td>\n",
       "      <td>2018</td>\n",
       "      <td>1199 cc</td>\n",
       "      <td>5 Seats</td>\n",
       "    </tr>\n",
       "    <tr>\n",
       "      <th>4</th>\n",
       "      <td>4</td>\n",
       "      <td>Volkswagen Polo 1.2 MPI Highline</td>\n",
       "      <td>5.15 Lakh</td>\n",
       "      <td>69,414 kms</td>\n",
       "      <td>Petrol</td>\n",
       "      <td>Manual</td>\n",
       "      <td>1st Owner</td>\n",
       "      <td>2016</td>\n",
       "      <td>1199 cc</td>\n",
       "      <td>5 Seats</td>\n",
       "    </tr>\n",
       "  </tbody>\n",
       "</table>\n",
       "</div>"
      ],
      "text/plain": [
       "   Unnamed: 0                                car_name car_prices_in_rupee  \\\n",
       "0           0  Jeep Compass 2.0 Longitude Option BSIV          10.03 Lakh   \n",
       "1           1            Renault Duster RXZ Turbo CVT          12.83 Lakh   \n",
       "2           2                      Toyota Camry 2.5 G          16.40 Lakh   \n",
       "3           3                       Honda Jazz VX CVT           7.77 Lakh   \n",
       "4           4        Volkswagen Polo 1.2 MPI Highline           5.15 Lakh   \n",
       "\n",
       "   kms_driven fuel_type transmission  ownership  manufacture   engine    Seats  \n",
       "0  86,226 kms    Diesel       Manual  1st Owner         2017  1956 cc  5 Seats  \n",
       "1  13,248 kms    Petrol    Automatic  1st Owner         2021  1330 cc  5 Seats  \n",
       "2  60,343 kms    Petrol    Automatic  1st Owner         2016  2494 cc  5 Seats  \n",
       "3  26,696 kms    Petrol    Automatic  1st Owner         2018  1199 cc  5 Seats  \n",
       "4  69,414 kms    Petrol       Manual  1st Owner         2016  1199 cc  5 Seats  "
      ]
     },
     "metadata": {},
     "output_type": "display_data"
    },
    {
     "data": {
      "text/html": [
       "<div>\n",
       "<style scoped>\n",
       "    .dataframe tbody tr th:only-of-type {\n",
       "        vertical-align: middle;\n",
       "    }\n",
       "\n",
       "    .dataframe tbody tr th {\n",
       "        vertical-align: top;\n",
       "    }\n",
       "\n",
       "    .dataframe thead th {\n",
       "        text-align: right;\n",
       "    }\n",
       "</style>\n",
       "<table border=\"1\" class=\"dataframe\">\n",
       "  <thead>\n",
       "    <tr style=\"text-align: right;\">\n",
       "      <th></th>\n",
       "      <th>Unnamed: 0</th>\n",
       "      <th>car_name</th>\n",
       "      <th>car_prices_in_rupee</th>\n",
       "      <th>kms_driven</th>\n",
       "      <th>fuel_type</th>\n",
       "      <th>transmission</th>\n",
       "      <th>ownership</th>\n",
       "      <th>manufacture</th>\n",
       "      <th>engine</th>\n",
       "      <th>Seats</th>\n",
       "    </tr>\n",
       "  </thead>\n",
       "  <tbody>\n",
       "    <tr>\n",
       "      <th>5507</th>\n",
       "      <td>5507</td>\n",
       "      <td>BMW X1 sDrive 20d xLine</td>\n",
       "      <td>28.90 Lakh</td>\n",
       "      <td>45,000 kms</td>\n",
       "      <td>Diesel</td>\n",
       "      <td>Automatic</td>\n",
       "      <td>1st Owner</td>\n",
       "      <td>2018</td>\n",
       "      <td>2995 cc</td>\n",
       "      <td>7 Seats</td>\n",
       "    </tr>\n",
       "    <tr>\n",
       "      <th>5508</th>\n",
       "      <td>5508</td>\n",
       "      <td>BMW M Series M4 Coupe</td>\n",
       "      <td>64.90 Lakh</td>\n",
       "      <td>29,000 kms</td>\n",
       "      <td>Petrol</td>\n",
       "      <td>Automatic</td>\n",
       "      <td>2nd Owner</td>\n",
       "      <td>2015</td>\n",
       "      <td>1968 cc</td>\n",
       "      <td>5 Seats</td>\n",
       "    </tr>\n",
       "    <tr>\n",
       "      <th>5509</th>\n",
       "      <td>5509</td>\n",
       "      <td>Jaguar XF 2.2 Litre Luxury</td>\n",
       "      <td>13.75 Lakh</td>\n",
       "      <td>90,000 kms</td>\n",
       "      <td>Diesel</td>\n",
       "      <td>Automatic</td>\n",
       "      <td>2nd Owner</td>\n",
       "      <td>2013</td>\n",
       "      <td>2755 cc</td>\n",
       "      <td>5 Seats</td>\n",
       "    </tr>\n",
       "    <tr>\n",
       "      <th>5510</th>\n",
       "      <td>5510</td>\n",
       "      <td>BMW 7 Series 730Ld</td>\n",
       "      <td>29.90 Lakh</td>\n",
       "      <td>79,000 kms</td>\n",
       "      <td>Diesel</td>\n",
       "      <td>Automatic</td>\n",
       "      <td>3rd Owner</td>\n",
       "      <td>2015</td>\n",
       "      <td>2967 cc</td>\n",
       "      <td>6 Seats</td>\n",
       "    </tr>\n",
       "    <tr>\n",
       "      <th>5511</th>\n",
       "      <td>5511</td>\n",
       "      <td>BMW 5 Series 520d M Sport</td>\n",
       "      <td>31.90 Lakh</td>\n",
       "      <td>42,000 kms</td>\n",
       "      <td>Diesel</td>\n",
       "      <td>Automatic</td>\n",
       "      <td>2nd Owner</td>\n",
       "      <td>2017</td>\n",
       "      <td>1991 cc</td>\n",
       "      <td>5 Seats</td>\n",
       "    </tr>\n",
       "  </tbody>\n",
       "</table>\n",
       "</div>"
      ],
      "text/plain": [
       "      Unnamed: 0                    car_name car_prices_in_rupee  kms_driven  \\\n",
       "5507        5507     BMW X1 sDrive 20d xLine          28.90 Lakh  45,000 kms   \n",
       "5508        5508       BMW M Series M4 Coupe          64.90 Lakh  29,000 kms   \n",
       "5509        5509  Jaguar XF 2.2 Litre Luxury          13.75 Lakh  90,000 kms   \n",
       "5510        5510          BMW 7 Series 730Ld          29.90 Lakh  79,000 kms   \n",
       "5511        5511   BMW 5 Series 520d M Sport          31.90 Lakh  42,000 kms   \n",
       "\n",
       "     fuel_type transmission  ownership  manufacture   engine    Seats  \n",
       "5507    Diesel    Automatic  1st Owner         2018  2995 cc  7 Seats  \n",
       "5508    Petrol    Automatic  2nd Owner         2015  1968 cc  5 Seats  \n",
       "5509    Diesel    Automatic  2nd Owner         2013  2755 cc  5 Seats  \n",
       "5510    Diesel    Automatic  3rd Owner         2015  2967 cc  6 Seats  \n",
       "5511    Diesel    Automatic  2nd Owner         2017  1991 cc  5 Seats  "
      ]
     },
     "metadata": {},
     "output_type": "display_data"
    }
   ],
   "source": [
    "import warnings\n",
    "warnings.filterwarnings(\"ignore\")\n",
    "\n",
    "df = pd.read_csv(\"/kaggle/input/old-car-price-prediction/car_price.csv\")\n",
    "\n",
    "print()\n",
    "print(\"Data shape: \" + str(df.shape))\n",
    "\n",
    "display(df.head())\n",
    "display(df.tail())"
   ]
  },
  {
   "cell_type": "markdown",
   "id": "2f8cf15e",
   "metadata": {
    "papermill": {
     "duration": 0.022719,
     "end_time": "2023-01-06T07:08:43.239346",
     "exception": false,
     "start_time": "2023-01-06T07:08:43.216627",
     "status": "completed"
    },
    "tags": []
   },
   "source": [
    "## Data Preprocessing - Simple"
   ]
  },
  {
   "cell_type": "code",
   "execution_count": 4,
   "id": "01794026",
   "metadata": {
    "execution": {
     "iopub.execute_input": "2023-01-06T07:08:43.291150Z",
     "iopub.status.busy": "2023-01-06T07:08:43.290522Z",
     "iopub.status.idle": "2023-01-06T07:08:43.327195Z",
     "shell.execute_reply": "2023-01-06T07:08:43.325313Z"
    },
    "papermill": {
     "duration": 0.067105,
     "end_time": "2023-01-06T07:08:43.331593",
     "exception": false,
     "start_time": "2023-01-06T07:08:43.264488",
     "status": "completed"
    },
    "tags": []
   },
   "outputs": [
    {
     "name": "stdout",
     "output_type": "stream",
     "text": [
      "<class 'pandas.core.frame.DataFrame'>\n",
      "RangeIndex: 5512 entries, 0 to 5511\n",
      "Data columns (total 10 columns):\n",
      " #   Column               Non-Null Count  Dtype \n",
      "---  ------               --------------  ----- \n",
      " 0   Unnamed: 0           5512 non-null   int64 \n",
      " 1   car_name             5512 non-null   object\n",
      " 2   car_prices_in_rupee  5512 non-null   object\n",
      " 3   kms_driven           5512 non-null   object\n",
      " 4   fuel_type            5512 non-null   object\n",
      " 5   transmission         5512 non-null   object\n",
      " 6   ownership            5512 non-null   object\n",
      " 7   manufacture          5512 non-null   int64 \n",
      " 8   engine               5512 non-null   object\n",
      " 9   Seats                5512 non-null   object\n",
      "dtypes: int64(2), object(8)\n",
      "memory usage: 430.8+ KB\n"
     ]
    }
   ],
   "source": [
    "df.info()"
   ]
  },
  {
   "cell_type": "code",
   "execution_count": 5,
   "id": "4ecd56a1",
   "metadata": {
    "execution": {
     "iopub.execute_input": "2023-01-06T07:08:43.377434Z",
     "iopub.status.busy": "2023-01-06T07:08:43.376930Z",
     "iopub.status.idle": "2023-01-06T07:08:43.397810Z",
     "shell.execute_reply": "2023-01-06T07:08:43.396006Z"
    },
    "papermill": {
     "duration": 0.047181,
     "end_time": "2023-01-06T07:08:43.400902",
     "exception": false,
     "start_time": "2023-01-06T07:08:43.353721",
     "status": "completed"
    },
    "tags": []
   },
   "outputs": [
    {
     "data": {
      "text/plain": [
       "Unnamed: 0             0\n",
       "car_name               0\n",
       "car_prices_in_rupee    0\n",
       "kms_driven             0\n",
       "fuel_type              0\n",
       "transmission           0\n",
       "ownership              0\n",
       "manufacture            0\n",
       "engine                 0\n",
       "Seats                  0\n",
       "dtype: int64"
      ]
     },
     "execution_count": 5,
     "metadata": {},
     "output_type": "execute_result"
    }
   ],
   "source": [
    "df[df.duplicated()].count()"
   ]
  },
  {
   "cell_type": "markdown",
   "id": "3cdca4f2",
   "metadata": {
    "papermill": {
     "duration": 0.021252,
     "end_time": "2023-01-06T07:08:43.444522",
     "exception": false,
     "start_time": "2023-01-06T07:08:43.423270",
     "status": "completed"
    },
    "tags": []
   },
   "source": [
    "### 1. Split brand name from \"car_name\"  \n",
    "Different brands have their own \"Brand Value\",so split the brand name might help we predict the car price."
   ]
  },
  {
   "cell_type": "code",
   "execution_count": 6,
   "id": "ba44aaee",
   "metadata": {
    "execution": {
     "iopub.execute_input": "2023-01-06T07:08:43.496661Z",
     "iopub.status.busy": "2023-01-06T07:08:43.496142Z",
     "iopub.status.idle": "2023-01-06T07:08:48.011223Z",
     "shell.execute_reply": "2023-01-06T07:08:48.009250Z"
    },
    "papermill": {
     "duration": 4.544712,
     "end_time": "2023-01-06T07:08:48.015796",
     "exception": false,
     "start_time": "2023-01-06T07:08:43.471084",
     "status": "completed"
    },
    "tags": []
   },
   "outputs": [
    {
     "data": {
      "text/html": [
       "<div>\n",
       "<style scoped>\n",
       "    .dataframe tbody tr th:only-of-type {\n",
       "        vertical-align: middle;\n",
       "    }\n",
       "\n",
       "    .dataframe tbody tr th {\n",
       "        vertical-align: top;\n",
       "    }\n",
       "\n",
       "    .dataframe thead th {\n",
       "        text-align: right;\n",
       "    }\n",
       "</style>\n",
       "<table border=\"1\" class=\"dataframe\">\n",
       "  <thead>\n",
       "    <tr style=\"text-align: right;\">\n",
       "      <th></th>\n",
       "      <th>Unnamed: 0</th>\n",
       "      <th>Brand</th>\n",
       "      <th>car_name</th>\n",
       "      <th>car_prices_in_rupee</th>\n",
       "      <th>kms_driven</th>\n",
       "      <th>fuel_type</th>\n",
       "      <th>transmission</th>\n",
       "      <th>ownership</th>\n",
       "      <th>manufacture</th>\n",
       "      <th>engine</th>\n",
       "      <th>Seats</th>\n",
       "    </tr>\n",
       "  </thead>\n",
       "  <tbody>\n",
       "    <tr>\n",
       "      <th>0</th>\n",
       "      <td>0</td>\n",
       "      <td>Jeep</td>\n",
       "      <td>Compass 2.0 Longitude Option BSIV</td>\n",
       "      <td>10.03 Lakh</td>\n",
       "      <td>86,226 kms</td>\n",
       "      <td>Diesel</td>\n",
       "      <td>Manual</td>\n",
       "      <td>1st Owner</td>\n",
       "      <td>2017</td>\n",
       "      <td>1956 cc</td>\n",
       "      <td>5 Seats</td>\n",
       "    </tr>\n",
       "    <tr>\n",
       "      <th>1</th>\n",
       "      <td>1</td>\n",
       "      <td>Renault</td>\n",
       "      <td>Duster RXZ Turbo CVT</td>\n",
       "      <td>12.83 Lakh</td>\n",
       "      <td>13,248 kms</td>\n",
       "      <td>Petrol</td>\n",
       "      <td>Automatic</td>\n",
       "      <td>1st Owner</td>\n",
       "      <td>2021</td>\n",
       "      <td>1330 cc</td>\n",
       "      <td>5 Seats</td>\n",
       "    </tr>\n",
       "    <tr>\n",
       "      <th>2</th>\n",
       "      <td>2</td>\n",
       "      <td>Toyota</td>\n",
       "      <td>Camry 2.5 G</td>\n",
       "      <td>16.40 Lakh</td>\n",
       "      <td>60,343 kms</td>\n",
       "      <td>Petrol</td>\n",
       "      <td>Automatic</td>\n",
       "      <td>1st Owner</td>\n",
       "      <td>2016</td>\n",
       "      <td>2494 cc</td>\n",
       "      <td>5 Seats</td>\n",
       "    </tr>\n",
       "    <tr>\n",
       "      <th>3</th>\n",
       "      <td>3</td>\n",
       "      <td>Honda</td>\n",
       "      <td>Jazz VX CVT</td>\n",
       "      <td>7.77 Lakh</td>\n",
       "      <td>26,696 kms</td>\n",
       "      <td>Petrol</td>\n",
       "      <td>Automatic</td>\n",
       "      <td>1st Owner</td>\n",
       "      <td>2018</td>\n",
       "      <td>1199 cc</td>\n",
       "      <td>5 Seats</td>\n",
       "    </tr>\n",
       "    <tr>\n",
       "      <th>4</th>\n",
       "      <td>4</td>\n",
       "      <td>Volkswagen</td>\n",
       "      <td>Polo 1.2 MPI Highline</td>\n",
       "      <td>5.15 Lakh</td>\n",
       "      <td>69,414 kms</td>\n",
       "      <td>Petrol</td>\n",
       "      <td>Manual</td>\n",
       "      <td>1st Owner</td>\n",
       "      <td>2016</td>\n",
       "      <td>1199 cc</td>\n",
       "      <td>5 Seats</td>\n",
       "    </tr>\n",
       "  </tbody>\n",
       "</table>\n",
       "</div>"
      ],
      "text/plain": [
       "   Unnamed: 0       Brand                           car_name  \\\n",
       "0           0        Jeep  Compass 2.0 Longitude Option BSIV   \n",
       "1           1     Renault               Duster RXZ Turbo CVT   \n",
       "2           2      Toyota                        Camry 2.5 G   \n",
       "3           3       Honda                        Jazz VX CVT   \n",
       "4           4  Volkswagen              Polo 1.2 MPI Highline   \n",
       "\n",
       "  car_prices_in_rupee  kms_driven fuel_type transmission  ownership  \\\n",
       "0          10.03 Lakh  86,226 kms    Diesel       Manual  1st Owner   \n",
       "1          12.83 Lakh  13,248 kms    Petrol    Automatic  1st Owner   \n",
       "2          16.40 Lakh  60,343 kms    Petrol    Automatic  1st Owner   \n",
       "3           7.77 Lakh  26,696 kms    Petrol    Automatic  1st Owner   \n",
       "4           5.15 Lakh  69,414 kms    Petrol       Manual  1st Owner   \n",
       "\n",
       "   manufacture   engine    Seats  \n",
       "0         2017  1956 cc  5 Seats  \n",
       "1         2021  1330 cc  5 Seats  \n",
       "2         2016  2494 cc  5 Seats  \n",
       "3         2018  1199 cc  5 Seats  \n",
       "4         2016  1199 cc  5 Seats  "
      ]
     },
     "execution_count": 6,
     "metadata": {},
     "output_type": "execute_result"
    }
   ],
   "source": [
    "newcols = df[\"car_name\"].str.split(\" \",n=1)\n",
    "newcols.index = df.index\n",
    "df.insert(1,\"Brand\",\"\")\n",
    "for i in range(5512):\n",
    "    df[\"Brand\"][i] = newcols[i][0]\n",
    "    df[\"car_name\"][i] = newcols[i][1]\n",
    "df.head()"
   ]
  },
  {
   "cell_type": "markdown",
   "id": "b461e16d",
   "metadata": {
    "papermill": {
     "duration": 0.025039,
     "end_time": "2023-01-06T07:08:48.069116",
     "exception": false,
     "start_time": "2023-01-06T07:08:48.044077",
     "status": "completed"
    },
    "tags": []
   },
   "source": [
    "### 2. Transform the currency value  \n",
    "I'm in Taiwan ,so if the price could show the number in local currency,   \n",
    "it could not only compare in low or high price but show exactly the cost. \n",
    "  \n",
    "．1 rupee is about 0.37 NT dollars\n",
    "．Lakh = 100K，so 1Lakh rupee is about  37193 NT dollars  \n",
    "．Crore  = Ten million ,1 crore rupee is about 3712136 NT dollars"
   ]
  },
  {
   "cell_type": "code",
   "execution_count": 7,
   "id": "809f26fa",
   "metadata": {
    "execution": {
     "iopub.execute_input": "2023-01-06T07:08:48.121584Z",
     "iopub.status.busy": "2023-01-06T07:08:48.120980Z",
     "iopub.status.idle": "2023-01-06T07:08:54.731452Z",
     "shell.execute_reply": "2023-01-06T07:08:54.729904Z"
    },
    "papermill": {
     "duration": 6.641382,
     "end_time": "2023-01-06T07:08:54.735927",
     "exception": false,
     "start_time": "2023-01-06T07:08:48.094545",
     "status": "completed"
    },
    "tags": []
   },
   "outputs": [],
   "source": [
    "for j,item in enumerate(df[\"car_prices_in_rupee\"]): \n",
    "    if \"Lakh\" in item:\n",
    "       df[\"car_prices_in_rupee\"][j] = df[\"car_prices_in_rupee\"][j].strip(\"Lakh\")\n",
    "       #print(j,\",\",df[\"car_prices_in_rupee\"][j],type(df[\"car_prices_in_rupee\"][j]))\n",
    "       df[\"car_prices_in_rupee\"][j]=pd.to_numeric(df[\"car_prices_in_rupee\"][j])\n",
    "       df[\"car_prices_in_rupee\"][j]= round((df[\"car_prices_in_rupee\"][j]*37193),2)\n",
    "    elif \"Crore\" in item:\n",
    "        df[\"car_prices_in_rupee\"][j] = df[\"car_prices_in_rupee\"][j].strip(\"Crore\")\n",
    "        #print(df[\"car_prices_in_rupee\"][j])\n",
    "        df[\"car_prices_in_rupee\"][j]=pd.to_numeric(df[\"car_prices_in_rupee\"][j])\n",
    "        df[\"car_prices_in_rupee\"][j]= round((df[\"car_prices_in_rupee\"][j]*3712136),2)\n",
    "    else: \n",
    "        df[\"car_prices_in_rupee\"][j] = df[\"car_prices_in_rupee\"][j].replace(\",\",\"\")\n",
    "        df[\"car_prices_in_rupee\"][j]= pd.to_numeric(df[\"car_prices_in_rupee\"][j])\n",
    "        df[\"car_prices_in_rupee\"][j]= round((df[\"car_prices_in_rupee\"][j]*0.37),2)\n",
    "        \n",
    "df.rename(columns={'car_prices_in_rupee': 'car_prices_in_NT', \n",
    "                           }, inplace=True)"
   ]
  },
  {
   "cell_type": "code",
   "execution_count": 8,
   "id": "09684c81",
   "metadata": {
    "execution": {
     "iopub.execute_input": "2023-01-06T07:08:54.783105Z",
     "iopub.status.busy": "2023-01-06T07:08:54.782281Z",
     "iopub.status.idle": "2023-01-06T07:08:54.813198Z",
     "shell.execute_reply": "2023-01-06T07:08:54.810941Z"
    },
    "papermill": {
     "duration": 0.05942,
     "end_time": "2023-01-06T07:08:54.817929",
     "exception": false,
     "start_time": "2023-01-06T07:08:54.758509",
     "status": "completed"
    },
    "tags": []
   },
   "outputs": [
    {
     "data": {
      "text/html": [
       "<div>\n",
       "<style scoped>\n",
       "    .dataframe tbody tr th:only-of-type {\n",
       "        vertical-align: middle;\n",
       "    }\n",
       "\n",
       "    .dataframe tbody tr th {\n",
       "        vertical-align: top;\n",
       "    }\n",
       "\n",
       "    .dataframe thead th {\n",
       "        text-align: right;\n",
       "    }\n",
       "</style>\n",
       "<table border=\"1\" class=\"dataframe\">\n",
       "  <thead>\n",
       "    <tr style=\"text-align: right;\">\n",
       "      <th></th>\n",
       "      <th>Unnamed: 0</th>\n",
       "      <th>Brand</th>\n",
       "      <th>car_name</th>\n",
       "      <th>car_prices</th>\n",
       "      <th>multiply NT</th>\n",
       "      <th>kms_driven</th>\n",
       "      <th>fuel_type</th>\n",
       "      <th>transmission</th>\n",
       "      <th>ownership</th>\n",
       "      <th>manufacture</th>\n",
       "      <th>engine</th>\n",
       "      <th>Seats</th>\n",
       "    </tr>\n",
       "  </thead>\n",
       "  <tbody>\n",
       "    <tr>\n",
       "      <th>0</th>\n",
       "      <td>0</td>\n",
       "      <td>Jeep</td>\n",
       "      <td>Compass 2.0 Longitude Option BSIV</td>\n",
       "      <td>37.30</td>\n",
       "      <td>10K</td>\n",
       "      <td>86,226 kms</td>\n",
       "      <td>Diesel</td>\n",
       "      <td>Manual</td>\n",
       "      <td>1st Owner</td>\n",
       "      <td>2017</td>\n",
       "      <td>1956 cc</td>\n",
       "      <td>5 Seats</td>\n",
       "    </tr>\n",
       "    <tr>\n",
       "      <th>1</th>\n",
       "      <td>1</td>\n",
       "      <td>Renault</td>\n",
       "      <td>Duster RXZ Turbo CVT</td>\n",
       "      <td>47.72</td>\n",
       "      <td>10K</td>\n",
       "      <td>13,248 kms</td>\n",
       "      <td>Petrol</td>\n",
       "      <td>Automatic</td>\n",
       "      <td>1st Owner</td>\n",
       "      <td>2021</td>\n",
       "      <td>1330 cc</td>\n",
       "      <td>5 Seats</td>\n",
       "    </tr>\n",
       "    <tr>\n",
       "      <th>2</th>\n",
       "      <td>2</td>\n",
       "      <td>Toyota</td>\n",
       "      <td>Camry 2.5 G</td>\n",
       "      <td>61.00</td>\n",
       "      <td>10K</td>\n",
       "      <td>60,343 kms</td>\n",
       "      <td>Petrol</td>\n",
       "      <td>Automatic</td>\n",
       "      <td>1st Owner</td>\n",
       "      <td>2016</td>\n",
       "      <td>2494 cc</td>\n",
       "      <td>5 Seats</td>\n",
       "    </tr>\n",
       "    <tr>\n",
       "      <th>3</th>\n",
       "      <td>3</td>\n",
       "      <td>Honda</td>\n",
       "      <td>Jazz VX CVT</td>\n",
       "      <td>28.90</td>\n",
       "      <td>10K</td>\n",
       "      <td>26,696 kms</td>\n",
       "      <td>Petrol</td>\n",
       "      <td>Automatic</td>\n",
       "      <td>1st Owner</td>\n",
       "      <td>2018</td>\n",
       "      <td>1199 cc</td>\n",
       "      <td>5 Seats</td>\n",
       "    </tr>\n",
       "    <tr>\n",
       "      <th>4</th>\n",
       "      <td>4</td>\n",
       "      <td>Volkswagen</td>\n",
       "      <td>Polo 1.2 MPI Highline</td>\n",
       "      <td>19.15</td>\n",
       "      <td>10K</td>\n",
       "      <td>69,414 kms</td>\n",
       "      <td>Petrol</td>\n",
       "      <td>Manual</td>\n",
       "      <td>1st Owner</td>\n",
       "      <td>2016</td>\n",
       "      <td>1199 cc</td>\n",
       "      <td>5 Seats</td>\n",
       "    </tr>\n",
       "  </tbody>\n",
       "</table>\n",
       "</div>"
      ],
      "text/plain": [
       "   Unnamed: 0       Brand                           car_name  car_prices  \\\n",
       "0           0        Jeep  Compass 2.0 Longitude Option BSIV       37.30   \n",
       "1           1     Renault               Duster RXZ Turbo CVT       47.72   \n",
       "2           2      Toyota                        Camry 2.5 G       61.00   \n",
       "3           3       Honda                        Jazz VX CVT       28.90   \n",
       "4           4  Volkswagen              Polo 1.2 MPI Highline       19.15   \n",
       "\n",
       "  multiply NT  kms_driven fuel_type transmission  ownership  manufacture  \\\n",
       "0         10K  86,226 kms    Diesel       Manual  1st Owner         2017   \n",
       "1         10K  13,248 kms    Petrol    Automatic  1st Owner         2021   \n",
       "2         10K  60,343 kms    Petrol    Automatic  1st Owner         2016   \n",
       "3         10K  26,696 kms    Petrol    Automatic  1st Owner         2018   \n",
       "4         10K  69,414 kms    Petrol       Manual  1st Owner         2016   \n",
       "\n",
       "    engine    Seats  \n",
       "0  1956 cc  5 Seats  \n",
       "1  1330 cc  5 Seats  \n",
       "2  2494 cc  5 Seats  \n",
       "3  1199 cc  5 Seats  \n",
       "4  1199 cc  5 Seats  "
      ]
     },
     "execution_count": 8,
     "metadata": {},
     "output_type": "execute_result"
    }
   ],
   "source": [
    "df[\"car_prices_in_NT\"] = (df[\"car_prices_in_NT\"]/10000).astype('float')\n",
    "df[\"car_prices_in_NT\"] = df[\"car_prices_in_NT\"].round(2)\n",
    "df.rename(columns={'car_prices_in_NT': 'car_prices', \n",
    "                           }, inplace=True)\n",
    "df.insert(4,\"multiply NT\",\"10K\")\n",
    "df.head()"
   ]
  },
  {
   "cell_type": "markdown",
   "id": "823c6802",
   "metadata": {
    "papermill": {
     "duration": 0.026354,
     "end_time": "2023-01-06T07:08:54.870027",
     "exception": false,
     "start_time": "2023-01-06T07:08:54.843673",
     "status": "completed"
    },
    "tags": []
   },
   "source": [
    "### 3. Dealing with \"unit\" in data, and transform the data type into numeric"
   ]
  },
  {
   "cell_type": "code",
   "execution_count": 9,
   "id": "9fbce0e5",
   "metadata": {
    "execution": {
     "iopub.execute_input": "2023-01-06T07:08:54.923813Z",
     "iopub.status.busy": "2023-01-06T07:08:54.923291Z",
     "iopub.status.idle": "2023-01-06T07:08:56.935226Z",
     "shell.execute_reply": "2023-01-06T07:08:56.933802Z"
    },
    "papermill": {
     "duration": 2.043926,
     "end_time": "2023-01-06T07:08:56.938473",
     "exception": false,
     "start_time": "2023-01-06T07:08:54.894547",
     "status": "completed"
    },
    "tags": []
   },
   "outputs": [],
   "source": [
    "df[\"kms_driven\"] = df[\"kms_driven\"].str.strip(\"kms\")\n",
    "df[\"kms_driven\"] = df[\"kms_driven\"].str.replace(\",\",\"\")\n",
    "\n",
    "df['Seats']=df['Seats'].str.replace(' Seats','')\n",
    "\n",
    "df['engine']=df['engine'].str.replace(' cc','')\n",
    "\n",
    "df[\"ownership\"] = df[\"ownership\"].str.strip(\"Owner\")\n",
    "for i,item in  enumerate(df[\"ownership\"]):\n",
    "    df[\"ownership\"][i] = df[\"ownership\"][i][0]"
   ]
  },
  {
   "cell_type": "code",
   "execution_count": 10,
   "id": "96263834",
   "metadata": {
    "execution": {
     "iopub.execute_input": "2023-01-06T07:08:56.984926Z",
     "iopub.status.busy": "2023-01-06T07:08:56.984514Z",
     "iopub.status.idle": "2023-01-06T07:08:56.998172Z",
     "shell.execute_reply": "2023-01-06T07:08:56.996797Z"
    },
    "papermill": {
     "duration": 0.041523,
     "end_time": "2023-01-06T07:08:57.001688",
     "exception": false,
     "start_time": "2023-01-06T07:08:56.960165",
     "status": "completed"
    },
    "tags": []
   },
   "outputs": [],
   "source": [
    "df['kms_driven']=df['kms_driven'].astype('int')\n",
    "df['Seats']=df['Seats'].astype('int')\n",
    "df['engine']=df['engine'].astype('int')\n",
    "df['ownership']=df['ownership'].astype('int')"
   ]
  },
  {
   "cell_type": "code",
   "execution_count": 11,
   "id": "7fcfd52e",
   "metadata": {
    "execution": {
     "iopub.execute_input": "2023-01-06T07:08:57.051129Z",
     "iopub.status.busy": "2023-01-06T07:08:57.050678Z",
     "iopub.status.idle": "2023-01-06T07:08:57.072134Z",
     "shell.execute_reply": "2023-01-06T07:08:57.069910Z"
    },
    "papermill": {
     "duration": 0.050447,
     "end_time": "2023-01-06T07:08:57.075193",
     "exception": false,
     "start_time": "2023-01-06T07:08:57.024746",
     "status": "completed"
    },
    "tags": []
   },
   "outputs": [
    {
     "name": "stdout",
     "output_type": "stream",
     "text": [
      "<class 'pandas.core.frame.DataFrame'>\n",
      "RangeIndex: 5512 entries, 0 to 5511\n",
      "Data columns (total 12 columns):\n",
      " #   Column        Non-Null Count  Dtype  \n",
      "---  ------        --------------  -----  \n",
      " 0   Unnamed: 0    5512 non-null   int64  \n",
      " 1   Brand         5512 non-null   object \n",
      " 2   car_name      5512 non-null   object \n",
      " 3   car_prices    5512 non-null   float64\n",
      " 4   multiply NT   5512 non-null   object \n",
      " 5   kms_driven    5512 non-null   int64  \n",
      " 6   fuel_type     5512 non-null   object \n",
      " 7   transmission  5512 non-null   object \n",
      " 8   ownership     5512 non-null   int64  \n",
      " 9   manufacture   5512 non-null   int64  \n",
      " 10  engine        5512 non-null   int64  \n",
      " 11  Seats         5512 non-null   int64  \n",
      "dtypes: float64(1), int64(6), object(5)\n",
      "memory usage: 516.9+ KB\n"
     ]
    }
   ],
   "source": [
    "df.info()"
   ]
  },
  {
   "cell_type": "markdown",
   "id": "37a127f6",
   "metadata": {
    "papermill": {
     "duration": 0.021459,
     "end_time": "2023-01-06T07:08:57.119789",
     "exception": false,
     "start_time": "2023-01-06T07:08:57.098330",
     "status": "completed"
    },
    "tags": []
   },
   "source": [
    "## Data Preprocessing - Complex"
   ]
  },
  {
   "cell_type": "markdown",
   "id": "590fda54",
   "metadata": {
    "papermill": {
     "duration": 0.021597,
     "end_time": "2023-01-06T07:08:57.165495",
     "exception": false,
     "start_time": "2023-01-06T07:08:57.143898",
     "status": "completed"
    },
    "tags": []
   },
   "source": [
    "### 1. Engine Size  \n",
    "According to the classification of Vehicle License Tax (9 seats below) in Taiwan, we can differentiate the \"engine\" data into several levels"
   ]
  },
  {
   "attachments": {
    "3194e4e0-434f-4da5-8af8-d85fcce5d3d1.png": {
     "image/png": "[encoded data removed]"
    }
   },
   "cell_type": "markdown",
   "id": "2dc3db5c",
   "metadata": {
    "papermill": {
     "duration": 0.022257,
     "end_time": "2023-01-06T07:08:57.210026",
     "exception": false,
     "start_time": "2023-01-06T07:08:57.187769",
     "status": "completed"
    },
    "tags": []
   },
   "source": [
    "![image.png](attachment:3194e4e0-434f-4da5-8af8-d85fcce5d3d1.png)"
   ]
  },
  {
   "cell_type": "code",
   "execution_count": 12,
   "id": "79badc25",
   "metadata": {
    "execution": {
     "iopub.execute_input": "2023-01-06T07:08:57.258875Z",
     "iopub.status.busy": "2023-01-06T07:08:57.258422Z",
     "iopub.status.idle": "2023-01-06T07:08:57.288126Z",
     "shell.execute_reply": "2023-01-06T07:08:57.286018Z"
    },
    "papermill": {
     "duration": 0.056314,
     "end_time": "2023-01-06T07:08:57.291133",
     "exception": false,
     "start_time": "2023-01-06T07:08:57.234819",
     "status": "completed"
    },
    "tags": []
   },
   "outputs": [
    {
     "data": {
      "text/html": [
       "<div>\n",
       "<style scoped>\n",
       "    .dataframe tbody tr th:only-of-type {\n",
       "        vertical-align: middle;\n",
       "    }\n",
       "\n",
       "    .dataframe tbody tr th {\n",
       "        vertical-align: top;\n",
       "    }\n",
       "\n",
       "    .dataframe thead th {\n",
       "        text-align: right;\n",
       "    }\n",
       "</style>\n",
       "<table border=\"1\" class=\"dataframe\">\n",
       "  <thead>\n",
       "    <tr style=\"text-align: right;\">\n",
       "      <th></th>\n",
       "      <th>Unnamed: 0</th>\n",
       "      <th>Brand</th>\n",
       "      <th>car_name</th>\n",
       "      <th>car_prices</th>\n",
       "      <th>multiply NT</th>\n",
       "      <th>kms_driven</th>\n",
       "      <th>fuel_type</th>\n",
       "      <th>transmission</th>\n",
       "      <th>ownership</th>\n",
       "      <th>manufacture</th>\n",
       "      <th>engine</th>\n",
       "      <th>Seats</th>\n",
       "    </tr>\n",
       "  </thead>\n",
       "  <tbody>\n",
       "    <tr>\n",
       "      <th>288</th>\n",
       "      <td>288</td>\n",
       "      <td>Tata</td>\n",
       "      <td>Nexon EV Prime XZ Plus LUX</td>\n",
       "      <td>15.55</td>\n",
       "      <td>10K</td>\n",
       "      <td>24374</td>\n",
       "      <td>Electric</td>\n",
       "      <td>Automatic</td>\n",
       "      <td>1</td>\n",
       "      <td>2021</td>\n",
       "      <td>0</td>\n",
       "      <td>5</td>\n",
       "    </tr>\n",
       "    <tr>\n",
       "      <th>311</th>\n",
       "      <td>311</td>\n",
       "      <td>Mahindra</td>\n",
       "      <td>e2o T2</td>\n",
       "      <td>11.94</td>\n",
       "      <td>10K</td>\n",
       "      <td>54112</td>\n",
       "      <td>Electric</td>\n",
       "      <td>Automatic</td>\n",
       "      <td>1</td>\n",
       "      <td>2014</td>\n",
       "      <td>0</td>\n",
       "      <td>5</td>\n",
       "    </tr>\n",
       "    <tr>\n",
       "      <th>630</th>\n",
       "      <td>630</td>\n",
       "      <td>BMW</td>\n",
       "      <td>X1 sDrive 20d xLine</td>\n",
       "      <td>162.72</td>\n",
       "      <td>10K</td>\n",
       "      <td>22000</td>\n",
       "      <td>Diesel</td>\n",
       "      <td>Automatic</td>\n",
       "      <td>1</td>\n",
       "      <td>2020</td>\n",
       "      <td>0</td>\n",
       "      <td>5</td>\n",
       "    </tr>\n",
       "    <tr>\n",
       "      <th>746</th>\n",
       "      <td>746</td>\n",
       "      <td>Maruti</td>\n",
       "      <td>Wagon R VXI BS IV</td>\n",
       "      <td>8.78</td>\n",
       "      <td>10K</td>\n",
       "      <td>100527</td>\n",
       "      <td>Petrol</td>\n",
       "      <td>Manual</td>\n",
       "      <td>1</td>\n",
       "      <td>2012</td>\n",
       "      <td>0</td>\n",
       "      <td>5</td>\n",
       "    </tr>\n",
       "    <tr>\n",
       "      <th>1212</th>\n",
       "      <td>1212</td>\n",
       "      <td>Tata</td>\n",
       "      <td>Harrier XM</td>\n",
       "      <td>46.86</td>\n",
       "      <td>10K</td>\n",
       "      <td>33500</td>\n",
       "      <td>Diesel</td>\n",
       "      <td>Manual</td>\n",
       "      <td>1</td>\n",
       "      <td>2019</td>\n",
       "      <td>0</td>\n",
       "      <td>5</td>\n",
       "    </tr>\n",
       "    <tr>\n",
       "      <th>1548</th>\n",
       "      <td>1548</td>\n",
       "      <td>Renault</td>\n",
       "      <td>KWID Climber 1.0 AMT BSIV</td>\n",
       "      <td>17.48</td>\n",
       "      <td>10K</td>\n",
       "      <td>30000</td>\n",
       "      <td>Petrol</td>\n",
       "      <td>Automatic</td>\n",
       "      <td>1</td>\n",
       "      <td>2019</td>\n",
       "      <td>0</td>\n",
       "      <td>5</td>\n",
       "    </tr>\n",
       "    <tr>\n",
       "      <th>1758</th>\n",
       "      <td>1758</td>\n",
       "      <td>Honda</td>\n",
       "      <td>City i-VTEC CVT VX</td>\n",
       "      <td>35.33</td>\n",
       "      <td>10K</td>\n",
       "      <td>65855</td>\n",
       "      <td>Petrol</td>\n",
       "      <td>Automatic</td>\n",
       "      <td>1</td>\n",
       "      <td>2019</td>\n",
       "      <td>0</td>\n",
       "      <td>5</td>\n",
       "    </tr>\n",
       "    <tr>\n",
       "      <th>1944</th>\n",
       "      <td>1944</td>\n",
       "      <td>Honda</td>\n",
       "      <td>City E</td>\n",
       "      <td>11.16</td>\n",
       "      <td>10K</td>\n",
       "      <td>77132</td>\n",
       "      <td>Petrol</td>\n",
       "      <td>Manual</td>\n",
       "      <td>1</td>\n",
       "      <td>2012</td>\n",
       "      <td>0</td>\n",
       "      <td>5</td>\n",
       "    </tr>\n",
       "    <tr>\n",
       "      <th>1968</th>\n",
       "      <td>1968</td>\n",
       "      <td>Kia</td>\n",
       "      <td>Seltos HTE D</td>\n",
       "      <td>43.96</td>\n",
       "      <td>10K</td>\n",
       "      <td>35343</td>\n",
       "      <td>Diesel</td>\n",
       "      <td>Manual</td>\n",
       "      <td>1</td>\n",
       "      <td>2021</td>\n",
       "      <td>0</td>\n",
       "      <td>5</td>\n",
       "    </tr>\n",
       "    <tr>\n",
       "      <th>2175</th>\n",
       "      <td>2175</td>\n",
       "      <td>Honda</td>\n",
       "      <td>CR-V 2.0L 2WD AT</td>\n",
       "      <td>57.65</td>\n",
       "      <td>10K</td>\n",
       "      <td>74000</td>\n",
       "      <td>Petrol</td>\n",
       "      <td>Automatic</td>\n",
       "      <td>1</td>\n",
       "      <td>2016</td>\n",
       "      <td>0</td>\n",
       "      <td>7</td>\n",
       "    </tr>\n",
       "    <tr>\n",
       "      <th>4745</th>\n",
       "      <td>4745</td>\n",
       "      <td>Hyundai</td>\n",
       "      <td>Xcent 1.2 CRDi SX</td>\n",
       "      <td>23.25</td>\n",
       "      <td>10K</td>\n",
       "      <td>42000</td>\n",
       "      <td>Diesel</td>\n",
       "      <td>Manual</td>\n",
       "      <td>1</td>\n",
       "      <td>2018</td>\n",
       "      <td>0</td>\n",
       "      <td>5</td>\n",
       "    </tr>\n",
       "    <tr>\n",
       "      <th>5254</th>\n",
       "      <td>5254</td>\n",
       "      <td>Ford</td>\n",
       "      <td>Ecosport 1.5 DV5 MT Titanium</td>\n",
       "      <td>17.67</td>\n",
       "      <td>10K</td>\n",
       "      <td>62500</td>\n",
       "      <td>Diesel</td>\n",
       "      <td>Manual</td>\n",
       "      <td>1</td>\n",
       "      <td>2015</td>\n",
       "      <td>0</td>\n",
       "      <td>5</td>\n",
       "    </tr>\n",
       "  </tbody>\n",
       "</table>\n",
       "</div>"
      ],
      "text/plain": [
       "      Unnamed: 0     Brand                      car_name  car_prices  \\\n",
       "288          288      Tata    Nexon EV Prime XZ Plus LUX       15.55   \n",
       "311          311  Mahindra                        e2o T2       11.94   \n",
       "630          630       BMW           X1 sDrive 20d xLine      162.72   \n",
       "746          746    Maruti             Wagon R VXI BS IV        8.78   \n",
       "1212        1212      Tata                    Harrier XM       46.86   \n",
       "1548        1548   Renault     KWID Climber 1.0 AMT BSIV       17.48   \n",
       "1758        1758     Honda            City i-VTEC CVT VX       35.33   \n",
       "1944        1944     Honda                        City E       11.16   \n",
       "1968        1968       Kia                  Seltos HTE D       43.96   \n",
       "2175        2175     Honda              CR-V 2.0L 2WD AT       57.65   \n",
       "4745        4745   Hyundai             Xcent 1.2 CRDi SX       23.25   \n",
       "5254        5254      Ford  Ecosport 1.5 DV5 MT Titanium       17.67   \n",
       "\n",
       "     multiply NT  kms_driven fuel_type transmission  ownership  manufacture  \\\n",
       "288          10K       24374  Electric    Automatic          1         2021   \n",
       "311          10K       54112  Electric    Automatic          1         2014   \n",
       "630          10K       22000    Diesel    Automatic          1         2020   \n",
       "746          10K      100527    Petrol       Manual          1         2012   \n",
       "1212         10K       33500    Diesel       Manual          1         2019   \n",
       "1548         10K       30000    Petrol    Automatic          1         2019   \n",
       "1758         10K       65855    Petrol    Automatic          1         2019   \n",
       "1944         10K       77132    Petrol       Manual          1         2012   \n",
       "1968         10K       35343    Diesel       Manual          1         2021   \n",
       "2175         10K       74000    Petrol    Automatic          1         2016   \n",
       "4745         10K       42000    Diesel       Manual          1         2018   \n",
       "5254         10K       62500    Diesel       Manual          1         2015   \n",
       "\n",
       "      engine  Seats  \n",
       "288        0      5  \n",
       "311        0      5  \n",
       "630        0      5  \n",
       "746        0      5  \n",
       "1212       0      5  \n",
       "1548       0      5  \n",
       "1758       0      5  \n",
       "1944       0      5  \n",
       "1968       0      5  \n",
       "2175       0      7  \n",
       "4745       0      5  \n",
       "5254       0      5  "
      ]
     },
     "execution_count": 12,
     "metadata": {},
     "output_type": "execute_result"
    }
   ],
   "source": [
    "#There are some data have no \"engine\" information, their data show \"0\".  \n",
    "df[df[\"engine\"]==0]"
   ]
  },
  {
   "cell_type": "code",
   "execution_count": 13,
   "id": "e9d626b5",
   "metadata": {
    "execution": {
     "iopub.execute_input": "2023-01-06T07:08:57.342220Z",
     "iopub.status.busy": "2023-01-06T07:08:57.340964Z",
     "iopub.status.idle": "2023-01-06T07:08:57.353702Z",
     "shell.execute_reply": "2023-01-06T07:08:57.351247Z"
    },
    "papermill": {
     "duration": 0.042044,
     "end_time": "2023-01-06T07:08:57.357092",
     "exception": false,
     "start_time": "2023-01-06T07:08:57.315048",
     "status": "completed"
    },
    "tags": []
   },
   "outputs": [
    {
     "name": "stdout",
     "output_type": "stream",
     "text": [
      "min: 624 max: 5950\n"
     ]
    }
   ],
   "source": [
    "#Find out the range of \"engine\"\n",
    "print(\"min:\",df[df[\"engine\"]!=0][\"engine\"].min(),\"max:\",df[\"engine\"].max())"
   ]
  },
  {
   "cell_type": "code",
   "execution_count": 14,
   "id": "78e82137",
   "metadata": {
    "execution": {
     "iopub.execute_input": "2023-01-06T07:08:57.405859Z",
     "iopub.status.busy": "2023-01-06T07:08:57.405336Z",
     "iopub.status.idle": "2023-01-06T07:08:59.242638Z",
     "shell.execute_reply": "2023-01-06T07:08:59.241014Z"
    },
    "papermill": {
     "duration": 1.866409,
     "end_time": "2023-01-06T07:08:59.245707",
     "exception": false,
     "start_time": "2023-01-06T07:08:57.379298",
     "status": "completed"
    },
    "tags": []
   },
   "outputs": [
    {
     "data": {
      "text/html": [
       "<div>\n",
       "<style scoped>\n",
       "    .dataframe tbody tr th:only-of-type {\n",
       "        vertical-align: middle;\n",
       "    }\n",
       "\n",
       "    .dataframe tbody tr th {\n",
       "        vertical-align: top;\n",
       "    }\n",
       "\n",
       "    .dataframe thead th {\n",
       "        text-align: right;\n",
       "    }\n",
       "</style>\n",
       "<table border=\"1\" class=\"dataframe\">\n",
       "  <thead>\n",
       "    <tr style=\"text-align: right;\">\n",
       "      <th></th>\n",
       "      <th>Unnamed: 0</th>\n",
       "      <th>Brand</th>\n",
       "      <th>car_name</th>\n",
       "      <th>car_prices</th>\n",
       "      <th>multiply NT</th>\n",
       "      <th>kms_driven</th>\n",
       "      <th>fuel_type</th>\n",
       "      <th>transmission</th>\n",
       "      <th>ownership</th>\n",
       "      <th>manufacture</th>\n",
       "      <th>engine</th>\n",
       "      <th>engine_class</th>\n",
       "      <th>Seats</th>\n",
       "    </tr>\n",
       "  </thead>\n",
       "  <tbody>\n",
       "    <tr>\n",
       "      <th>663</th>\n",
       "      <td>663</td>\n",
       "      <td>Volkswagen</td>\n",
       "      <td>Polo 1.5 TDI Comfortline</td>\n",
       "      <td>14.62</td>\n",
       "      <td>10K</td>\n",
       "      <td>71033</td>\n",
       "      <td>Diesel</td>\n",
       "      <td>Manual</td>\n",
       "      <td>2</td>\n",
       "      <td>2014</td>\n",
       "      <td>1248</td>\n",
       "      <td>2</td>\n",
       "      <td>5</td>\n",
       "    </tr>\n",
       "    <tr>\n",
       "      <th>4062</th>\n",
       "      <td>4062</td>\n",
       "      <td>Hyundai</td>\n",
       "      <td>Venue S Plus</td>\n",
       "      <td>29.31</td>\n",
       "      <td>10K</td>\n",
       "      <td>16591</td>\n",
       "      <td>Petrol</td>\n",
       "      <td>Manual</td>\n",
       "      <td>1</td>\n",
       "      <td>2021</td>\n",
       "      <td>796</td>\n",
       "      <td>1</td>\n",
       "      <td>5</td>\n",
       "    </tr>\n",
       "    <tr>\n",
       "      <th>187</th>\n",
       "      <td>187</td>\n",
       "      <td>Hyundai</td>\n",
       "      <td>Grand i10 1.2 Kappa Sportz Option AT</td>\n",
       "      <td>23.25</td>\n",
       "      <td>10K</td>\n",
       "      <td>28387</td>\n",
       "      <td>Petrol</td>\n",
       "      <td>Automatic</td>\n",
       "      <td>1</td>\n",
       "      <td>2019</td>\n",
       "      <td>1197</td>\n",
       "      <td>1</td>\n",
       "      <td>5</td>\n",
       "    </tr>\n",
       "    <tr>\n",
       "      <th>3508</th>\n",
       "      <td>3508</td>\n",
       "      <td>MG</td>\n",
       "      <td>Hector Sharp CVT</td>\n",
       "      <td>66.09</td>\n",
       "      <td>10K</td>\n",
       "      <td>11081</td>\n",
       "      <td>Petrol</td>\n",
       "      <td>Automatic</td>\n",
       "      <td>1</td>\n",
       "      <td>2021</td>\n",
       "      <td>1995</td>\n",
       "      <td>3</td>\n",
       "      <td>5</td>\n",
       "    </tr>\n",
       "    <tr>\n",
       "      <th>934</th>\n",
       "      <td>934</td>\n",
       "      <td>Maruti</td>\n",
       "      <td>Zen Estilo 1.1 LX BSIII</td>\n",
       "      <td>3.29</td>\n",
       "      <td>10K</td>\n",
       "      <td>29081</td>\n",
       "      <td>Petrol</td>\n",
       "      <td>Manual</td>\n",
       "      <td>3</td>\n",
       "      <td>2006</td>\n",
       "      <td>2179</td>\n",
       "      <td>3</td>\n",
       "      <td>5</td>\n",
       "    </tr>\n",
       "  </tbody>\n",
       "</table>\n",
       "</div>"
      ],
      "text/plain": [
       "      Unnamed: 0       Brand                              car_name  \\\n",
       "663          663  Volkswagen              Polo 1.5 TDI Comfortline   \n",
       "4062        4062     Hyundai                          Venue S Plus   \n",
       "187          187     Hyundai  Grand i10 1.2 Kappa Sportz Option AT   \n",
       "3508        3508          MG                      Hector Sharp CVT   \n",
       "934          934      Maruti               Zen Estilo 1.1 LX BSIII   \n",
       "\n",
       "      car_prices multiply NT  kms_driven fuel_type transmission  ownership  \\\n",
       "663        14.62         10K       71033    Diesel       Manual          2   \n",
       "4062       29.31         10K       16591    Petrol       Manual          1   \n",
       "187        23.25         10K       28387    Petrol    Automatic          1   \n",
       "3508       66.09         10K       11081    Petrol    Automatic          1   \n",
       "934         3.29         10K       29081    Petrol       Manual          3   \n",
       "\n",
       "      manufacture  engine engine_class  Seats  \n",
       "663          2014    1248            2      5  \n",
       "4062         2021     796            1      5  \n",
       "187          2019    1197            1      5  \n",
       "3508         2021    1995            3      5  \n",
       "934          2006    2179            3      5  "
      ]
     },
     "execution_count": 14,
     "metadata": {},
     "output_type": "execute_result"
    }
   ],
   "source": [
    "df.insert(11,\"engine_class\",\"\")\n",
    "for i,size in enumerate (df[\"engine\"]):\n",
    "    if size == 0:\n",
    "        df[\"engine_class\"][i] = 0\n",
    "    elif size <=1200:\n",
    "        df[\"engine_class\"][i] = 1\n",
    "    elif 1201<= size <=1800:\n",
    "        df[\"engine_class\"][i] = 2\n",
    "    elif 1801<= size <=2400:\n",
    "        df[\"engine_class\"][i] = 3\n",
    "    elif 2401<= size <=3000:\n",
    "        df[\"engine_class\"][i] = 4\n",
    "    elif 3001<= size <=4200:\n",
    "        df[\"engine_class\"][i] = 5\n",
    "    elif 4201<= size <=5400:\n",
    "        df[\"engine_class\"][i] = 6\n",
    "    elif 5401<= size <=6600:\n",
    "        df[\"engine_class\"][i] = 7\n",
    "df.sample(5)"
   ]
  },
  {
   "cell_type": "code",
   "execution_count": 15,
   "id": "ae3b65a7",
   "metadata": {
    "execution": {
     "iopub.execute_input": "2023-01-06T07:08:59.295208Z",
     "iopub.status.busy": "2023-01-06T07:08:59.294639Z",
     "iopub.status.idle": "2023-01-06T07:08:59.301273Z",
     "shell.execute_reply": "2023-01-06T07:08:59.299237Z"
    },
    "papermill": {
     "duration": 0.034826,
     "end_time": "2023-01-06T07:08:59.305121",
     "exception": false,
     "start_time": "2023-01-06T07:08:59.270295",
     "status": "completed"
    },
    "tags": []
   },
   "outputs": [],
   "source": [
    "# #Cause there is no duplicated material in this data, I decide to drop those information which df[\"engine\"]==0\n",
    "# df.drop(df[df[\"engine\"]==0].index, inplace = True )\n",
    "# df[df[\"engine\"]==0]  "
   ]
  },
  {
   "cell_type": "markdown",
   "id": "d312964c",
   "metadata": {
    "papermill": {
     "duration": 0.024654,
     "end_time": "2023-01-06T07:08:59.355148",
     "exception": false,
     "start_time": "2023-01-06T07:08:59.330494",
     "status": "completed"
    },
    "tags": []
   },
   "source": [
    "### 2. Brand Value  \n",
    "According to the information onlie, we can also differentiate the \"Band\" data into several levels\n"
   ]
  },
  {
   "cell_type": "markdown",
   "id": "72c237c5",
   "metadata": {
    "papermill": {
     "duration": 0.022641,
     "end_time": "2023-01-06T07:08:59.402578",
     "exception": false,
     "start_time": "2023-01-06T07:08:59.379937",
     "status": "completed"
    },
    "tags": []
   },
   "source": [
    "參考資料 References    \n",
    "TOP 《旗艦品牌》→金字塔\"頂端\"族群  \n",
    "ROLLSROYCE(勞斯萊斯)、FERRARI(法拉利)、BENTLEY(賓利)、Lamborghini(藍寶堅尼)、ASTON MARTIN(亞斯頓馬汀)、MAYBACH(麥巴赫)、SALEEN(撒林)、BUGATTI(布嘉蒂)、MASERATI(瑪莎拉蒂)...\n",
    "\n",
    "Premium《頂級品牌》→金字塔\"上層\"族群  \n",
    "LEXUS(凌志)、Mercedes-Benz(賓士)、BMW(寶馬)、AUDI(奧迪)、JAGUAR(積架)、INFINITI(極限)、PORSCHE(保時捷)、LAND ROVER(陸虎、路華)、CADILLAC(凱迪拉克)、LINCOLN(林肯)、LOTUS(蓮花)  \n",
    "\n",
    "Medium《中階品牌》→金字塔\"中層\"族群  \n",
    "VOLVO(富豪)、SAAB(紳寶)、VW(福斯)、ACURA(謳歌)、JEEP(吉普)、SSANG YONG(雙龍)、BUICK(別克)、PEUGEOT(標誌)、RENALT(雷諾)、CHRYSLER(克萊斯勒)、MINI(迷你)、SMART(司麥特)、CITROEN(雪鐵龍)、KIA(起亞)  \n",
    "\n",
    "Normal入門品牌  →金字塔\"下層\"族群\n",
    "TOYOTA(豐田)、NISSAN(日產)、MITSUBISHI(三菱)、MAZDA(馬自達)、FORD(福特)、HYUNDAI(現代)、SUBARU(速罷陸)、ISUZU(五十鈴)、OPEL(歐寶)、SUZUKI(鈴木)、FORMOSA(台塑)、HONDA(本田)"
   ]
  },
  {
   "cell_type": "code",
   "execution_count": 16,
   "id": "e0343d14",
   "metadata": {
    "execution": {
     "iopub.execute_input": "2023-01-06T07:08:59.452685Z",
     "iopub.status.busy": "2023-01-06T07:08:59.451908Z",
     "iopub.status.idle": "2023-01-06T07:09:01.353330Z",
     "shell.execute_reply": "2023-01-06T07:09:01.352375Z"
    },
    "papermill": {
     "duration": 1.929062,
     "end_time": "2023-01-06T07:09:01.356513",
     "exception": false,
     "start_time": "2023-01-06T07:08:59.427451",
     "status": "completed"
    },
    "tags": []
   },
   "outputs": [
    {
     "data": {
      "text/plain": [
       "0    4337\n",
       "2     793\n",
       "1     376\n",
       "3       6\n",
       "Name: Brand_lv, dtype: int64"
      ]
     },
     "execution_count": 16,
     "metadata": {},
     "output_type": "execute_result"
    }
   ],
   "source": [
    "car_brand = {'LV1':[\"Toyota\",\"Nissan\",\"Mitsubishi\",\"Ford\",\"Hyundai\",\"Isuzu\",\"Honda\",\"Datsun\",\"Fiat\",\"Kia\",\"MG\",\"Mahindra\",\"Maruti\",\"Premier\",\"Tata\",\"Renault\",\"Force\"],\n",
    "             'LV2':[\"Jeep\",\"Lexus\",\"Mini\",\"Skoda\",\"Volkswagen\",\"Volvo\"],\n",
    "             'LV3':[\"Audi\",\"BMW\",\"Chevrolet\",\"Jaguar\",\"Land\",\"Mercedes-Benz\",\"Porsche\"],\n",
    "             'LV4':[\"Bentley\",\"Maserati\"]}\n",
    "\n",
    "df.insert(2,\"Brand_lv\",\"\")\n",
    "for i,brand in enumerate (df[\"Brand\"]):\n",
    "    if brand in car_brand['LV1']:\n",
    "        df[\"Brand_lv\"][i] = 0\n",
    "    elif brand in car_brand['LV2']:\n",
    "        df[\"Brand_lv\"][i] = 1\n",
    "    elif brand in car_brand['LV3']:\n",
    "        df[\"Brand_lv\"][i] = 2\n",
    "    elif brand in car_brand['LV4']:\n",
    "        df[\"Brand_lv\"][i] = 3\n",
    "    else:\n",
    "        print(brand)\n",
    "    \n",
    "df[\"Brand_lv\"].value_counts()"
   ]
  },
  {
   "cell_type": "markdown",
   "id": "c47118d4",
   "metadata": {
    "papermill": {
     "duration": 0.021542,
     "end_time": "2023-01-06T07:09:01.400577",
     "exception": false,
     "start_time": "2023-01-06T07:09:01.379035",
     "status": "completed"
    },
    "tags": []
   },
   "source": [
    "### 3. Mapping fuel_type and transmission\n"
   ]
  },
  {
   "cell_type": "code",
   "execution_count": 17,
   "id": "7d4fc1bd",
   "metadata": {
    "execution": {
     "iopub.execute_input": "2023-01-06T07:09:01.451623Z",
     "iopub.status.busy": "2023-01-06T07:09:01.450485Z",
     "iopub.status.idle": "2023-01-06T07:09:01.459016Z",
     "shell.execute_reply": "2023-01-06T07:09:01.456372Z"
    },
    "papermill": {
     "duration": 0.039119,
     "end_time": "2023-01-06T07:09:01.463948",
     "exception": false,
     "start_time": "2023-01-06T07:09:01.424829",
     "status": "completed"
    },
    "tags": []
   },
   "outputs": [],
   "source": [
    "# df[\"fuel_type\"] = df[\"fuel_type\"].map({\"Petrol\":0,\"Diesel\":1,\"Cng\":2,\"Lpg\":3,\"Electric\":4})\n",
    "# df[\"transmission\"] = df[\"transmission\"].map({\"Manual\":0,\"Automatic\":1})\n",
    "# df.head()"
   ]
  },
  {
   "cell_type": "markdown",
   "id": "97a09f1b",
   "metadata": {
    "papermill": {
     "duration": 0.021703,
     "end_time": "2023-01-06T07:09:01.508855",
     "exception": false,
     "start_time": "2023-01-06T07:09:01.487152",
     "status": "completed"
    },
    "tags": []
   },
   "source": [
    "### 4. Convert the \"manufacture\" year into car's unsing age "
   ]
  },
  {
   "cell_type": "code",
   "execution_count": 18,
   "id": "361a64ce",
   "metadata": {
    "execution": {
     "iopub.execute_input": "2023-01-06T07:09:01.563731Z",
     "iopub.status.busy": "2023-01-06T07:09:01.562951Z",
     "iopub.status.idle": "2023-01-06T07:09:01.585473Z",
     "shell.execute_reply": "2023-01-06T07:09:01.583585Z"
    },
    "papermill": {
     "duration": 0.053043,
     "end_time": "2023-01-06T07:09:01.588495",
     "exception": false,
     "start_time": "2023-01-06T07:09:01.535452",
     "status": "completed"
    },
    "tags": []
   },
   "outputs": [
    {
     "data": {
      "text/html": [
       "<div>\n",
       "<style scoped>\n",
       "    .dataframe tbody tr th:only-of-type {\n",
       "        vertical-align: middle;\n",
       "    }\n",
       "\n",
       "    .dataframe tbody tr th {\n",
       "        vertical-align: top;\n",
       "    }\n",
       "\n",
       "    .dataframe thead th {\n",
       "        text-align: right;\n",
       "    }\n",
       "</style>\n",
       "<table border=\"1\" class=\"dataframe\">\n",
       "  <thead>\n",
       "    <tr style=\"text-align: right;\">\n",
       "      <th></th>\n",
       "      <th>Unnamed: 0</th>\n",
       "      <th>Brand</th>\n",
       "      <th>Brand_lv</th>\n",
       "      <th>car_name</th>\n",
       "      <th>car_prices</th>\n",
       "      <th>multiply NT</th>\n",
       "      <th>kms_driven</th>\n",
       "      <th>fuel_type</th>\n",
       "      <th>transmission</th>\n",
       "      <th>ownership</th>\n",
       "      <th>manufacture</th>\n",
       "      <th>Age</th>\n",
       "      <th>engine</th>\n",
       "      <th>engine_class</th>\n",
       "      <th>Seats</th>\n",
       "    </tr>\n",
       "  </thead>\n",
       "  <tbody>\n",
       "    <tr>\n",
       "      <th>0</th>\n",
       "      <td>0</td>\n",
       "      <td>Jeep</td>\n",
       "      <td>1</td>\n",
       "      <td>Compass 2.0 Longitude Option BSIV</td>\n",
       "      <td>37.30</td>\n",
       "      <td>10K</td>\n",
       "      <td>86226</td>\n",
       "      <td>Diesel</td>\n",
       "      <td>Manual</td>\n",
       "      <td>1</td>\n",
       "      <td>2017</td>\n",
       "      <td>6</td>\n",
       "      <td>1956</td>\n",
       "      <td>3</td>\n",
       "      <td>5</td>\n",
       "    </tr>\n",
       "    <tr>\n",
       "      <th>1</th>\n",
       "      <td>1</td>\n",
       "      <td>Renault</td>\n",
       "      <td>0</td>\n",
       "      <td>Duster RXZ Turbo CVT</td>\n",
       "      <td>47.72</td>\n",
       "      <td>10K</td>\n",
       "      <td>13248</td>\n",
       "      <td>Petrol</td>\n",
       "      <td>Automatic</td>\n",
       "      <td>1</td>\n",
       "      <td>2021</td>\n",
       "      <td>2</td>\n",
       "      <td>1330</td>\n",
       "      <td>2</td>\n",
       "      <td>5</td>\n",
       "    </tr>\n",
       "    <tr>\n",
       "      <th>2</th>\n",
       "      <td>2</td>\n",
       "      <td>Toyota</td>\n",
       "      <td>0</td>\n",
       "      <td>Camry 2.5 G</td>\n",
       "      <td>61.00</td>\n",
       "      <td>10K</td>\n",
       "      <td>60343</td>\n",
       "      <td>Petrol</td>\n",
       "      <td>Automatic</td>\n",
       "      <td>1</td>\n",
       "      <td>2016</td>\n",
       "      <td>7</td>\n",
       "      <td>2494</td>\n",
       "      <td>4</td>\n",
       "      <td>5</td>\n",
       "    </tr>\n",
       "    <tr>\n",
       "      <th>3</th>\n",
       "      <td>3</td>\n",
       "      <td>Honda</td>\n",
       "      <td>0</td>\n",
       "      <td>Jazz VX CVT</td>\n",
       "      <td>28.90</td>\n",
       "      <td>10K</td>\n",
       "      <td>26696</td>\n",
       "      <td>Petrol</td>\n",
       "      <td>Automatic</td>\n",
       "      <td>1</td>\n",
       "      <td>2018</td>\n",
       "      <td>5</td>\n",
       "      <td>1199</td>\n",
       "      <td>1</td>\n",
       "      <td>5</td>\n",
       "    </tr>\n",
       "    <tr>\n",
       "      <th>4</th>\n",
       "      <td>4</td>\n",
       "      <td>Volkswagen</td>\n",
       "      <td>1</td>\n",
       "      <td>Polo 1.2 MPI Highline</td>\n",
       "      <td>19.15</td>\n",
       "      <td>10K</td>\n",
       "      <td>69414</td>\n",
       "      <td>Petrol</td>\n",
       "      <td>Manual</td>\n",
       "      <td>1</td>\n",
       "      <td>2016</td>\n",
       "      <td>7</td>\n",
       "      <td>1199</td>\n",
       "      <td>1</td>\n",
       "      <td>5</td>\n",
       "    </tr>\n",
       "  </tbody>\n",
       "</table>\n",
       "</div>"
      ],
      "text/plain": [
       "   Unnamed: 0       Brand Brand_lv                           car_name  \\\n",
       "0           0        Jeep        1  Compass 2.0 Longitude Option BSIV   \n",
       "1           1     Renault        0               Duster RXZ Turbo CVT   \n",
       "2           2      Toyota        0                        Camry 2.5 G   \n",
       "3           3       Honda        0                        Jazz VX CVT   \n",
       "4           4  Volkswagen        1              Polo 1.2 MPI Highline   \n",
       "\n",
       "   car_prices multiply NT  kms_driven fuel_type transmission  ownership  \\\n",
       "0       37.30         10K       86226    Diesel       Manual          1   \n",
       "1       47.72         10K       13248    Petrol    Automatic          1   \n",
       "2       61.00         10K       60343    Petrol    Automatic          1   \n",
       "3       28.90         10K       26696    Petrol    Automatic          1   \n",
       "4       19.15         10K       69414    Petrol       Manual          1   \n",
       "\n",
       "   manufacture  Age  engine engine_class  Seats  \n",
       "0         2017    6    1956            3      5  \n",
       "1         2021    2    1330            2      5  \n",
       "2         2016    7    2494            4      5  \n",
       "3         2018    5    1199            1      5  \n",
       "4         2016    7    1199            1      5  "
      ]
     },
     "execution_count": 18,
     "metadata": {},
     "output_type": "execute_result"
    }
   ],
   "source": [
    "df.insert(11,\"Age\",\"\")\n",
    "df[\"Age\"] = 2023 - df[\"manufacture\"]\n",
    "df.head()"
   ]
  },
  {
   "cell_type": "markdown",
   "id": "12f744f5",
   "metadata": {
    "papermill": {
     "duration": 0.02439,
     "end_time": "2023-01-06T07:09:01.638857",
     "exception": false,
     "start_time": "2023-01-06T07:09:01.614467",
     "status": "completed"
    },
    "tags": []
   },
   "source": [
    "### 5. Transform the data type into numeric"
   ]
  },
  {
   "cell_type": "code",
   "execution_count": 19,
   "id": "ea62f03b",
   "metadata": {
    "execution": {
     "iopub.execute_input": "2023-01-06T07:09:01.691747Z",
     "iopub.status.busy": "2023-01-06T07:09:01.691172Z",
     "iopub.status.idle": "2023-01-06T07:09:01.702797Z",
     "shell.execute_reply": "2023-01-06T07:09:01.700873Z"
    },
    "papermill": {
     "duration": 0.042528,
     "end_time": "2023-01-06T07:09:01.705672",
     "exception": false,
     "start_time": "2023-01-06T07:09:01.663144",
     "status": "completed"
    },
    "tags": []
   },
   "outputs": [],
   "source": [
    "df[\"Brand_lv\"]= df[\"Brand_lv\"].astype(\"int\")\n",
    "df[\"Age\"]= df[\"Age\"].astype(\"int\")\n",
    "df[\"engine_class\"]= df[\"engine_class\"].astype(\"int\")"
   ]
  },
  {
   "cell_type": "code",
   "execution_count": 20,
   "id": "06276231",
   "metadata": {
    "execution": {
     "iopub.execute_input": "2023-01-06T07:09:01.761187Z",
     "iopub.status.busy": "2023-01-06T07:09:01.759989Z",
     "iopub.status.idle": "2023-01-06T07:09:01.777119Z",
     "shell.execute_reply": "2023-01-06T07:09:01.775353Z"
    },
    "papermill": {
     "duration": 0.045491,
     "end_time": "2023-01-06T07:09:01.780430",
     "exception": false,
     "start_time": "2023-01-06T07:09:01.734939",
     "status": "completed"
    },
    "tags": []
   },
   "outputs": [
    {
     "name": "stdout",
     "output_type": "stream",
     "text": [
      "<class 'pandas.core.frame.DataFrame'>\n",
      "RangeIndex: 5512 entries, 0 to 5511\n",
      "Data columns (total 15 columns):\n",
      " #   Column        Non-Null Count  Dtype  \n",
      "---  ------        --------------  -----  \n",
      " 0   Unnamed: 0    5512 non-null   int64  \n",
      " 1   Brand         5512 non-null   object \n",
      " 2   Brand_lv      5512 non-null   int64  \n",
      " 3   car_name      5512 non-null   object \n",
      " 4   car_prices    5512 non-null   float64\n",
      " 5   multiply NT   5512 non-null   object \n",
      " 6   kms_driven    5512 non-null   int64  \n",
      " 7   fuel_type     5512 non-null   object \n",
      " 8   transmission  5512 non-null   object \n",
      " 9   ownership     5512 non-null   int64  \n",
      " 10  manufacture   5512 non-null   int64  \n",
      " 11  Age           5512 non-null   int64  \n",
      " 12  engine        5512 non-null   int64  \n",
      " 13  engine_class  5512 non-null   int64  \n",
      " 14  Seats         5512 non-null   int64  \n",
      "dtypes: float64(1), int64(9), object(5)\n",
      "memory usage: 646.1+ KB\n"
     ]
    }
   ],
   "source": [
    "df.info()"
   ]
  },
  {
   "cell_type": "markdown",
   "id": "bc44e571",
   "metadata": {
    "papermill": {
     "duration": 0.022527,
     "end_time": "2023-01-06T07:09:01.827874",
     "exception": false,
     "start_time": "2023-01-06T07:09:01.805347",
     "status": "completed"
    },
    "tags": []
   },
   "source": [
    "## Cleaning data"
   ]
  },
  {
   "cell_type": "code",
   "execution_count": 21,
   "id": "19b9d06d",
   "metadata": {
    "execution": {
     "iopub.execute_input": "2023-01-06T07:09:01.879221Z",
     "iopub.status.busy": "2023-01-06T07:09:01.878768Z",
     "iopub.status.idle": "2023-01-06T07:09:01.906813Z",
     "shell.execute_reply": "2023-01-06T07:09:01.905186Z"
    },
    "papermill": {
     "duration": 0.056626,
     "end_time": "2023-01-06T07:09:01.909850",
     "exception": false,
     "start_time": "2023-01-06T07:09:01.853224",
     "status": "completed"
    },
    "tags": []
   },
   "outputs": [
    {
     "data": {
      "text/html": [
       "<div>\n",
       "<style scoped>\n",
       "    .dataframe tbody tr th:only-of-type {\n",
       "        vertical-align: middle;\n",
       "    }\n",
       "\n",
       "    .dataframe tbody tr th {\n",
       "        vertical-align: top;\n",
       "    }\n",
       "\n",
       "    .dataframe thead th {\n",
       "        text-align: right;\n",
       "    }\n",
       "</style>\n",
       "<table border=\"1\" class=\"dataframe\">\n",
       "  <thead>\n",
       "    <tr style=\"text-align: right;\">\n",
       "      <th></th>\n",
       "      <th>Brand_lv</th>\n",
       "      <th>car_name</th>\n",
       "      <th>car_prices</th>\n",
       "      <th>multiply NT</th>\n",
       "      <th>kms_driven</th>\n",
       "      <th>fuel_type</th>\n",
       "      <th>transmission</th>\n",
       "      <th>ownership</th>\n",
       "      <th>Age</th>\n",
       "      <th>engine_class</th>\n",
       "      <th>Seats</th>\n",
       "    </tr>\n",
       "  </thead>\n",
       "  <tbody>\n",
       "    <tr>\n",
       "      <th>4427</th>\n",
       "      <td>0</td>\n",
       "      <td>Micra Active XL Petrol</td>\n",
       "      <td>9.30</td>\n",
       "      <td>10K</td>\n",
       "      <td>80000</td>\n",
       "      <td>Petrol</td>\n",
       "      <td>Manual</td>\n",
       "      <td>1</td>\n",
       "      <td>7</td>\n",
       "      <td>2</td>\n",
       "      <td>5</td>\n",
       "    </tr>\n",
       "    <tr>\n",
       "      <th>2538</th>\n",
       "      <td>0</td>\n",
       "      <td>Harrier XZ BSIV</td>\n",
       "      <td>48.35</td>\n",
       "      <td>10K</td>\n",
       "      <td>20000</td>\n",
       "      <td>Diesel</td>\n",
       "      <td>Manual</td>\n",
       "      <td>2</td>\n",
       "      <td>4</td>\n",
       "      <td>2</td>\n",
       "      <td>5</td>\n",
       "    </tr>\n",
       "    <tr>\n",
       "      <th>3329</th>\n",
       "      <td>0</td>\n",
       "      <td>New Safari Dicor EX 4X2 BS IV</td>\n",
       "      <td>12.09</td>\n",
       "      <td>10K</td>\n",
       "      <td>80000</td>\n",
       "      <td>Diesel</td>\n",
       "      <td>Manual</td>\n",
       "      <td>1</td>\n",
       "      <td>10</td>\n",
       "      <td>2</td>\n",
       "      <td>5</td>\n",
       "    </tr>\n",
       "    <tr>\n",
       "      <th>3831</th>\n",
       "      <td>0</td>\n",
       "      <td>Wagon R VXI BS IV</td>\n",
       "      <td>14.77</td>\n",
       "      <td>10K</td>\n",
       "      <td>70000</td>\n",
       "      <td>Petrol</td>\n",
       "      <td>Manual</td>\n",
       "      <td>1</td>\n",
       "      <td>9</td>\n",
       "      <td>1</td>\n",
       "      <td>5</td>\n",
       "    </tr>\n",
       "    <tr>\n",
       "      <th>1841</th>\n",
       "      <td>2</td>\n",
       "      <td>A3 35 TDI Premium Plus</td>\n",
       "      <td>77.18</td>\n",
       "      <td>10K</td>\n",
       "      <td>45000</td>\n",
       "      <td>Diesel</td>\n",
       "      <td>Automatic</td>\n",
       "      <td>1</td>\n",
       "      <td>6</td>\n",
       "      <td>5</td>\n",
       "      <td>7</td>\n",
       "    </tr>\n",
       "    <tr>\n",
       "      <th>1735</th>\n",
       "      <td>0</td>\n",
       "      <td>i10 Asta</td>\n",
       "      <td>12.46</td>\n",
       "      <td>10K</td>\n",
       "      <td>41525</td>\n",
       "      <td>Petrol</td>\n",
       "      <td>Manual</td>\n",
       "      <td>2</td>\n",
       "      <td>12</td>\n",
       "      <td>2</td>\n",
       "      <td>5</td>\n",
       "    </tr>\n",
       "    <tr>\n",
       "      <th>4919</th>\n",
       "      <td>0</td>\n",
       "      <td>Amaze VX AT i-Vtech</td>\n",
       "      <td>17.67</td>\n",
       "      <td>10K</td>\n",
       "      <td>45000</td>\n",
       "      <td>Petrol</td>\n",
       "      <td>Automatic</td>\n",
       "      <td>1</td>\n",
       "      <td>9</td>\n",
       "      <td>3</td>\n",
       "      <td>5</td>\n",
       "    </tr>\n",
       "    <tr>\n",
       "      <th>2425</th>\n",
       "      <td>0</td>\n",
       "      <td>Grand i10 1.2 Kappa Sportz BSIV</td>\n",
       "      <td>21.61</td>\n",
       "      <td>10K</td>\n",
       "      <td>20064</td>\n",
       "      <td>Petrol</td>\n",
       "      <td>Manual</td>\n",
       "      <td>1</td>\n",
       "      <td>4</td>\n",
       "      <td>1</td>\n",
       "      <td>5</td>\n",
       "    </tr>\n",
       "    <tr>\n",
       "      <th>4725</th>\n",
       "      <td>0</td>\n",
       "      <td>Alto 800 LXI</td>\n",
       "      <td>5.43</td>\n",
       "      <td>10K</td>\n",
       "      <td>269930</td>\n",
       "      <td>Petrol</td>\n",
       "      <td>Manual</td>\n",
       "      <td>1</td>\n",
       "      <td>9</td>\n",
       "      <td>1</td>\n",
       "      <td>5</td>\n",
       "    </tr>\n",
       "    <tr>\n",
       "      <th>4758</th>\n",
       "      <td>0</td>\n",
       "      <td>XUV500 W10 2WD</td>\n",
       "      <td>31.61</td>\n",
       "      <td>10K</td>\n",
       "      <td>66000</td>\n",
       "      <td>Diesel</td>\n",
       "      <td>Manual</td>\n",
       "      <td>1</td>\n",
       "      <td>8</td>\n",
       "      <td>2</td>\n",
       "      <td>5</td>\n",
       "    </tr>\n",
       "  </tbody>\n",
       "</table>\n",
       "</div>"
      ],
      "text/plain": [
       "      Brand_lv                         car_name  car_prices multiply NT  \\\n",
       "4427         0           Micra Active XL Petrol        9.30         10K   \n",
       "2538         0                  Harrier XZ BSIV       48.35         10K   \n",
       "3329         0    New Safari Dicor EX 4X2 BS IV       12.09         10K   \n",
       "3831         0                Wagon R VXI BS IV       14.77         10K   \n",
       "1841         2           A3 35 TDI Premium Plus       77.18         10K   \n",
       "1735         0                         i10 Asta       12.46         10K   \n",
       "4919         0              Amaze VX AT i-Vtech       17.67         10K   \n",
       "2425         0  Grand i10 1.2 Kappa Sportz BSIV       21.61         10K   \n",
       "4725         0                     Alto 800 LXI        5.43         10K   \n",
       "4758         0                   XUV500 W10 2WD       31.61         10K   \n",
       "\n",
       "      kms_driven fuel_type transmission  ownership  Age  engine_class  Seats  \n",
       "4427       80000    Petrol       Manual          1    7             2      5  \n",
       "2538       20000    Diesel       Manual          2    4             2      5  \n",
       "3329       80000    Diesel       Manual          1   10             2      5  \n",
       "3831       70000    Petrol       Manual          1    9             1      5  \n",
       "1841       45000    Diesel    Automatic          1    6             5      7  \n",
       "1735       41525    Petrol       Manual          2   12             2      5  \n",
       "4919       45000    Petrol    Automatic          1    9             3      5  \n",
       "2425       20064    Petrol       Manual          1    4             1      5  \n",
       "4725      269930    Petrol       Manual          1    9             1      5  \n",
       "4758       66000    Diesel       Manual          1    8             2      5  "
      ]
     },
     "execution_count": 21,
     "metadata": {},
     "output_type": "execute_result"
    }
   ],
   "source": [
    "df2 = df.copy()\n",
    "\n",
    "#Cause there is no duplicated material in this data, I decide to drop those information which df[\"engine\"]==0\n",
    "df2.drop(df2[df2[\"engine\"]==0].index, inplace = True )\n",
    "\n",
    "df2.drop([\"Unnamed: 0\",\"Brand\",\"manufacture\",\"engine\"],axis=1,inplace=True)\n",
    "df2.sample(10)"
   ]
  },
  {
   "cell_type": "markdown",
   "id": "52be2e30",
   "metadata": {
    "papermill": {
     "duration": 0.027106,
     "end_time": "2023-01-06T07:09:01.965138",
     "exception": false,
     "start_time": "2023-01-06T07:09:01.938032",
     "status": "completed"
    },
    "tags": []
   },
   "source": [
    "## Data Analysis"
   ]
  },
  {
   "cell_type": "code",
   "execution_count": 22,
   "id": "8e4cdaf2",
   "metadata": {
    "execution": {
     "iopub.execute_input": "2023-01-06T07:09:02.016692Z",
     "iopub.status.busy": "2023-01-06T07:09:02.016057Z",
     "iopub.status.idle": "2023-01-06T07:09:02.035767Z",
     "shell.execute_reply": "2023-01-06T07:09:02.033914Z"
    },
    "papermill": {
     "duration": 0.049765,
     "end_time": "2023-01-06T07:09:02.038900",
     "exception": false,
     "start_time": "2023-01-06T07:09:01.989135",
     "status": "completed"
    },
    "tags": []
   },
   "outputs": [
    {
     "data": {
      "text/html": [
       "<div>\n",
       "<style scoped>\n",
       "    .dataframe tbody tr th:only-of-type {\n",
       "        vertical-align: middle;\n",
       "    }\n",
       "\n",
       "    .dataframe tbody tr th {\n",
       "        vertical-align: top;\n",
       "    }\n",
       "\n",
       "    .dataframe thead th {\n",
       "        text-align: right;\n",
       "    }\n",
       "</style>\n",
       "<table border=\"1\" class=\"dataframe\">\n",
       "  <thead>\n",
       "    <tr style=\"text-align: right;\">\n",
       "      <th></th>\n",
       "      <th>Brand_lv</th>\n",
       "      <th>car_name</th>\n",
       "      <th>car_prices</th>\n",
       "      <th>multiply NT</th>\n",
       "      <th>kms_driven</th>\n",
       "      <th>fuel_type</th>\n",
       "      <th>transmission</th>\n",
       "      <th>ownership</th>\n",
       "      <th>Age</th>\n",
       "      <th>engine_class</th>\n",
       "      <th>Seats</th>\n",
       "    </tr>\n",
       "  </thead>\n",
       "  <tbody>\n",
       "    <tr>\n",
       "      <th>0</th>\n",
       "      <td>1</td>\n",
       "      <td>Compass 2.0 Longitude Option BSIV</td>\n",
       "      <td>37.30</td>\n",
       "      <td>10K</td>\n",
       "      <td>86226</td>\n",
       "      <td>Diesel</td>\n",
       "      <td>Manual</td>\n",
       "      <td>1</td>\n",
       "      <td>6</td>\n",
       "      <td>3</td>\n",
       "      <td>5</td>\n",
       "    </tr>\n",
       "    <tr>\n",
       "      <th>1</th>\n",
       "      <td>0</td>\n",
       "      <td>Duster RXZ Turbo CVT</td>\n",
       "      <td>47.72</td>\n",
       "      <td>10K</td>\n",
       "      <td>13248</td>\n",
       "      <td>Petrol</td>\n",
       "      <td>Automatic</td>\n",
       "      <td>1</td>\n",
       "      <td>2</td>\n",
       "      <td>2</td>\n",
       "      <td>5</td>\n",
       "    </tr>\n",
       "    <tr>\n",
       "      <th>2</th>\n",
       "      <td>0</td>\n",
       "      <td>Camry 2.5 G</td>\n",
       "      <td>61.00</td>\n",
       "      <td>10K</td>\n",
       "      <td>60343</td>\n",
       "      <td>Petrol</td>\n",
       "      <td>Automatic</td>\n",
       "      <td>1</td>\n",
       "      <td>7</td>\n",
       "      <td>4</td>\n",
       "      <td>5</td>\n",
       "    </tr>\n",
       "    <tr>\n",
       "      <th>3</th>\n",
       "      <td>0</td>\n",
       "      <td>Jazz VX CVT</td>\n",
       "      <td>28.90</td>\n",
       "      <td>10K</td>\n",
       "      <td>26696</td>\n",
       "      <td>Petrol</td>\n",
       "      <td>Automatic</td>\n",
       "      <td>1</td>\n",
       "      <td>5</td>\n",
       "      <td>1</td>\n",
       "      <td>5</td>\n",
       "    </tr>\n",
       "    <tr>\n",
       "      <th>4</th>\n",
       "      <td>1</td>\n",
       "      <td>Polo 1.2 MPI Highline</td>\n",
       "      <td>19.15</td>\n",
       "      <td>10K</td>\n",
       "      <td>69414</td>\n",
       "      <td>Petrol</td>\n",
       "      <td>Manual</td>\n",
       "      <td>1</td>\n",
       "      <td>7</td>\n",
       "      <td>1</td>\n",
       "      <td>5</td>\n",
       "    </tr>\n",
       "  </tbody>\n",
       "</table>\n",
       "</div>"
      ],
      "text/plain": [
       "   Brand_lv                           car_name  car_prices multiply NT  \\\n",
       "0         1  Compass 2.0 Longitude Option BSIV       37.30         10K   \n",
       "1         0               Duster RXZ Turbo CVT       47.72         10K   \n",
       "2         0                        Camry 2.5 G       61.00         10K   \n",
       "3         0                        Jazz VX CVT       28.90         10K   \n",
       "4         1              Polo 1.2 MPI Highline       19.15         10K   \n",
       "\n",
       "   kms_driven fuel_type transmission  ownership  Age  engine_class  Seats  \n",
       "0       86226    Diesel       Manual          1    6             3      5  \n",
       "1       13248    Petrol    Automatic          1    2             2      5  \n",
       "2       60343    Petrol    Automatic          1    7             4      5  \n",
       "3       26696    Petrol    Automatic          1    5             1      5  \n",
       "4       69414    Petrol       Manual          1    7             1      5  "
      ]
     },
     "execution_count": 22,
     "metadata": {},
     "output_type": "execute_result"
    }
   ],
   "source": [
    "df2.head()"
   ]
  },
  {
   "cell_type": "code",
   "execution_count": 23,
   "id": "3bf49d35",
   "metadata": {
    "execution": {
     "iopub.execute_input": "2023-01-06T07:09:02.091331Z",
     "iopub.status.busy": "2023-01-06T07:09:02.090155Z",
     "iopub.status.idle": "2023-01-06T07:09:02.096480Z",
     "shell.execute_reply": "2023-01-06T07:09:02.095505Z"
    },
    "papermill": {
     "duration": 0.035429,
     "end_time": "2023-01-06T07:09:02.099220",
     "exception": false,
     "start_time": "2023-01-06T07:09:02.063791",
     "status": "completed"
    },
    "tags": []
   },
   "outputs": [],
   "source": [
    "sns.set(style=\"white\") # darkgrid, whitegrid, dark, white, ticks"
   ]
  },
  {
   "cell_type": "code",
   "execution_count": 24,
   "id": "cdf5e838",
   "metadata": {
    "execution": {
     "iopub.execute_input": "2023-01-06T07:09:02.152291Z",
     "iopub.status.busy": "2023-01-06T07:09:02.151461Z",
     "iopub.status.idle": "2023-01-06T07:09:02.703116Z",
     "shell.execute_reply": "2023-01-06T07:09:02.700836Z"
    },
    "papermill": {
     "duration": 0.582318,
     "end_time": "2023-01-06T07:09:02.707083",
     "exception": false,
     "start_time": "2023-01-06T07:09:02.124765",
     "status": "completed"
    },
    "tags": []
   },
   "outputs": [
    {
     "data": {
      "text/plain": [
       "Text(0.5, 1.0, 'Transmission type popularity')"
      ]
     },
     "execution_count": 24,
     "metadata": {},
     "output_type": "execute_result"
    },
    {
     "data": {
      "image/png": "[encoded data removed]",
      "text/plain": [
       "<Figure size 960x400 with 2 Axes>"
      ]
     },
     "metadata": {},
     "output_type": "display_data"
    }
   ],
   "source": [
    "#Transmission\n",
    "\n",
    "plt.figure(figsize=(12, 5), dpi=80)\n",
    "plt.subplot(1, 2, 1) \n",
    "ax = sns.barplot(x=\"transmission\", y='car_prices', data=df2)\n",
    "ax.set_title('Average car price by Number of transmission')\n",
    "\n",
    "trans = df2[\"transmission\"].copy()\n",
    "count = trans.value_counts()\n",
    "#print(count)\n",
    "plt.subplot(1, 2, 2)\n",
    "plt.pie(x=count,autopct='%.1f%%',labels = [\"Manual\",\"Automatic\"])\n",
    "plt.title('Transmission type popularity')\n"
   ]
  },
  {
   "cell_type": "code",
   "execution_count": 25,
   "id": "2e271d72",
   "metadata": {
    "execution": {
     "iopub.execute_input": "2023-01-06T07:09:02.759329Z",
     "iopub.status.busy": "2023-01-06T07:09:02.758717Z",
     "iopub.status.idle": "2023-01-06T07:09:03.927339Z",
     "shell.execute_reply": "2023-01-06T07:09:03.925374Z"
    },
    "papermill": {
     "duration": 1.199855,
     "end_time": "2023-01-06T07:09:03.930845",
     "exception": false,
     "start_time": "2023-01-06T07:09:02.730990",
     "status": "completed"
    },
    "tags": []
   },
   "outputs": [
    {
     "data": {
      "text/plain": [
       "Text(0.5, 1.0, 'Transmission type popularity')"
      ]
     },
     "execution_count": 25,
     "metadata": {},
     "output_type": "execute_result"
    },
    {
     "data": {
      "image/png": "[encoded data removed]",
      "text/plain": [
       "<Figure size 960x800 with 3 Axes>"
      ]
     },
     "metadata": {},
     "output_type": "display_data"
    }
   ],
   "source": [
    "#Seats\n",
    "plt.figure(figsize=(12, 10), dpi=80)\n",
    "\n",
    "plt.subplot(2, 1, 2)\n",
    "ax1= sns.lineplot(x=\"Seats\", y='car_prices', data=df2)\n",
    "ax1.set_title('Average car price by Number of Seats')\n",
    "\n",
    "plt.subplot(2, 2, 1) \n",
    "ax2 = sns.barplot(x=\"Seats\", y='car_prices', data=df2)\n",
    "ax2.set_title('Average car price by Number of seats')\n",
    "\n",
    "seat = df2[\"Seats\"].copy()\n",
    "count = seat.value_counts().sort_index(ascending=False)\n",
    "#print(count)\n",
    "plt.subplot(2, 2, 2)\n",
    "plt.pie(x=count,autopct='%.1f%%',labels = [\"8\",\"7\",\"6\",\"5\",\"4\",\"2\"])\n",
    "plt.title('Transmission type popularity')"
   ]
  },
  {
   "cell_type": "code",
   "execution_count": 26,
   "id": "b88d6db5",
   "metadata": {
    "execution": {
     "iopub.execute_input": "2023-01-06T07:09:03.989119Z",
     "iopub.status.busy": "2023-01-06T07:09:03.988652Z",
     "iopub.status.idle": "2023-01-06T07:09:05.079246Z",
     "shell.execute_reply": "2023-01-06T07:09:05.077608Z"
    },
    "papermill": {
     "duration": 1.125364,
     "end_time": "2023-01-06T07:09:05.082641",
     "exception": false,
     "start_time": "2023-01-06T07:09:03.957277",
     "status": "completed"
    },
    "tags": []
   },
   "outputs": [
    {
     "name": "stdout",
     "output_type": "stream",
     "text": [
      "5      12\n",
      "4      84\n",
      "3     359\n",
      "2    1314\n",
      "1    3724\n",
      "0       7\n",
      "Name: ownership, dtype: int64\n"
     ]
    },
    {
     "data": {
      "text/plain": [
       "Text(0.5, 1.0, 'Ownership type popularity')"
      ]
     },
     "execution_count": 26,
     "metadata": {},
     "output_type": "execute_result"
    },
    {
     "data": {
      "image/png": "[encoded data removed]",
      "text/plain": [
       "<Figure size 960x800 with 3 Axes>"
      ]
     },
     "metadata": {},
     "output_type": "display_data"
    }
   ],
   "source": [
    "#ownershih\n",
    "plt.figure(figsize=(12, 10), dpi=80)\n",
    "\n",
    "plt.subplot(2, 1, 2)\n",
    "pv2=sns.lineplot(x=\"ownership\", y='car_prices', data=df2)\n",
    "pv2.set_title('Average car price by Number of ownership')\n",
    "\n",
    "plt.subplot(2, 2, 1) \n",
    "ax = sns.barplot(x=\"ownership\", y='car_prices', data=df2)\n",
    "ax.set_title('Average car price by Number of ownership')\n",
    "\n",
    "ownership = df2[\"ownership\"].copy()\n",
    "count = ownership.value_counts().sort_index(ascending=False)\n",
    "print(count)\n",
    "plt.subplot(2, 2, 2)\n",
    "plt.pie(x=count,autopct='%.1f%%',labels = [\"5\",\"4\",\"3\",\"2\",\"1\",\"0\"])\n",
    "plt.title('Ownership type popularity')"
   ]
  },
  {
   "cell_type": "code",
   "execution_count": 27,
   "id": "7c19b000",
   "metadata": {
    "execution": {
     "iopub.execute_input": "2023-01-06T07:09:05.140749Z",
     "iopub.status.busy": "2023-01-06T07:09:05.140321Z",
     "iopub.status.idle": "2023-01-06T07:09:05.727305Z",
     "shell.execute_reply": "2023-01-06T07:09:05.725522Z"
    },
    "papermill": {
     "duration": 0.619495,
     "end_time": "2023-01-06T07:09:05.730319",
     "exception": false,
     "start_time": "2023-01-06T07:09:05.110824",
     "status": "completed"
    },
    "tags": []
   },
   "outputs": [
    {
     "name": "stdout",
     "output_type": "stream",
     "text": [
      "Petrol      2962\n",
      "Lpg           28\n",
      "Electric      12\n",
      "Diesel      2418\n",
      "Cng           80\n",
      "Name: fuel_type, dtype: int64\n"
     ]
    },
    {
     "data": {
      "text/plain": [
       "Text(0.5, 1.0, 'Fuel_type type popularity')"
      ]
     },
     "execution_count": 27,
     "metadata": {},
     "output_type": "execute_result"
    },
    {
     "data": {
      "image/png": "[encoded data removed]",
      "text/plain": [
       "<Figure size 960x400 with 2 Axes>"
      ]
     },
     "metadata": {},
     "output_type": "display_data"
    }
   ],
   "source": [
    "#fuel_type\n",
    "plt.figure(figsize=(12, 5), dpi=80)\n",
    "plt.subplot(1, 2, 1) \n",
    "ax = sns.barplot(x=\"fuel_type\", y='car_prices', data=df2)\n",
    "ax.set_title('Average car price by Number of fuel_type')\n",
    "\n",
    "fuel = df2[\"fuel_type\"].copy()\n",
    "count = fuel.value_counts().sort_index(ascending=False)\n",
    "print(count)\n",
    "plt.subplot(1, 2, 2)\n",
    "plt.pie(x=count,autopct='%.1f%%',labels = [\"Petrol\",\"Lpg\",\"Electric\",\"Diesel\",\"Cng\"])\n",
    "plt.title('Fuel_type type popularity')"
   ]
  },
  {
   "cell_type": "code",
   "execution_count": 28,
   "id": "145529b0",
   "metadata": {
    "execution": {
     "iopub.execute_input": "2023-01-06T07:09:05.790921Z",
     "iopub.status.busy": "2023-01-06T07:09:05.790475Z",
     "iopub.status.idle": "2023-01-06T07:09:06.135511Z",
     "shell.execute_reply": "2023-01-06T07:09:06.133480Z"
    },
    "papermill": {
     "duration": 0.378696,
     "end_time": "2023-01-06T07:09:06.138335",
     "exception": false,
     "start_time": "2023-01-06T07:09:05.759639",
     "status": "completed"
    },
    "tags": []
   },
   "outputs": [
    {
     "data": {
      "text/plain": [
       "<AxesSubplot:title={'center':'Average car price by Year'}, xlabel='Age'>"
      ]
     },
     "execution_count": 28,
     "metadata": {},
     "output_type": "execute_result"
    },
    {
     "data": {
      "image/png": "[encoded data removed]",
      "text/plain": [
       "<Figure size 576x360 with 1 Axes>"
      ]
     },
     "metadata": {},
     "output_type": "display_data"
    }
   ],
   "source": [
    "pv1=pd.pivot_table(df2, index=['Age'],values = ['car_prices'],aggfunc = 'mean') \n",
    "pv1.plot(kind='line',linewidth=3,figsize=(8,5),title='Average car price by Year')"
   ]
  },
  {
   "cell_type": "code",
   "execution_count": 29,
   "id": "f022ae16",
   "metadata": {
    "execution": {
     "iopub.execute_input": "2023-01-06T07:09:06.198890Z",
     "iopub.status.busy": "2023-01-06T07:09:06.198084Z",
     "iopub.status.idle": "2023-01-06T07:09:06.720050Z",
     "shell.execute_reply": "2023-01-06T07:09:06.718485Z"
    },
    "papermill": {
     "duration": 0.555369,
     "end_time": "2023-01-06T07:09:06.723524",
     "exception": false,
     "start_time": "2023-01-06T07:09:06.168155",
     "status": "completed"
    },
    "tags": []
   },
   "outputs": [
    {
     "data": {
      "text/plain": [
       "Text(0.5, 1.0, 'Average car price by Number of engine_class')"
      ]
     },
     "execution_count": 29,
     "metadata": {},
     "output_type": "execute_result"
    },
    {
     "data": {
      "image/png": "[encoded data removed]",
      "text/plain": [
       "<Figure size 432x288 with 1 Axes>"
      ]
     },
     "metadata": {},
     "output_type": "display_data"
    }
   ],
   "source": [
    "ax = sns.barplot(x=\"engine_class\", y='car_prices', data=df2)\n",
    "ax.set_title('Average car price by Number of engine_class')"
   ]
  },
  {
   "cell_type": "code",
   "execution_count": 30,
   "id": "3e241730",
   "metadata": {
    "execution": {
     "iopub.execute_input": "2023-01-06T07:09:06.788829Z",
     "iopub.status.busy": "2023-01-06T07:09:06.787773Z",
     "iopub.status.idle": "2023-01-06T07:09:06.793834Z",
     "shell.execute_reply": "2023-01-06T07:09:06.792719Z"
    },
    "papermill": {
     "duration": 0.039744,
     "end_time": "2023-01-06T07:09:06.796733",
     "exception": false,
     "start_time": "2023-01-06T07:09:06.756989",
     "status": "completed"
    },
    "tags": []
   },
   "outputs": [],
   "source": [
    "# pv2=pd.pivot_table(df2, index=['Seats'],values = ['car_prices'],aggfunc = 'mean') \n",
    "# pv2.plot(kind='bar',figsize=(8,5),title='Average car price by Number of seats',edgecolor = 'black')"
   ]
  },
  {
   "cell_type": "code",
   "execution_count": 31,
   "id": "17f6f81d",
   "metadata": {
    "execution": {
     "iopub.execute_input": "2023-01-06T07:09:06.861230Z",
     "iopub.status.busy": "2023-01-06T07:09:06.860511Z",
     "iopub.status.idle": "2023-01-06T07:09:06.864718Z",
     "shell.execute_reply": "2023-01-06T07:09:06.863746Z"
    },
    "papermill": {
     "duration": 0.0397,
     "end_time": "2023-01-06T07:09:06.867203",
     "exception": false,
     "start_time": "2023-01-06T07:09:06.827503",
     "status": "completed"
    },
    "tags": []
   },
   "outputs": [],
   "source": [
    "# pv2=pd.pivot_table(df2, index=['engine_class'],values = ['car_prices'],aggfunc = 'mean') \n",
    "# pv2.plot(kind='bar',figsize=(8,5),title='Average car price by Number of engine',edgecolor = 'black')"
   ]
  },
  {
   "cell_type": "code",
   "execution_count": 32,
   "id": "6d02fdc3",
   "metadata": {
    "execution": {
     "iopub.execute_input": "2023-01-06T07:09:06.931551Z",
     "iopub.status.busy": "2023-01-06T07:09:06.931091Z",
     "iopub.status.idle": "2023-01-06T07:09:07.274563Z",
     "shell.execute_reply": "2023-01-06T07:09:07.273252Z"
    },
    "papermill": {
     "duration": 0.380297,
     "end_time": "2023-01-06T07:09:07.277821",
     "exception": false,
     "start_time": "2023-01-06T07:09:06.897524",
     "status": "completed"
    },
    "tags": []
   },
   "outputs": [
    {
     "data": {
      "text/plain": [
       "<matplotlib.collections.PathCollection at 0x7f7c083f5d10>"
      ]
     },
     "execution_count": 32,
     "metadata": {},
     "output_type": "execute_result"
    },
    {
     "data": {
      "image/png": "[encoded data removed]",
      "text/plain": [
       "<Figure size 576x360 with 1 Axes>"
      ]
     },
     "metadata": {},
     "output_type": "display_data"
    }
   ],
   "source": [
    "plt.figure(figsize=(8,5))\n",
    "plt.title('Relation between price and KMS driven')\n",
    "plt.scatter(df2.kms_driven,df2.car_prices,color=\"b\")"
   ]
  },
  {
   "cell_type": "code",
   "execution_count": 33,
   "id": "2919d92e",
   "metadata": {
    "execution": {
     "iopub.execute_input": "2023-01-06T07:09:07.343177Z",
     "iopub.status.busy": "2023-01-06T07:09:07.342709Z",
     "iopub.status.idle": "2023-01-06T07:09:07.721876Z",
     "shell.execute_reply": "2023-01-06T07:09:07.720569Z"
    },
    "papermill": {
     "duration": 0.415409,
     "end_time": "2023-01-06T07:09:07.725294",
     "exception": false,
     "start_time": "2023-01-06T07:09:07.309885",
     "status": "completed"
    },
    "tags": []
   },
   "outputs": [
    {
     "data": {
      "text/plain": [
       "<AxesSubplot:title={'center':'Average price by Fuel type'}, ylabel='transmission'>"
      ]
     },
     "execution_count": 33,
     "metadata": {},
     "output_type": "execute_result"
    },
    {
     "data": {
      "image/png": "[encoded data removed]",
      "text/plain": [
       "<Figure size 576x360 with 1 Axes>"
      ]
     },
     "metadata": {},
     "output_type": "display_data"
    }
   ],
   "source": [
    "transm=pd.pivot_table(df2,index='transmission',values='car_prices',columns='fuel_type')\n",
    "transm.plot(kind='barh',figsize=(8,5),edgecolor = 'black',title='Average price by Fuel type')"
   ]
  },
  {
   "cell_type": "code",
   "execution_count": 34,
   "id": "c8f3b47b",
   "metadata": {
    "execution": {
     "iopub.execute_input": "2023-01-06T07:09:07.789226Z",
     "iopub.status.busy": "2023-01-06T07:09:07.788110Z",
     "iopub.status.idle": "2023-01-06T07:09:08.217843Z",
     "shell.execute_reply": "2023-01-06T07:09:08.216632Z"
    },
    "papermill": {
     "duration": 0.463887,
     "end_time": "2023-01-06T07:09:08.220439",
     "exception": false,
     "start_time": "2023-01-06T07:09:07.756552",
     "status": "completed"
    },
    "tags": []
   },
   "outputs": [
    {
     "data": {
      "text/plain": [
       "<AxesSubplot:title={'center':'Price Distribution'}, ylabel='Frequency'>"
      ]
     },
     "execution_count": 34,
     "metadata": {},
     "output_type": "execute_result"
    },
    {
     "data": {
      "image/png": "[encoded data removed]",
      "text/plain": [
       "<Figure size 576x360 with 1 Axes>"
      ]
     },
     "metadata": {},
     "output_type": "display_data"
    }
   ],
   "source": [
    "price=df['car_prices']\n",
    "price.plot(kind='hist',figsize=(8,5),bins=50,edgecolor = 'black',title='Price Distribution')"
   ]
  },
  {
   "cell_type": "code",
   "execution_count": 35,
   "id": "95fa9219",
   "metadata": {
    "execution": {
     "iopub.execute_input": "2023-01-06T07:09:08.283813Z",
     "iopub.status.busy": "2023-01-06T07:09:08.283098Z",
     "iopub.status.idle": "2023-01-06T07:09:08.699803Z",
     "shell.execute_reply": "2023-01-06T07:09:08.698058Z"
    },
    "papermill": {
     "duration": 0.452312,
     "end_time": "2023-01-06T07:09:08.702834",
     "exception": false,
     "start_time": "2023-01-06T07:09:08.250522",
     "status": "completed"
    },
    "tags": []
   },
   "outputs": [
    {
     "data": {
      "text/plain": [
       "Text(0.5, 1.0, 'Every 5 year price trend')"
      ]
     },
     "execution_count": 35,
     "metadata": {},
     "output_type": "execute_result"
    },
    {
     "data": {
      "image/png": "[encoded data removed]",
      "text/plain": [
       "<Figure size 432x288 with 1 Axes>"
      ]
     },
     "metadata": {},
     "output_type": "display_data"
    }
   ],
   "source": [
    "P1 = df[df['Age'] <= 5]['car_prices'].mean()\n",
    "P2 = df[(df['Age']>5) & (df['Age']<=10)]['car_prices'].mean()\n",
    "P3 = df[(df['Age']>10) & (df['Age']<=15)]['car_prices'].mean()\n",
    "P4 = df[(df['Age']>15) & (df['Age']<=20)]['car_prices'].mean()\n",
    "P5 = df[df['Age']>20]['car_prices'].mean()\n",
    "Plist = [P1,P2,P3,P4,P5]\n",
    "Rlist = [\"0-5\",\"5-10\",\"10-15\",\"15-20\",\"20-\"]\n",
    "pv2=sns.lineplot(x=Rlist, y=Plist)\n",
    "pv2.set_title('Every 5 year price trend')"
   ]
  },
  {
   "cell_type": "code",
   "execution_count": 36,
   "id": "3591488e",
   "metadata": {
    "execution": {
     "iopub.execute_input": "2023-01-06T07:09:08.769580Z",
     "iopub.status.busy": "2023-01-06T07:09:08.769038Z",
     "iopub.status.idle": "2023-01-06T07:09:09.034233Z",
     "shell.execute_reply": "2023-01-06T07:09:09.032494Z"
    },
    "papermill": {
     "duration": 0.302495,
     "end_time": "2023-01-06T07:09:09.037787",
     "exception": false,
     "start_time": "2023-01-06T07:09:08.735292",
     "status": "completed"
    },
    "tags": []
   },
   "outputs": [
    {
     "data": {
      "text/plain": [
       "Text(0.5, 1.0, 'Every 5 year price trend')"
      ]
     },
     "execution_count": 36,
     "metadata": {},
     "output_type": "execute_result"
    },
    {
     "data": {
      "image/png": "[encoded data removed]",
      "text/plain": [
       "<Figure size 432x288 with 1 Axes>"
      ]
     },
     "metadata": {},
     "output_type": "display_data"
    }
   ],
   "source": [
    "P1 = df[df['Age'] <= 3]['car_prices'].mean()\n",
    "P2 = df[(df['Age']>3) & (df['Age']<=5)]['car_prices'].mean()\n",
    "P3 = df[(df['Age']>5) & (df['Age']<=10)]['car_prices'].mean()\n",
    "P4 = df[(df['Age']>10) & (df['Age']<=15)]['car_prices'].mean()\n",
    "P5 = df[(df['Age']>15) & (df['Age']<=20)]['car_prices'].mean()\n",
    "P6 = df[df['Age']>20]['car_prices'].mean()\n",
    "Plist = [P1,P2,P3,P4,P5,P6]\n",
    "Rlist = [\"0-3\",\"3-5\",\"5-10\",\"10-15\",\"15-20\",\"20-\"]\n",
    "pv2=sns.lineplot(x=Rlist, y=Plist)\n",
    "pv2.set_title('Every 5 year price trend')"
   ]
  },
  {
   "cell_type": "code",
   "execution_count": 37,
   "id": "f166cc03",
   "metadata": {
    "execution": {
     "iopub.execute_input": "2023-01-06T07:09:09.104954Z",
     "iopub.status.busy": "2023-01-06T07:09:09.104310Z",
     "iopub.status.idle": "2023-01-06T07:09:09.479936Z",
     "shell.execute_reply": "2023-01-06T07:09:09.478485Z"
    },
    "papermill": {
     "duration": 0.413313,
     "end_time": "2023-01-06T07:09:09.483716",
     "exception": false,
     "start_time": "2023-01-06T07:09:09.070403",
     "status": "completed"
    },
    "tags": []
   },
   "outputs": [
    {
     "data": {
      "text/plain": [
       "<AxesSubplot:title={'center':'The Most expensive 5 cars'}, ylabel='car_name'>"
      ]
     },
     "execution_count": 37,
     "metadata": {},
     "output_type": "execute_result"
    },
    {
     "data": {
      "image/png": "[encoded data removed]",
      "text/plain": [
       "<Figure size 576x360 with 1 Axes>"
      ]
     },
     "metadata": {},
     "output_type": "display_data"
    }
   ],
   "source": [
    "top5=pd.pivot_table(df2,index='car_name',values='car_prices').sort_values(by='car_prices',ascending=False)\n",
    "top5=top5.head(5)\n",
    "top5.plot(kind='barh',figsize=(8,5),edgecolor = 'black',title='The Most expensive 5 cars')"
   ]
  },
  {
   "cell_type": "markdown",
   "id": "6a8fc65d",
   "metadata": {
    "papermill": {
     "duration": 0.034488,
     "end_time": "2023-01-06T07:09:09.553749",
     "exception": false,
     "start_time": "2023-01-06T07:09:09.519261",
     "status": "completed"
    },
    "tags": []
   },
   "source": [
    "**In those old cars, I think it might has some cars are worth collecting not for buying to use.  \n",
    "I find \"Tiago XTA AMT\" is much expensive than others**\n"
   ]
  },
  {
   "cell_type": "code",
   "execution_count": 38,
   "id": "ac5c70ce",
   "metadata": {
    "execution": {
     "iopub.execute_input": "2023-01-06T07:09:09.638905Z",
     "iopub.status.busy": "2023-01-06T07:09:09.638010Z",
     "iopub.status.idle": "2023-01-06T07:09:10.093624Z",
     "shell.execute_reply": "2023-01-06T07:09:10.092069Z"
    },
    "papermill": {
     "duration": 0.501184,
     "end_time": "2023-01-06T07:09:10.097723",
     "exception": false,
     "start_time": "2023-01-06T07:09:09.596539",
     "status": "completed"
    },
    "tags": []
   },
   "outputs": [
    {
     "data": {
      "text/plain": [
       "<matplotlib.lines.Line2D at 0x7f7c0907a510>"
      ]
     },
     "execution_count": 38,
     "metadata": {},
     "output_type": "execute_result"
    },
    {
     "data": {
      "image/png": "[encoded data removed]",
      "text/plain": [
       "<Figure size 576x576 with 1 Axes>"
      ]
     },
     "metadata": {},
     "output_type": "display_data"
    }
   ],
   "source": [
    "df3 = df2.copy()\n",
    "df3.sort_values(by=['Age'],inplace = True)\n",
    "old5=df3.iloc[-20:,:]\n",
    "\n",
    "top5=pd.pivot_table(old5,index='car_name',values='car_prices',sort=False)\n",
    "top5.plot(kind='barh',figsize=(8,8),edgecolor = 'black',title='The Most old 20 cars')\n",
    "\n",
    "price = df2.copy().sort_values('car_prices')\n",
    "plt.axvline(x = df2[df2['Age']>=15]['car_prices'].mean(),linewidth=2, color='r')"
   ]
  },
  {
   "cell_type": "code",
   "execution_count": 39,
   "id": "089bf2d5",
   "metadata": {
    "execution": {
     "iopub.execute_input": "2023-01-06T07:09:10.177241Z",
     "iopub.status.busy": "2023-01-06T07:09:10.176812Z",
     "iopub.status.idle": "2023-01-06T07:09:10.201093Z",
     "shell.execute_reply": "2023-01-06T07:09:10.199993Z"
    },
    "papermill": {
     "duration": 0.0687,
     "end_time": "2023-01-06T07:09:10.203904",
     "exception": false,
     "start_time": "2023-01-06T07:09:10.135204",
     "status": "completed"
    },
    "tags": []
   },
   "outputs": [
    {
     "data": {
      "text/html": [
       "<div>\n",
       "<style scoped>\n",
       "    .dataframe tbody tr th:only-of-type {\n",
       "        vertical-align: middle;\n",
       "    }\n",
       "\n",
       "    .dataframe tbody tr th {\n",
       "        vertical-align: top;\n",
       "    }\n",
       "\n",
       "    .dataframe thead th {\n",
       "        text-align: right;\n",
       "    }\n",
       "</style>\n",
       "<table border=\"1\" class=\"dataframe\">\n",
       "  <thead>\n",
       "    <tr style=\"text-align: right;\">\n",
       "      <th></th>\n",
       "      <th>Brand_lv</th>\n",
       "      <th>car_name</th>\n",
       "      <th>car_prices</th>\n",
       "      <th>multiply NT</th>\n",
       "      <th>kms_driven</th>\n",
       "      <th>fuel_type</th>\n",
       "      <th>transmission</th>\n",
       "      <th>ownership</th>\n",
       "      <th>Age</th>\n",
       "      <th>engine_class</th>\n",
       "      <th>Seats</th>\n",
       "    </tr>\n",
       "  </thead>\n",
       "  <tbody>\n",
       "    <tr>\n",
       "      <th>4633</th>\n",
       "      <td>0</td>\n",
       "      <td>Tiago XTA AMT</td>\n",
       "      <td>22.69</td>\n",
       "      <td>10K</td>\n",
       "      <td>2640</td>\n",
       "      <td>Petrol</td>\n",
       "      <td>Automatic</td>\n",
       "      <td>1</td>\n",
       "      <td>21</td>\n",
       "      <td>2</td>\n",
       "      <td>5</td>\n",
       "    </tr>\n",
       "    <tr>\n",
       "      <th>480</th>\n",
       "      <td>0</td>\n",
       "      <td>Jeep CL 500 MDI</td>\n",
       "      <td>9.67</td>\n",
       "      <td>10K</td>\n",
       "      <td>100000</td>\n",
       "      <td>Diesel</td>\n",
       "      <td>Manual</td>\n",
       "      <td>1</td>\n",
       "      <td>28</td>\n",
       "      <td>1</td>\n",
       "      <td>6</td>\n",
       "    </tr>\n",
       "    <tr>\n",
       "      <th>906</th>\n",
       "      <td>0</td>\n",
       "      <td>Scorpio 2.6 SLX CRDe</td>\n",
       "      <td>6.69</td>\n",
       "      <td>10K</td>\n",
       "      <td>120000</td>\n",
       "      <td>Diesel</td>\n",
       "      <td>Manual</td>\n",
       "      <td>3</td>\n",
       "      <td>21</td>\n",
       "      <td>3</td>\n",
       "      <td>5</td>\n",
       "    </tr>\n",
       "    <tr>\n",
       "      <th>4498</th>\n",
       "      <td>0</td>\n",
       "      <td>Qualis FS B1</td>\n",
       "      <td>6.51</td>\n",
       "      <td>10K</td>\n",
       "      <td>120000</td>\n",
       "      <td>Diesel</td>\n",
       "      <td>Manual</td>\n",
       "      <td>3</td>\n",
       "      <td>22</td>\n",
       "      <td>2</td>\n",
       "      <td>5</td>\n",
       "    </tr>\n",
       "    <tr>\n",
       "      <th>2111</th>\n",
       "      <td>0</td>\n",
       "      <td>Qualis FS B1</td>\n",
       "      <td>6.32</td>\n",
       "      <td>10K</td>\n",
       "      <td>120000</td>\n",
       "      <td>Diesel</td>\n",
       "      <td>Manual</td>\n",
       "      <td>3</td>\n",
       "      <td>21</td>\n",
       "      <td>1</td>\n",
       "      <td>5</td>\n",
       "    </tr>\n",
       "    <tr>\n",
       "      <th>367</th>\n",
       "      <td>0</td>\n",
       "      <td>Zen VXI</td>\n",
       "      <td>4.09</td>\n",
       "      <td>10K</td>\n",
       "      <td>90000</td>\n",
       "      <td>Petrol</td>\n",
       "      <td>Manual</td>\n",
       "      <td>3</td>\n",
       "      <td>25</td>\n",
       "      <td>1</td>\n",
       "      <td>5</td>\n",
       "    </tr>\n",
       "    <tr>\n",
       "      <th>4486</th>\n",
       "      <td>0</td>\n",
       "      <td>Santro AT</td>\n",
       "      <td>3.72</td>\n",
       "      <td>10K</td>\n",
       "      <td>68000</td>\n",
       "      <td>Petrol</td>\n",
       "      <td>Automatic</td>\n",
       "      <td>2</td>\n",
       "      <td>21</td>\n",
       "      <td>2</td>\n",
       "      <td>5</td>\n",
       "    </tr>\n",
       "    <tr>\n",
       "      <th>4841</th>\n",
       "      <td>0</td>\n",
       "      <td>Wagon R VXI</td>\n",
       "      <td>3.72</td>\n",
       "      <td>10K</td>\n",
       "      <td>59726</td>\n",
       "      <td>Petrol</td>\n",
       "      <td>Manual</td>\n",
       "      <td>1</td>\n",
       "      <td>21</td>\n",
       "      <td>2</td>\n",
       "      <td>5</td>\n",
       "    </tr>\n",
       "    <tr>\n",
       "      <th>3076</th>\n",
       "      <td>0</td>\n",
       "      <td>800 Std BSII</td>\n",
       "      <td>3.11</td>\n",
       "      <td>10K</td>\n",
       "      <td>29000</td>\n",
       "      <td>Petrol</td>\n",
       "      <td>Manual</td>\n",
       "      <td>1</td>\n",
       "      <td>21</td>\n",
       "      <td>1</td>\n",
       "      <td>7</td>\n",
       "    </tr>\n",
       "    <tr>\n",
       "      <th>2595</th>\n",
       "      <td>0</td>\n",
       "      <td>Alto LX</td>\n",
       "      <td>2.96</td>\n",
       "      <td>10K</td>\n",
       "      <td>70000</td>\n",
       "      <td>Petrol</td>\n",
       "      <td>Manual</td>\n",
       "      <td>2</td>\n",
       "      <td>21</td>\n",
       "      <td>1</td>\n",
       "      <td>5</td>\n",
       "    </tr>\n",
       "    <tr>\n",
       "      <th>2336</th>\n",
       "      <td>0</td>\n",
       "      <td>800 DX 5 Speed</td>\n",
       "      <td>2.96</td>\n",
       "      <td>10K</td>\n",
       "      <td>50000</td>\n",
       "      <td>Petrol</td>\n",
       "      <td>Manual</td>\n",
       "      <td>3</td>\n",
       "      <td>22</td>\n",
       "      <td>3</td>\n",
       "      <td>7</td>\n",
       "    </tr>\n",
       "    <tr>\n",
       "      <th>3394</th>\n",
       "      <td>0</td>\n",
       "      <td>Santro GLS I - Euro II</td>\n",
       "      <td>2.40</td>\n",
       "      <td>10K</td>\n",
       "      <td>147000</td>\n",
       "      <td>Petrol</td>\n",
       "      <td>Manual</td>\n",
       "      <td>1</td>\n",
       "      <td>23</td>\n",
       "      <td>2</td>\n",
       "      <td>5</td>\n",
       "    </tr>\n",
       "    <tr>\n",
       "      <th>1689</th>\n",
       "      <td>0</td>\n",
       "      <td>Palio 1.2 ELX</td>\n",
       "      <td>2.22</td>\n",
       "      <td>10K</td>\n",
       "      <td>20000</td>\n",
       "      <td>Petrol</td>\n",
       "      <td>Manual</td>\n",
       "      <td>1</td>\n",
       "      <td>21</td>\n",
       "      <td>1</td>\n",
       "      <td>5</td>\n",
       "    </tr>\n",
       "    <tr>\n",
       "      <th>2353</th>\n",
       "      <td>0</td>\n",
       "      <td>Zen LX</td>\n",
       "      <td>2.22</td>\n",
       "      <td>10K</td>\n",
       "      <td>100000</td>\n",
       "      <td>Petrol</td>\n",
       "      <td>Manual</td>\n",
       "      <td>2</td>\n",
       "      <td>25</td>\n",
       "      <td>2</td>\n",
       "      <td>5</td>\n",
       "    </tr>\n",
       "    <tr>\n",
       "      <th>4127</th>\n",
       "      <td>0</td>\n",
       "      <td>Alto LX</td>\n",
       "      <td>2.04</td>\n",
       "      <td>10K</td>\n",
       "      <td>50000</td>\n",
       "      <td>Petrol</td>\n",
       "      <td>Manual</td>\n",
       "      <td>2</td>\n",
       "      <td>21</td>\n",
       "      <td>2</td>\n",
       "      <td>5</td>\n",
       "    </tr>\n",
       "    <tr>\n",
       "      <th>945</th>\n",
       "      <td>0</td>\n",
       "      <td>800 DX 5 Speed</td>\n",
       "      <td>2.04</td>\n",
       "      <td>10K</td>\n",
       "      <td>30000</td>\n",
       "      <td>Petrol</td>\n",
       "      <td>Manual</td>\n",
       "      <td>1</td>\n",
       "      <td>21</td>\n",
       "      <td>1</td>\n",
       "      <td>7</td>\n",
       "    </tr>\n",
       "    <tr>\n",
       "      <th>947</th>\n",
       "      <td>0</td>\n",
       "      <td>800 Std</td>\n",
       "      <td>1.66</td>\n",
       "      <td>10K</td>\n",
       "      <td>50000</td>\n",
       "      <td>Petrol</td>\n",
       "      <td>Manual</td>\n",
       "      <td>4</td>\n",
       "      <td>23</td>\n",
       "      <td>1</td>\n",
       "      <td>7</td>\n",
       "    </tr>\n",
       "    <tr>\n",
       "      <th>2204</th>\n",
       "      <td>0</td>\n",
       "      <td>800 DX 5 Speed</td>\n",
       "      <td>1.48</td>\n",
       "      <td>10K</td>\n",
       "      <td>80000</td>\n",
       "      <td>Petrol</td>\n",
       "      <td>Manual</td>\n",
       "      <td>1</td>\n",
       "      <td>23</td>\n",
       "      <td>1</td>\n",
       "      <td>5</td>\n",
       "    </tr>\n",
       "    <tr>\n",
       "      <th>957</th>\n",
       "      <td>0</td>\n",
       "      <td>Zen LXI</td>\n",
       "      <td>1.44</td>\n",
       "      <td>10K</td>\n",
       "      <td>100000</td>\n",
       "      <td>Petrol</td>\n",
       "      <td>Manual</td>\n",
       "      <td>2</td>\n",
       "      <td>23</td>\n",
       "      <td>2</td>\n",
       "      <td>5</td>\n",
       "    </tr>\n",
       "    <tr>\n",
       "      <th>3336</th>\n",
       "      <td>0</td>\n",
       "      <td>800 Std</td>\n",
       "      <td>1.30</td>\n",
       "      <td>10K</td>\n",
       "      <td>80000</td>\n",
       "      <td>Petrol</td>\n",
       "      <td>Manual</td>\n",
       "      <td>2</td>\n",
       "      <td>24</td>\n",
       "      <td>3</td>\n",
       "      <td>5</td>\n",
       "    </tr>\n",
       "  </tbody>\n",
       "</table>\n",
       "</div>"
      ],
      "text/plain": [
       "      Brand_lv                car_name  car_prices multiply NT  kms_driven  \\\n",
       "4633         0           Tiago XTA AMT       22.69         10K        2640   \n",
       "480          0         Jeep CL 500 MDI        9.67         10K      100000   \n",
       "906          0    Scorpio 2.6 SLX CRDe        6.69         10K      120000   \n",
       "4498         0            Qualis FS B1        6.51         10K      120000   \n",
       "2111         0            Qualis FS B1        6.32         10K      120000   \n",
       "367          0                 Zen VXI        4.09         10K       90000   \n",
       "4486         0               Santro AT        3.72         10K       68000   \n",
       "4841         0             Wagon R VXI        3.72         10K       59726   \n",
       "3076         0            800 Std BSII        3.11         10K       29000   \n",
       "2595         0                 Alto LX        2.96         10K       70000   \n",
       "2336         0          800 DX 5 Speed        2.96         10K       50000   \n",
       "3394         0  Santro GLS I - Euro II        2.40         10K      147000   \n",
       "1689         0           Palio 1.2 ELX        2.22         10K       20000   \n",
       "2353         0                  Zen LX        2.22         10K      100000   \n",
       "4127         0                 Alto LX        2.04         10K       50000   \n",
       "945          0          800 DX 5 Speed        2.04         10K       30000   \n",
       "947          0                 800 Std        1.66         10K       50000   \n",
       "2204         0          800 DX 5 Speed        1.48         10K       80000   \n",
       "957          0                 Zen LXI        1.44         10K      100000   \n",
       "3336         0                 800 Std        1.30         10K       80000   \n",
       "\n",
       "     fuel_type transmission  ownership  Age  engine_class  Seats  \n",
       "4633    Petrol    Automatic          1   21             2      5  \n",
       "480     Diesel       Manual          1   28             1      6  \n",
       "906     Diesel       Manual          3   21             3      5  \n",
       "4498    Diesel       Manual          3   22             2      5  \n",
       "2111    Diesel       Manual          3   21             1      5  \n",
       "367     Petrol       Manual          3   25             1      5  \n",
       "4486    Petrol    Automatic          2   21             2      5  \n",
       "4841    Petrol       Manual          1   21             2      5  \n",
       "3076    Petrol       Manual          1   21             1      7  \n",
       "2595    Petrol       Manual          2   21             1      5  \n",
       "2336    Petrol       Manual          3   22             3      7  \n",
       "3394    Petrol       Manual          1   23             2      5  \n",
       "1689    Petrol       Manual          1   21             1      5  \n",
       "2353    Petrol       Manual          2   25             2      5  \n",
       "4127    Petrol       Manual          2   21             2      5  \n",
       "945     Petrol       Manual          1   21             1      7  \n",
       "947     Petrol       Manual          4   23             1      7  \n",
       "2204    Petrol       Manual          1   23             1      5  \n",
       "957     Petrol       Manual          2   23             2      5  \n",
       "3336    Petrol       Manual          2   24             3      5  "
      ]
     },
     "execution_count": 39,
     "metadata": {},
     "output_type": "execute_result"
    }
   ],
   "source": [
    "old5.sort_values(\"car_prices\",ascending = False)"
   ]
  },
  {
   "cell_type": "markdown",
   "id": "f41e0907",
   "metadata": {
    "papermill": {
     "duration": 0.034057,
     "end_time": "2023-01-06T07:09:10.277411",
     "exception": false,
     "start_time": "2023-01-06T07:09:10.243354",
     "status": "completed"
    },
    "tags": []
   },
   "source": [
    " **According to the information online,Tata was first launched Tiago XTA AMT in 2017.The data in this case might be wrong.**  \n",
    " **Compare the price of \"Tata Tiago XTA AMT\" to others manufactured in 2017 and Brand_lv also is 0,there price are closed.**  \n",
    " **I think we should modify the manufacture year into 2017.**"
   ]
  },
  {
   "cell_type": "code",
   "execution_count": 40,
   "id": "830adb90",
   "metadata": {
    "execution": {
     "iopub.execute_input": "2023-01-06T07:09:10.350576Z",
     "iopub.status.busy": "2023-01-06T07:09:10.350086Z",
     "iopub.status.idle": "2023-01-06T07:09:10.377480Z",
     "shell.execute_reply": "2023-01-06T07:09:10.375258Z"
    },
    "papermill": {
     "duration": 0.069505,
     "end_time": "2023-01-06T07:09:10.380811",
     "exception": false,
     "start_time": "2023-01-06T07:09:10.311306",
     "status": "completed"
    },
    "tags": []
   },
   "outputs": [
    {
     "name": "stdout",
     "output_type": "stream",
     "text": [
      "25.49777559055118\n"
     ]
    },
    {
     "data": {
      "text/html": [
       "<div>\n",
       "<style scoped>\n",
       "    .dataframe tbody tr th:only-of-type {\n",
       "        vertical-align: middle;\n",
       "    }\n",
       "\n",
       "    .dataframe tbody tr th {\n",
       "        vertical-align: top;\n",
       "    }\n",
       "\n",
       "    .dataframe thead th {\n",
       "        text-align: right;\n",
       "    }\n",
       "</style>\n",
       "<table border=\"1\" class=\"dataframe\">\n",
       "  <thead>\n",
       "    <tr style=\"text-align: right;\">\n",
       "      <th></th>\n",
       "      <th>Unnamed: 0</th>\n",
       "      <th>Brand</th>\n",
       "      <th>Brand_lv</th>\n",
       "      <th>car_name</th>\n",
       "      <th>car_prices</th>\n",
       "      <th>multiply NT</th>\n",
       "      <th>kms_driven</th>\n",
       "      <th>fuel_type</th>\n",
       "      <th>transmission</th>\n",
       "      <th>ownership</th>\n",
       "      <th>manufacture</th>\n",
       "      <th>Age</th>\n",
       "      <th>engine</th>\n",
       "      <th>engine_class</th>\n",
       "      <th>Seats</th>\n",
       "    </tr>\n",
       "  </thead>\n",
       "  <tbody>\n",
       "    <tr>\n",
       "      <th>4633</th>\n",
       "      <td>4633</td>\n",
       "      <td>Tata</td>\n",
       "      <td>0</td>\n",
       "      <td>Tiago XTA AMT</td>\n",
       "      <td>22.69</td>\n",
       "      <td>10K</td>\n",
       "      <td>2640</td>\n",
       "      <td>Petrol</td>\n",
       "      <td>Automatic</td>\n",
       "      <td>1</td>\n",
       "      <td>2002</td>\n",
       "      <td>21</td>\n",
       "      <td>1298</td>\n",
       "      <td>2</td>\n",
       "      <td>5</td>\n",
       "    </tr>\n",
       "  </tbody>\n",
       "</table>\n",
       "</div>"
      ],
      "text/plain": [
       "      Unnamed: 0 Brand  Brand_lv       car_name  car_prices multiply NT  \\\n",
       "4633        4633  Tata         0  Tiago XTA AMT       22.69         10K   \n",
       "\n",
       "      kms_driven fuel_type transmission  ownership  manufacture  Age  engine  \\\n",
       "4633        2640    Petrol    Automatic          1         2002   21    1298   \n",
       "\n",
       "      engine_class  Seats  \n",
       "4633             2      5  "
      ]
     },
     "execution_count": 40,
     "metadata": {},
     "output_type": "execute_result"
    }
   ],
   "source": [
    "print(df[(df[\"manufacture\"]==2017) & (df[\"Brand_lv\"] == 0)][\"car_prices\"].mean())\n",
    "df[df[\"car_name\"]==\"Tiago XTA AMT\"]"
   ]
  },
  {
   "cell_type": "code",
   "execution_count": 41,
   "id": "3e9be5f9",
   "metadata": {
    "execution": {
     "iopub.execute_input": "2023-01-06T07:09:10.454403Z",
     "iopub.status.busy": "2023-01-06T07:09:10.453211Z",
     "iopub.status.idle": "2023-01-06T07:09:10.482416Z",
     "shell.execute_reply": "2023-01-06T07:09:10.480847Z"
    },
    "papermill": {
     "duration": 0.067777,
     "end_time": "2023-01-06T07:09:10.485122",
     "exception": false,
     "start_time": "2023-01-06T07:09:10.417345",
     "status": "completed"
    },
    "tags": []
   },
   "outputs": [
    {
     "data": {
      "text/html": [
       "<div>\n",
       "<style scoped>\n",
       "    .dataframe tbody tr th:only-of-type {\n",
       "        vertical-align: middle;\n",
       "    }\n",
       "\n",
       "    .dataframe tbody tr th {\n",
       "        vertical-align: top;\n",
       "    }\n",
       "\n",
       "    .dataframe thead th {\n",
       "        text-align: right;\n",
       "    }\n",
       "</style>\n",
       "<table border=\"1\" class=\"dataframe\">\n",
       "  <thead>\n",
       "    <tr style=\"text-align: right;\">\n",
       "      <th></th>\n",
       "      <th>Brand_lv</th>\n",
       "      <th>car_name</th>\n",
       "      <th>car_prices</th>\n",
       "      <th>multiply NT</th>\n",
       "      <th>kms_driven</th>\n",
       "      <th>fuel_type</th>\n",
       "      <th>transmission</th>\n",
       "      <th>ownership</th>\n",
       "      <th>Age</th>\n",
       "      <th>engine_class</th>\n",
       "      <th>Seats</th>\n",
       "    </tr>\n",
       "  </thead>\n",
       "  <tbody>\n",
       "    <tr>\n",
       "      <th>4633</th>\n",
       "      <td>0</td>\n",
       "      <td>Tiago XTA AMT</td>\n",
       "      <td>22.69</td>\n",
       "      <td>10K</td>\n",
       "      <td>2640</td>\n",
       "      <td>Petrol</td>\n",
       "      <td>Automatic</td>\n",
       "      <td>1</td>\n",
       "      <td>6</td>\n",
       "      <td>2</td>\n",
       "      <td>5</td>\n",
       "    </tr>\n",
       "  </tbody>\n",
       "</table>\n",
       "</div>"
      ],
      "text/plain": [
       "      Brand_lv       car_name  car_prices multiply NT  kms_driven fuel_type  \\\n",
       "4633         0  Tiago XTA AMT       22.69         10K        2640    Petrol   \n",
       "\n",
       "     transmission  ownership  Age  engine_class  Seats  \n",
       "4633    Automatic          1    6             2      5  "
      ]
     },
     "execution_count": 41,
     "metadata": {},
     "output_type": "execute_result"
    }
   ],
   "source": [
    "df2[df2[\"car_name\"] == \"Tiago XTA AMT\"][\"Age\"] = df2[df2[\"car_name\"] == \"Tiago XTA AMT\"][\"Age\"]-15\n",
    "df2[df2[\"car_name\"] == \"Tiago XTA AMT\"] = df2[df2[\"car_name\"] == \"Tiago XTA AMT\"].replace(21,6)\n",
    "df2[df2[\"car_name\"] == \"Tiago XTA AMT\"]"
   ]
  },
  {
   "cell_type": "code",
   "execution_count": 42,
   "id": "39400ef8",
   "metadata": {
    "execution": {
     "iopub.execute_input": "2023-01-06T07:09:10.558360Z",
     "iopub.status.busy": "2023-01-06T07:09:10.557514Z",
     "iopub.status.idle": "2023-01-06T07:09:10.587868Z",
     "shell.execute_reply": "2023-01-06T07:09:10.586271Z"
    },
    "papermill": {
     "duration": 0.070541,
     "end_time": "2023-01-06T07:09:10.591673",
     "exception": false,
     "start_time": "2023-01-06T07:09:10.521132",
     "status": "completed"
    },
    "tags": []
   },
   "outputs": [
    {
     "data": {
      "text/html": [
       "<div>\n",
       "<style scoped>\n",
       "    .dataframe tbody tr th:only-of-type {\n",
       "        vertical-align: middle;\n",
       "    }\n",
       "\n",
       "    .dataframe tbody tr th {\n",
       "        vertical-align: top;\n",
       "    }\n",
       "\n",
       "    .dataframe thead th {\n",
       "        text-align: right;\n",
       "    }\n",
       "</style>\n",
       "<table border=\"1\" class=\"dataframe\">\n",
       "  <thead>\n",
       "    <tr style=\"text-align: right;\">\n",
       "      <th></th>\n",
       "      <th>Brand_lv</th>\n",
       "      <th>car_name</th>\n",
       "      <th>car_prices</th>\n",
       "      <th>multiply NT</th>\n",
       "      <th>kms_driven</th>\n",
       "      <th>fuel_type</th>\n",
       "      <th>transmission</th>\n",
       "      <th>ownership</th>\n",
       "      <th>Age</th>\n",
       "      <th>engine_class</th>\n",
       "      <th>Seats</th>\n",
       "    </tr>\n",
       "  </thead>\n",
       "  <tbody>\n",
       "    <tr>\n",
       "      <th>480</th>\n",
       "      <td>0</td>\n",
       "      <td>Jeep CL 500 MDI</td>\n",
       "      <td>9.67</td>\n",
       "      <td>10K</td>\n",
       "      <td>100000</td>\n",
       "      <td>Diesel</td>\n",
       "      <td>Manual</td>\n",
       "      <td>1</td>\n",
       "      <td>28</td>\n",
       "      <td>1</td>\n",
       "      <td>6</td>\n",
       "    </tr>\n",
       "  </tbody>\n",
       "</table>\n",
       "</div>"
      ],
      "text/plain": [
       "     Brand_lv         car_name  car_prices multiply NT  kms_driven fuel_type  \\\n",
       "480         0  Jeep CL 500 MDI        9.67         10K      100000    Diesel   \n",
       "\n",
       "    transmission  ownership  Age  engine_class  Seats  \n",
       "480       Manual          1   28             1      6  "
      ]
     },
     "metadata": {},
     "output_type": "display_data"
    },
    {
     "data": {
      "text/html": [
       "<div>\n",
       "<style scoped>\n",
       "    .dataframe tbody tr th:only-of-type {\n",
       "        vertical-align: middle;\n",
       "    }\n",
       "\n",
       "    .dataframe tbody tr th {\n",
       "        vertical-align: top;\n",
       "    }\n",
       "\n",
       "    .dataframe thead th {\n",
       "        text-align: right;\n",
       "    }\n",
       "</style>\n",
       "<table border=\"1\" class=\"dataframe\">\n",
       "  <thead>\n",
       "    <tr style=\"text-align: right;\">\n",
       "      <th></th>\n",
       "      <th>Brand_lv</th>\n",
       "      <th>car_name</th>\n",
       "      <th>car_prices</th>\n",
       "      <th>multiply NT</th>\n",
       "      <th>kms_driven</th>\n",
       "      <th>fuel_type</th>\n",
       "      <th>transmission</th>\n",
       "      <th>ownership</th>\n",
       "      <th>Age</th>\n",
       "      <th>engine_class</th>\n",
       "      <th>Seats</th>\n",
       "    </tr>\n",
       "  </thead>\n",
       "  <tbody>\n",
       "    <tr>\n",
       "      <th>4498</th>\n",
       "      <td>0</td>\n",
       "      <td>Qualis FS B1</td>\n",
       "      <td>6.51</td>\n",
       "      <td>10K</td>\n",
       "      <td>120000</td>\n",
       "      <td>Diesel</td>\n",
       "      <td>Manual</td>\n",
       "      <td>3</td>\n",
       "      <td>22</td>\n",
       "      <td>2</td>\n",
       "      <td>5</td>\n",
       "    </tr>\n",
       "  </tbody>\n",
       "</table>\n",
       "</div>"
      ],
      "text/plain": [
       "      Brand_lv      car_name  car_prices multiply NT  kms_driven fuel_type  \\\n",
       "4498         0  Qualis FS B1        6.51         10K      120000    Diesel   \n",
       "\n",
       "     transmission  ownership  Age  engine_class  Seats  \n",
       "4498       Manual          3   22             2      5  "
      ]
     },
     "metadata": {},
     "output_type": "display_data"
    }
   ],
   "source": [
    "display(df3.tail(1))\n",
    "display(df3.iloc[-10:-9])"
   ]
  },
  {
   "cell_type": "code",
   "execution_count": 43,
   "id": "16bb7947",
   "metadata": {
    "execution": {
     "iopub.execute_input": "2023-01-06T07:09:10.688078Z",
     "iopub.status.busy": "2023-01-06T07:09:10.686291Z",
     "iopub.status.idle": "2023-01-06T07:09:11.573561Z",
     "shell.execute_reply": "2023-01-06T07:09:11.572159Z"
    },
    "papermill": {
     "duration": 0.936582,
     "end_time": "2023-01-06T07:09:11.576913",
     "exception": false,
     "start_time": "2023-01-06T07:09:10.640331",
     "status": "completed"
    },
    "tags": []
   },
   "outputs": [
    {
     "data": {
      "image/png": "[encoded data removed]",
      "text/plain": [
       "<Figure size 720x576 with 2 Axes>"
      ]
     },
     "metadata": {},
     "output_type": "display_data"
    }
   ],
   "source": [
    "df_hm = df2.copy()\n",
    "df_hm[\"fuel_type\"] = df_hm[\"fuel_type\"].map({\"Petrol\":0,\"Diesel\":1,\"Cng\":2,\"Lpg\":3,\"Electric\":4})\n",
    "df_hm[\"transmission\"] = df_hm[\"transmission\"].map({\"Manual\":0,\"Automatic\":1})\n",
    "\n",
    "# Verify the heatmap of correlations \n",
    "plt.figure(figsize = (10, 8))\n",
    "sns.heatmap(df_hm.corr(), cmap = 'Blues', annot = True, fmt = '.2f');"
   ]
  },
  {
   "cell_type": "markdown",
   "id": "8dde48ee",
   "metadata": {
    "papermill": {
     "duration": 0.036347,
     "end_time": "2023-01-06T07:09:11.651788",
     "exception": false,
     "start_time": "2023-01-06T07:09:11.615441",
     "status": "completed"
    },
    "tags": []
   },
   "source": [
    "## Machine Learning"
   ]
  },
  {
   "cell_type": "code",
   "execution_count": 44,
   "id": "85b649be",
   "metadata": {
    "execution": {
     "iopub.execute_input": "2023-01-06T07:09:11.726842Z",
     "iopub.status.busy": "2023-01-06T07:09:11.726413Z",
     "iopub.status.idle": "2023-01-06T07:09:11.742069Z",
     "shell.execute_reply": "2023-01-06T07:09:11.740507Z"
    },
    "papermill": {
     "duration": 0.057799,
     "end_time": "2023-01-06T07:09:11.745871",
     "exception": false,
     "start_time": "2023-01-06T07:09:11.688072",
     "status": "completed"
    },
    "tags": []
   },
   "outputs": [
    {
     "name": "stdout",
     "output_type": "stream",
     "text": [
      "<class 'pandas.core.frame.DataFrame'>\n",
      "Int64Index: 5500 entries, 0 to 5511\n",
      "Data columns (total 11 columns):\n",
      " #   Column        Non-Null Count  Dtype  \n",
      "---  ------        --------------  -----  \n",
      " 0   Brand_lv      5500 non-null   int64  \n",
      " 1   car_name      5500 non-null   object \n",
      " 2   car_prices    5500 non-null   float64\n",
      " 3   multiply NT   5500 non-null   object \n",
      " 4   kms_driven    5500 non-null   int64  \n",
      " 5   fuel_type     5500 non-null   object \n",
      " 6   transmission  5500 non-null   object \n",
      " 7   ownership     5500 non-null   int64  \n",
      " 8   Age           5500 non-null   int64  \n",
      " 9   engine_class  5500 non-null   int64  \n",
      " 10  Seats         5500 non-null   int64  \n",
      "dtypes: float64(1), int64(6), object(4)\n",
      "memory usage: 644.7+ KB\n"
     ]
    }
   ],
   "source": [
    "df2.info()"
   ]
  },
  {
   "cell_type": "code",
   "execution_count": 45,
   "id": "75e5dc1b",
   "metadata": {
    "execution": {
     "iopub.execute_input": "2023-01-06T07:09:11.828791Z",
     "iopub.status.busy": "2023-01-06T07:09:11.826870Z",
     "iopub.status.idle": "2023-01-06T07:09:11.854565Z",
     "shell.execute_reply": "2023-01-06T07:09:11.853490Z"
    },
    "papermill": {
     "duration": 0.07413,
     "end_time": "2023-01-06T07:09:11.857110",
     "exception": false,
     "start_time": "2023-01-06T07:09:11.782980",
     "status": "completed"
    },
    "tags": []
   },
   "outputs": [
    {
     "data": {
      "text/html": [
       "<div>\n",
       "<style scoped>\n",
       "    .dataframe tbody tr th:only-of-type {\n",
       "        vertical-align: middle;\n",
       "    }\n",
       "\n",
       "    .dataframe tbody tr th {\n",
       "        vertical-align: top;\n",
       "    }\n",
       "\n",
       "    .dataframe thead th {\n",
       "        text-align: right;\n",
       "    }\n",
       "</style>\n",
       "<table border=\"1\" class=\"dataframe\">\n",
       "  <thead>\n",
       "    <tr style=\"text-align: right;\">\n",
       "      <th></th>\n",
       "      <th>Brand_lv</th>\n",
       "      <th>car_prices</th>\n",
       "      <th>kms_driven</th>\n",
       "      <th>fuel_type</th>\n",
       "      <th>transmission</th>\n",
       "      <th>ownership</th>\n",
       "      <th>Age</th>\n",
       "      <th>engine_class</th>\n",
       "      <th>Seats</th>\n",
       "    </tr>\n",
       "  </thead>\n",
       "  <tbody>\n",
       "    <tr>\n",
       "      <th>0</th>\n",
       "      <td>1</td>\n",
       "      <td>37.30</td>\n",
       "      <td>86226</td>\n",
       "      <td>1</td>\n",
       "      <td>0</td>\n",
       "      <td>1</td>\n",
       "      <td>6</td>\n",
       "      <td>3</td>\n",
       "      <td>5</td>\n",
       "    </tr>\n",
       "    <tr>\n",
       "      <th>1</th>\n",
       "      <td>0</td>\n",
       "      <td>47.72</td>\n",
       "      <td>13248</td>\n",
       "      <td>0</td>\n",
       "      <td>1</td>\n",
       "      <td>1</td>\n",
       "      <td>2</td>\n",
       "      <td>2</td>\n",
       "      <td>5</td>\n",
       "    </tr>\n",
       "    <tr>\n",
       "      <th>2</th>\n",
       "      <td>0</td>\n",
       "      <td>61.00</td>\n",
       "      <td>60343</td>\n",
       "      <td>0</td>\n",
       "      <td>1</td>\n",
       "      <td>1</td>\n",
       "      <td>7</td>\n",
       "      <td>4</td>\n",
       "      <td>5</td>\n",
       "    </tr>\n",
       "    <tr>\n",
       "      <th>3</th>\n",
       "      <td>0</td>\n",
       "      <td>28.90</td>\n",
       "      <td>26696</td>\n",
       "      <td>0</td>\n",
       "      <td>1</td>\n",
       "      <td>1</td>\n",
       "      <td>5</td>\n",
       "      <td>1</td>\n",
       "      <td>5</td>\n",
       "    </tr>\n",
       "    <tr>\n",
       "      <th>4</th>\n",
       "      <td>1</td>\n",
       "      <td>19.15</td>\n",
       "      <td>69414</td>\n",
       "      <td>0</td>\n",
       "      <td>0</td>\n",
       "      <td>1</td>\n",
       "      <td>7</td>\n",
       "      <td>1</td>\n",
       "      <td>5</td>\n",
       "    </tr>\n",
       "    <tr>\n",
       "      <th>...</th>\n",
       "      <td>...</td>\n",
       "      <td>...</td>\n",
       "      <td>...</td>\n",
       "      <td>...</td>\n",
       "      <td>...</td>\n",
       "      <td>...</td>\n",
       "      <td>...</td>\n",
       "      <td>...</td>\n",
       "      <td>...</td>\n",
       "    </tr>\n",
       "    <tr>\n",
       "      <th>5507</th>\n",
       "      <td>2</td>\n",
       "      <td>107.49</td>\n",
       "      <td>45000</td>\n",
       "      <td>1</td>\n",
       "      <td>1</td>\n",
       "      <td>1</td>\n",
       "      <td>5</td>\n",
       "      <td>4</td>\n",
       "      <td>7</td>\n",
       "    </tr>\n",
       "    <tr>\n",
       "      <th>5508</th>\n",
       "      <td>2</td>\n",
       "      <td>241.38</td>\n",
       "      <td>29000</td>\n",
       "      <td>0</td>\n",
       "      <td>1</td>\n",
       "      <td>2</td>\n",
       "      <td>8</td>\n",
       "      <td>3</td>\n",
       "      <td>5</td>\n",
       "    </tr>\n",
       "    <tr>\n",
       "      <th>5509</th>\n",
       "      <td>2</td>\n",
       "      <td>51.14</td>\n",
       "      <td>90000</td>\n",
       "      <td>1</td>\n",
       "      <td>1</td>\n",
       "      <td>2</td>\n",
       "      <td>10</td>\n",
       "      <td>4</td>\n",
       "      <td>5</td>\n",
       "    </tr>\n",
       "    <tr>\n",
       "      <th>5510</th>\n",
       "      <td>2</td>\n",
       "      <td>111.21</td>\n",
       "      <td>79000</td>\n",
       "      <td>1</td>\n",
       "      <td>1</td>\n",
       "      <td>3</td>\n",
       "      <td>8</td>\n",
       "      <td>4</td>\n",
       "      <td>6</td>\n",
       "    </tr>\n",
       "    <tr>\n",
       "      <th>5511</th>\n",
       "      <td>2</td>\n",
       "      <td>118.65</td>\n",
       "      <td>42000</td>\n",
       "      <td>1</td>\n",
       "      <td>1</td>\n",
       "      <td>2</td>\n",
       "      <td>6</td>\n",
       "      <td>3</td>\n",
       "      <td>5</td>\n",
       "    </tr>\n",
       "  </tbody>\n",
       "</table>\n",
       "<p>5500 rows × 9 columns</p>\n",
       "</div>"
      ],
      "text/plain": [
       "      Brand_lv  car_prices  kms_driven  fuel_type  transmission  ownership  \\\n",
       "0            1       37.30       86226          1             0          1   \n",
       "1            0       47.72       13248          0             1          1   \n",
       "2            0       61.00       60343          0             1          1   \n",
       "3            0       28.90       26696          0             1          1   \n",
       "4            1       19.15       69414          0             0          1   \n",
       "...        ...         ...         ...        ...           ...        ...   \n",
       "5507         2      107.49       45000          1             1          1   \n",
       "5508         2      241.38       29000          0             1          2   \n",
       "5509         2       51.14       90000          1             1          2   \n",
       "5510         2      111.21       79000          1             1          3   \n",
       "5511         2      118.65       42000          1             1          2   \n",
       "\n",
       "      Age  engine_class  Seats  \n",
       "0       6             3      5  \n",
       "1       2             2      5  \n",
       "2       7             4      5  \n",
       "3       5             1      5  \n",
       "4       7             1      5  \n",
       "...   ...           ...    ...  \n",
       "5507    5             4      7  \n",
       "5508    8             3      5  \n",
       "5509   10             4      5  \n",
       "5510    8             4      6  \n",
       "5511    6             3      5  \n",
       "\n",
       "[5500 rows x 9 columns]"
      ]
     },
     "execution_count": 45,
     "metadata": {},
     "output_type": "execute_result"
    }
   ],
   "source": [
    "df_train= df2.copy()\n",
    "df_train[\"fuel_type\"] = df_train[\"fuel_type\"].map({\"Petrol\":0,\"Diesel\":1,\"Cng\":2,\"Lpg\":3,\"Electric\":4})\n",
    "df_train[\"transmission\"] = df_train[\"transmission\"].map({\"Manual\":0,\"Automatic\":1})\n",
    "\n",
    "df_train.drop([\"car_name\",\"multiply NT\"],axis=1,inplace=True)\n",
    "df_train"
   ]
  },
  {
   "cell_type": "code",
   "execution_count": 46,
   "id": "6c49f567",
   "metadata": {
    "execution": {
     "iopub.execute_input": "2023-01-06T07:09:11.932778Z",
     "iopub.status.busy": "2023-01-06T07:09:11.931996Z",
     "iopub.status.idle": "2023-01-06T07:09:11.938926Z",
     "shell.execute_reply": "2023-01-06T07:09:11.937826Z"
    },
    "papermill": {
     "duration": 0.047017,
     "end_time": "2023-01-06T07:09:11.941596",
     "exception": false,
     "start_time": "2023-01-06T07:09:11.894579",
     "status": "completed"
    },
    "tags": []
   },
   "outputs": [],
   "source": [
    "df_X = df_train.copy().drop([\"car_prices\"],axis = 1)\n",
    "df_y = df_train[\"car_prices\"].copy()"
   ]
  },
  {
   "cell_type": "code",
   "execution_count": 47,
   "id": "fdbb83b8",
   "metadata": {
    "execution": {
     "iopub.execute_input": "2023-01-06T07:09:12.018779Z",
     "iopub.status.busy": "2023-01-06T07:09:12.017928Z",
     "iopub.status.idle": "2023-01-06T07:09:12.022814Z",
     "shell.execute_reply": "2023-01-06T07:09:12.021664Z"
    },
    "papermill": {
     "duration": 0.04681,
     "end_time": "2023-01-06T07:09:12.025573",
     "exception": false,
     "start_time": "2023-01-06T07:09:11.978763",
     "status": "completed"
    },
    "tags": []
   },
   "outputs": [],
   "source": [
    "# Normalizando kms_driven: \n",
    "\n",
    "# from sklearn.preprocessing import MinMaxScaler\n",
    "# df_X['kms_driven'] = MinMaxScaler().fit_transform(df_X['kms_driven'].values.reshape(len(df_X), 1))\n",
    "# df_X"
   ]
  },
  {
   "cell_type": "code",
   "execution_count": 48,
   "id": "47ed6942",
   "metadata": {
    "execution": {
     "iopub.execute_input": "2023-01-06T07:09:12.103102Z",
     "iopub.status.busy": "2023-01-06T07:09:12.101672Z",
     "iopub.status.idle": "2023-01-06T07:09:12.380586Z",
     "shell.execute_reply": "2023-01-06T07:09:12.379214Z"
    },
    "papermill": {
     "duration": 0.320947,
     "end_time": "2023-01-06T07:09:12.383616",
     "exception": false,
     "start_time": "2023-01-06T07:09:12.062669",
     "status": "completed"
    },
    "tags": []
   },
   "outputs": [],
   "source": [
    "# Split data to train and test: \n",
    "\n",
    "from sklearn.model_selection import train_test_split\n",
    "X_train, X_test, y_train, y_test = train_test_split(df_X, df_y ,test_size=0.25, random_state=1)"
   ]
  },
  {
   "cell_type": "code",
   "execution_count": 49,
   "id": "0a378697",
   "metadata": {
    "execution": {
     "iopub.execute_input": "2023-01-06T07:09:12.460182Z",
     "iopub.status.busy": "2023-01-06T07:09:12.459771Z",
     "iopub.status.idle": "2023-01-06T07:09:12.464120Z",
     "shell.execute_reply": "2023-01-06T07:09:12.463060Z"
    },
    "papermill": {
     "duration": 0.045748,
     "end_time": "2023-01-06T07:09:12.466552",
     "exception": false,
     "start_time": "2023-01-06T07:09:12.420804",
     "status": "completed"
    },
    "tags": []
   },
   "outputs": [],
   "source": [
    "# from sklearn.preprocessing import StandardScaler\n",
    "# sc = StandardScaler()\n",
    "# X_train = sc.fit_transform(X_train)\n",
    "# X_test = sc.transform(X_test)"
   ]
  },
  {
   "cell_type": "code",
   "execution_count": 50,
   "id": "24154162",
   "metadata": {
    "execution": {
     "iopub.execute_input": "2023-01-06T07:09:12.543788Z",
     "iopub.status.busy": "2023-01-06T07:09:12.542967Z",
     "iopub.status.idle": "2023-01-06T07:09:12.557253Z",
     "shell.execute_reply": "2023-01-06T07:09:12.555239Z"
    },
    "papermill": {
     "duration": 0.057919,
     "end_time": "2023-01-06T07:09:12.560429",
     "exception": false,
     "start_time": "2023-01-06T07:09:12.502510",
     "status": "completed"
    },
    "tags": []
   },
   "outputs": [
    {
     "name": "stdout",
     "output_type": "stream",
     "text": [
      "<class 'pandas.core.frame.DataFrame'>\n",
      "Int64Index: 4125 entries, 3052 to 5168\n",
      "Data columns (total 8 columns):\n",
      " #   Column        Non-Null Count  Dtype\n",
      "---  ------        --------------  -----\n",
      " 0   Brand_lv      4125 non-null   int64\n",
      " 1   kms_driven    4125 non-null   int64\n",
      " 2   fuel_type     4125 non-null   int64\n",
      " 3   transmission  4125 non-null   int64\n",
      " 4   ownership     4125 non-null   int64\n",
      " 5   Age           4125 non-null   int64\n",
      " 6   engine_class  4125 non-null   int64\n",
      " 7   Seats         4125 non-null   int64\n",
      "dtypes: int64(8)\n",
      "memory usage: 290.0 KB\n"
     ]
    }
   ],
   "source": [
    "X_train.info()"
   ]
  },
  {
   "cell_type": "code",
   "execution_count": 51,
   "id": "7d6b8a54",
   "metadata": {
    "execution": {
     "iopub.execute_input": "2023-01-06T07:09:12.637268Z",
     "iopub.status.busy": "2023-01-06T07:09:12.636489Z",
     "iopub.status.idle": "2023-01-06T07:09:12.646164Z",
     "shell.execute_reply": "2023-01-06T07:09:12.644488Z"
    },
    "papermill": {
     "duration": 0.050932,
     "end_time": "2023-01-06T07:09:12.649595",
     "exception": false,
     "start_time": "2023-01-06T07:09:12.598663",
     "status": "completed"
    },
    "tags": []
   },
   "outputs": [
    {
     "data": {
      "text/plain": [
       "3052      7.44\n",
       "111     115.30\n",
       "3528      9.37\n",
       "4254    162.72\n",
       "2731      6.73\n",
       "         ...  \n",
       "909      21.01\n",
       "5203     31.69\n",
       "3990     21.57\n",
       "235      29.38\n",
       "5168     18.37\n",
       "Name: car_prices, Length: 4125, dtype: float64"
      ]
     },
     "execution_count": 51,
     "metadata": {},
     "output_type": "execute_result"
    }
   ],
   "source": [
    "y_train"
   ]
  },
  {
   "cell_type": "code",
   "execution_count": 52,
   "id": "ddf544f4",
   "metadata": {
    "execution": {
     "iopub.execute_input": "2023-01-06T07:09:12.724289Z",
     "iopub.status.busy": "2023-01-06T07:09:12.723526Z",
     "iopub.status.idle": "2023-01-06T07:09:13.011793Z",
     "shell.execute_reply": "2023-01-06T07:09:13.010227Z"
    },
    "papermill": {
     "duration": 0.32893,
     "end_time": "2023-01-06T07:09:13.015063",
     "exception": false,
     "start_time": "2023-01-06T07:09:12.686133",
     "status": "completed"
    },
    "tags": []
   },
   "outputs": [
    {
     "data": {
      "text/plain": [
       "[RandomForestRegressor(), DecisionTreeRegressor(), LinearRegression()]"
      ]
     },
     "execution_count": 52,
     "metadata": {},
     "output_type": "execute_result"
    }
   ],
   "source": [
    "from sklearn.tree import DecisionTreeRegressor\n",
    "from sklearn.linear_model import LinearRegression\n",
    "from sklearn.ensemble import RandomForestRegressor\n",
    "from sklearn.model_selection import cross_val_score,GridSearchCV\n",
    "\n",
    "\n",
    "Regression=[ ]\n",
    "Regression.append(RandomForestRegressor())\n",
    "Regression.append(DecisionTreeRegressor())\n",
    "Regression.append(LinearRegression())\n",
    "\n",
    "Regression"
   ]
  },
  {
   "cell_type": "code",
   "execution_count": 53,
   "id": "8b494645",
   "metadata": {
    "execution": {
     "iopub.execute_input": "2023-01-06T07:09:13.092559Z",
     "iopub.status.busy": "2023-01-06T07:09:13.091988Z",
     "iopub.status.idle": "2023-01-06T07:09:13.100139Z",
     "shell.execute_reply": "2023-01-06T07:09:13.099126Z"
    },
    "papermill": {
     "duration": 0.049622,
     "end_time": "2023-01-06T07:09:13.102775",
     "exception": false,
     "start_time": "2023-01-06T07:09:13.053153",
     "status": "completed"
    },
    "tags": []
   },
   "outputs": [
    {
     "data": {
      "text/plain": [
       "'continuous'"
      ]
     },
     "execution_count": 53,
     "metadata": {},
     "output_type": "execute_result"
    }
   ],
   "source": [
    "from sklearn.utils.multiclass import type_of_target\n",
    "type_of_target(y_train)"
   ]
  },
  {
   "cell_type": "code",
   "execution_count": 54,
   "id": "1111cce4",
   "metadata": {
    "execution": {
     "iopub.execute_input": "2023-01-06T07:09:13.179465Z",
     "iopub.status.busy": "2023-01-06T07:09:13.178066Z",
     "iopub.status.idle": "2023-01-06T07:09:19.393447Z",
     "shell.execute_reply": "2023-01-06T07:09:19.391968Z"
    },
    "papermill": {
     "duration": 6.257146,
     "end_time": "2023-01-06T07:09:19.396300",
     "exception": false,
     "start_time": "2023-01-06T07:09:13.139154",
     "status": "completed"
    },
    "tags": []
   },
   "outputs": [
    {
     "data": {
      "text/plain": [
       "[array([0.5394516 , 0.41487987, 0.39776766, 0.50158566, 0.42269799,\n",
       "        0.39561387, 0.44830671, 0.46311598, 0.41100744, 0.4880446 ]),\n",
       " array([0.79767139, 0.85354635, 0.83595641, 0.87258154, 0.8327886 ,\n",
       "        0.8828843 , 0.87732571, 0.83738766, 0.81691255, 0.78655707]),\n",
       " array([0.67327155, 0.71271987, 0.67647237, 0.67946329, 0.57162285,\n",
       "        0.57606692, 0.66082801, 0.58281966, 0.54949619, 0.82526434])]"
      ]
     },
     "execution_count": 54,
     "metadata": {},
     "output_type": "execute_result"
    }
   ],
   "source": [
    "cv_results=[]\n",
    "\n",
    "LR_model = LinearRegression(n_jobs=-1)\n",
    "cv_results.append(cross_val_score(LR_model,X_train,y_train,cv=10,n_jobs=-1))\n",
    "\n",
    "\n",
    "randomForestModel = RandomForestRegressor(n_estimators=100, criterion = 'mse')\n",
    "cv_results.append(cross_val_score(randomForestModel,X_train,y_train,cv=10,n_jobs=-1))\n",
    "\n",
    "\n",
    "decisionTreeModel = DecisionTreeRegressor(max_depth=4, splitter='best', random_state=42)\n",
    "cv_results.append(cross_val_score(decisionTreeModel,X_train,y_train,cv=10,n_jobs=-1))\n",
    "\n",
    " \n",
    "cv_results"
   ]
  },
  {
   "cell_type": "code",
   "execution_count": 55,
   "id": "9c4b1855",
   "metadata": {
    "execution": {
     "iopub.execute_input": "2023-01-06T07:09:19.475074Z",
     "iopub.status.busy": "2023-01-06T07:09:19.473798Z",
     "iopub.status.idle": "2023-01-06T07:09:19.492245Z",
     "shell.execute_reply": "2023-01-06T07:09:19.490503Z"
    },
    "papermill": {
     "duration": 0.060264,
     "end_time": "2023-01-06T07:09:19.495157",
     "exception": false,
     "start_time": "2023-01-06T07:09:19.434893",
     "status": "completed"
    },
    "tags": []
   },
   "outputs": [
    {
     "data": {
      "text/html": [
       "<div>\n",
       "<style scoped>\n",
       "    .dataframe tbody tr th:only-of-type {\n",
       "        vertical-align: middle;\n",
       "    }\n",
       "\n",
       "    .dataframe tbody tr th {\n",
       "        vertical-align: top;\n",
       "    }\n",
       "\n",
       "    .dataframe thead th {\n",
       "        text-align: right;\n",
       "    }\n",
       "</style>\n",
       "<table border=\"1\" class=\"dataframe\">\n",
       "  <thead>\n",
       "    <tr style=\"text-align: right;\">\n",
       "      <th></th>\n",
       "      <th>cv_mean</th>\n",
       "      <th>cv_std</th>\n",
       "      <th>algorithm</th>\n",
       "    </tr>\n",
       "  </thead>\n",
       "  <tbody>\n",
       "    <tr>\n",
       "      <th>0</th>\n",
       "      <td>0.448247</td>\n",
       "      <td>0.046303</td>\n",
       "      <td>LinearRegression</td>\n",
       "    </tr>\n",
       "    <tr>\n",
       "      <th>1</th>\n",
       "      <td>0.839361</td>\n",
       "      <td>0.031192</td>\n",
       "      <td>RandomForestRegressor</td>\n",
       "    </tr>\n",
       "    <tr>\n",
       "      <th>2</th>\n",
       "      <td>0.650803</td>\n",
       "      <td>0.079433</td>\n",
       "      <td>DecisionTreeRegressor</td>\n",
       "    </tr>\n",
       "  </tbody>\n",
       "</table>\n",
       "</div>"
      ],
      "text/plain": [
       "    cv_mean    cv_std              algorithm\n",
       "0  0.448247  0.046303       LinearRegression\n",
       "1  0.839361  0.031192  RandomForestRegressor\n",
       "2  0.650803  0.079433  DecisionTreeRegressor"
      ]
     },
     "execution_count": 55,
     "metadata": {},
     "output_type": "execute_result"
    }
   ],
   "source": [
    "cv_means=[]\n",
    "cv_std=[]\n",
    "for cv_result in cv_results:\n",
    "    cv_means.append(cv_result.mean())\n",
    "    cv_std.append(cv_result.std())\n",
    "    \n",
    "cvResDf=pd.DataFrame({'cv_mean': cv_means,\n",
    "                          'cv_std' : cv_std,\n",
    "                          'algorithm':['LinearRegression','RandomForestRegressor','DecisionTreeRegressor']})\n",
    "cvResDf"
   ]
  },
  {
   "cell_type": "code",
   "execution_count": 56,
   "id": "afc1ba46",
   "metadata": {
    "execution": {
     "iopub.execute_input": "2023-01-06T07:09:19.573270Z",
     "iopub.status.busy": "2023-01-06T07:09:19.572365Z",
     "iopub.status.idle": "2023-01-06T07:09:20.132529Z",
     "shell.execute_reply": "2023-01-06T07:09:20.131219Z"
    },
    "papermill": {
     "duration": 0.602423,
     "end_time": "2023-01-06T07:09:20.135412",
     "exception": false,
     "start_time": "2023-01-06T07:09:19.532989",
     "status": "completed"
    },
    "tags": []
   },
   "outputs": [
    {
     "data": {
      "text/plain": [
       "<seaborn.axisgrid.FacetGrid at 0x7f7c01f80b90>"
      ]
     },
     "execution_count": 56,
     "metadata": {},
     "output_type": "execute_result"
    },
    {
     "data": {
      "image/png": "[encoded data removed]",
      "text/plain": [
       "<Figure size 440.8x216 with 1 Axes>"
      ]
     },
     "metadata": {},
     "output_type": "display_data"
    }
   ],
   "source": [
    "#Model Selection\n",
    "cvResFacet=sns. FacetGrid(cvResDf . sort_values(by='cv_mean', ascending=False),sharex=False,\n",
    "                          sharey=False, aspect=2)\n",
    "cvResFacet.map(sns.barplot, 'cv_mean', 'algorithm' ,**{'xerr' :cv_std},\n",
    "               palette='muted')\n",
    "cvResFacet.set(xlim=(0.3,0.9))\n",
    "cvResFacet.add_legend()"
   ]
  },
  {
   "cell_type": "code",
   "execution_count": 57,
   "id": "b6b4d0f8",
   "metadata": {
    "execution": {
     "iopub.execute_input": "2023-01-06T07:09:20.215186Z",
     "iopub.status.busy": "2023-01-06T07:09:20.214735Z",
     "iopub.status.idle": "2023-01-06T07:09:21.189692Z",
     "shell.execute_reply": "2023-01-06T07:09:21.188165Z"
    },
    "papermill": {
     "duration": 1.018051,
     "end_time": "2023-01-06T07:09:21.193190",
     "exception": false,
     "start_time": "2023-01-06T07:09:20.175139",
     "status": "completed"
    },
    "tags": []
   },
   "outputs": [
    {
     "data": {
      "text/plain": [
       "RandomForestRegressor(criterion='mse')"
      ]
     },
     "execution_count": 57,
     "metadata": {},
     "output_type": "execute_result"
    }
   ],
   "source": [
    "rFModel = RandomForestRegressor(n_estimators=100, criterion = 'mse')\n",
    "# 使用訓練資料訓練模型\n",
    "rFModel.fit(X_train,y_train)"
   ]
  },
  {
   "cell_type": "code",
   "execution_count": 58,
   "id": "e3638afc",
   "metadata": {
    "execution": {
     "iopub.execute_input": "2023-01-06T07:09:21.270860Z",
     "iopub.status.busy": "2023-01-06T07:09:21.270437Z",
     "iopub.status.idle": "2023-01-06T07:09:21.387889Z",
     "shell.execute_reply": "2023-01-06T07:09:21.386306Z"
    },
    "papermill": {
     "duration": 0.159985,
     "end_time": "2023-01-06T07:09:21.391346",
     "exception": false,
     "start_time": "2023-01-06T07:09:21.231361",
     "status": "completed"
    },
    "tags": []
   },
   "outputs": [
    {
     "data": {
      "text/plain": [
       "0.9777049298772856"
      ]
     },
     "execution_count": 58,
     "metadata": {},
     "output_type": "execute_result"
    }
   ],
   "source": [
    "score = rFModel.score(X_train,y_train)\n",
    "score"
   ]
  },
  {
   "cell_type": "code",
   "execution_count": 59,
   "id": "99e62017",
   "metadata": {
    "execution": {
     "iopub.execute_input": "2023-01-06T07:09:21.469736Z",
     "iopub.status.busy": "2023-01-06T07:09:21.469275Z",
     "iopub.status.idle": "2023-01-06T07:09:21.535031Z",
     "shell.execute_reply": "2023-01-06T07:09:21.532978Z"
    },
    "papermill": {
     "duration": 0.109598,
     "end_time": "2023-01-06T07:09:21.538789",
     "exception": false,
     "start_time": "2023-01-06T07:09:21.429191",
     "status": "completed"
    },
    "tags": []
   },
   "outputs": [
    {
     "name": "stdout",
     "output_type": "stream",
     "text": [
      "rscore: 0.720344292867565 mse: 1379.6932845396402 mae: 13.389703901616159\n"
     ]
    }
   ],
   "source": [
    "from sklearn.metrics import mean_squared_error #均方误差\n",
    "from sklearn.metrics import mean_absolute_error #平方绝对课差\n",
    "from sklearn.metrics import r2_score#R square\n",
    "\n",
    "y_pred = rFModel.predict(X_test)\n",
    "rscore=r2_score(y_test, y_pred)\n",
    "mse = mean_squared_error(y_test, y_pred)\n",
    "mae = mean_absolute_error(y_test, y_pred)\n",
    "print(\"rscore:\",rscore,\"mse:\",mse,\"mae:\",mae)"
   ]
  },
  {
   "cell_type": "code",
   "execution_count": 60,
   "id": "4abc9dc6",
   "metadata": {
    "execution": {
     "iopub.execute_input": "2023-01-06T07:09:21.639516Z",
     "iopub.status.busy": "2023-01-06T07:09:21.638666Z",
     "iopub.status.idle": "2023-01-06T07:09:22.745712Z",
     "shell.execute_reply": "2023-01-06T07:09:22.744235Z"
    },
    "papermill": {
     "duration": 1.171427,
     "end_time": "2023-01-06T07:09:22.748631",
     "exception": false,
     "start_time": "2023-01-06T07:09:21.577204",
     "status": "completed"
    },
    "tags": []
   },
   "outputs": [],
   "source": [
    "import statsmodels.api as sm"
   ]
  },
  {
   "cell_type": "code",
   "execution_count": 61,
   "id": "4a533a56",
   "metadata": {
    "execution": {
     "iopub.execute_input": "2023-01-06T07:09:22.831703Z",
     "iopub.status.busy": "2023-01-06T07:09:22.831194Z",
     "iopub.status.idle": "2023-01-06T07:09:22.856017Z",
     "shell.execute_reply": "2023-01-06T07:09:22.853810Z"
    },
    "papermill": {
     "duration": 0.0728,
     "end_time": "2023-01-06T07:09:22.862064",
     "exception": false,
     "start_time": "2023-01-06T07:09:22.789264",
     "status": "completed"
    },
    "tags": []
   },
   "outputs": [],
   "source": [
    "# # Apply linear regression by statsmodel \n",
    "model = sm.OLS(y_train, X_train)\n",
    "results = model.fit()"
   ]
  },
  {
   "cell_type": "code",
   "execution_count": 62,
   "id": "cfc4b08a",
   "metadata": {
    "execution": {
     "iopub.execute_input": "2023-01-06T07:09:23.012634Z",
     "iopub.status.busy": "2023-01-06T07:09:23.012141Z",
     "iopub.status.idle": "2023-01-06T07:09:23.046709Z",
     "shell.execute_reply": "2023-01-06T07:09:23.045404Z"
    },
    "papermill": {
     "duration": 0.08696,
     "end_time": "2023-01-06T07:09:23.053335",
     "exception": false,
     "start_time": "2023-01-06T07:09:22.966375",
     "status": "completed"
    },
    "tags": []
   },
   "outputs": [
    {
     "name": "stdout",
     "output_type": "stream",
     "text": [
      "                                 OLS Regression Results                                \n",
      "=======================================================================================\n",
      "Dep. Variable:             car_prices   R-squared (uncentered):                   0.585\n",
      "Model:                            OLS   Adj. R-squared (uncentered):              0.584\n",
      "Method:                 Least Squares   F-statistic:                              724.2\n",
      "Date:                Fri, 06 Jan 2023   Prob (F-statistic):                        0.00\n",
      "Time:                        07:09:23   Log-Likelihood:                         -22422.\n",
      "No. Observations:                4125   AIC:                                  4.486e+04\n",
      "Df Residuals:                    4117   BIC:                                  4.491e+04\n",
      "Df Model:                           8                                                  \n",
      "Covariance Type:            nonrobust                                                  \n",
      "================================================================================\n",
      "                   coef    std err          t      P>|t|      [0.025      0.975]\n",
      "--------------------------------------------------------------------------------\n",
      "Brand_lv        40.7745      1.520     26.826      0.000      37.795      43.754\n",
      "kms_driven   -5.056e-05   2.45e-05     -2.063      0.039   -9.86e-05   -2.51e-06\n",
      "fuel_type        4.5848      1.590      2.884      0.004       1.468       7.702\n",
      "transmission    38.1282      2.475     15.407      0.000      33.276      42.980\n",
      "ownership       -2.1298      1.359     -1.567      0.117      -4.794       0.534\n",
      "Age             -3.9646      0.273    -14.545      0.000      -4.499      -3.430\n",
      "engine_class     3.0647      0.897      3.415      0.001       1.306       4.824\n",
      "Seats            8.6461      0.537     16.095      0.000       7.593       9.699\n",
      "==============================================================================\n",
      "Omnibus:                     4528.663   Durbin-Watson:                   2.037\n",
      "Prob(Omnibus):                  0.000   Jarque-Bera (JB):           422546.461\n",
      "Skew:                           5.544   Prob(JB):                         0.00\n",
      "Kurtosis:                      51.327   Cond. No.                     2.34e+05\n",
      "==============================================================================\n",
      "\n",
      "Notes:\n",
      "[1] R² is computed without centering (uncentered) since the model does not contain a constant.\n",
      "[2] Standard Errors assume that the covariance matrix of the errors is correctly specified.\n",
      "[3] The condition number is large, 2.34e+05. This might indicate that there are\n",
      "strong multicollinearity or other numerical problems.\n"
     ]
    }
   ],
   "source": [
    "print(results.summary())"
   ]
  },
  {
   "cell_type": "markdown",
   "id": "1054ffb5",
   "metadata": {
    "papermill": {
     "duration": 0.040734,
     "end_time": "2023-01-06T07:09:23.191109",
     "exception": false,
     "start_time": "2023-01-06T07:09:23.150375",
     "status": "completed"
    },
    "tags": []
   },
   "source": [
    "### Prediction Analysis"
   ]
  },
  {
   "cell_type": "code",
   "execution_count": 63,
   "id": "43b40850",
   "metadata": {
    "execution": {
     "iopub.execute_input": "2023-01-06T07:09:23.272253Z",
     "iopub.status.busy": "2023-01-06T07:09:23.271835Z",
     "iopub.status.idle": "2023-01-06T07:09:23.417648Z",
     "shell.execute_reply": "2023-01-06T07:09:23.415731Z"
    },
    "papermill": {
     "duration": 0.191197,
     "end_time": "2023-01-06T07:09:23.421009",
     "exception": false,
     "start_time": "2023-01-06T07:09:23.229812",
     "status": "completed"
    },
    "tags": []
   },
   "outputs": [],
   "source": [
    "df2['Price_prediction']=rFModel.predict(df_X)"
   ]
  },
  {
   "cell_type": "code",
   "execution_count": 64,
   "id": "e9e00685",
   "metadata": {
    "execution": {
     "iopub.execute_input": "2023-01-06T07:09:23.506346Z",
     "iopub.status.busy": "2023-01-06T07:09:23.504929Z",
     "iopub.status.idle": "2023-01-06T07:09:23.911990Z",
     "shell.execute_reply": "2023-01-06T07:09:23.910957Z"
    },
    "papermill": {
     "duration": 0.45353,
     "end_time": "2023-01-06T07:09:23.915299",
     "exception": false,
     "start_time": "2023-01-06T07:09:23.461769",
     "status": "completed"
    },
    "tags": []
   },
   "outputs": [
    {
     "data": {
      "image/png": "[encoded data removed]",
      "text/plain": [
       "<Figure size 1080x504 with 1 Axes>"
      ]
     },
     "metadata": {},
     "output_type": "display_data"
    }
   ],
   "source": [
    "prd=df2['Price_prediction']\n",
    "x_ax = range(len(df_y))\n",
    "plt.figure(figsize=(15,7))\n",
    "plt.plot(x_ax, df_y,linewidth = '4.5', label=\"Original\")\n",
    "plt.plot(x_ax, prd, linewidth = '4.5', label=\"predicted\")\n",
    "plt.title(\"Test data VS Predicted data\")\n",
    "plt.xlabel('X')\n",
    "plt.ylabel('Y')\n",
    "plt.legend(loc='lower right',fancybox=True, shadow=True)\n",
    "plt.show() "
   ]
  },
  {
   "cell_type": "code",
   "execution_count": 65,
   "id": "592a0fcd",
   "metadata": {
    "execution": {
     "iopub.execute_input": "2023-01-06T07:09:23.998772Z",
     "iopub.status.busy": "2023-01-06T07:09:23.998151Z",
     "iopub.status.idle": "2023-01-06T07:09:24.391823Z",
     "shell.execute_reply": "2023-01-06T07:09:24.390771Z"
    },
    "papermill": {
     "duration": 0.437335,
     "end_time": "2023-01-06T07:09:24.394956",
     "exception": false,
     "start_time": "2023-01-06T07:09:23.957621",
     "status": "completed"
    },
    "tags": []
   },
   "outputs": [
    {
     "data": {
      "image/png": "[encoded data removed]",
      "text/plain": [
       "<Figure size 432x288 with 1 Axes>"
      ]
     },
     "metadata": {},
     "output_type": "display_data"
    }
   ],
   "source": [
    "plt.scatter(df2['Price_prediction'],df2['car_prices'],color=\"b\",)\n",
    "plt.title('Prediction and Original data correlation')\n",
    "plt.xlabel(\"pred\")\n",
    "plt.ylabel(\"data\")\n",
    "plt.grid()"
   ]
  },
  {
   "cell_type": "code",
   "execution_count": 66,
   "id": "2afba660",
   "metadata": {
    "execution": {
     "iopub.execute_input": "2023-01-06T07:09:24.482814Z",
     "iopub.status.busy": "2023-01-06T07:09:24.481622Z",
     "iopub.status.idle": "2023-01-06T07:09:24.509699Z",
     "shell.execute_reply": "2023-01-06T07:09:24.508217Z"
    },
    "papermill": {
     "duration": 0.074453,
     "end_time": "2023-01-06T07:09:24.512715",
     "exception": false,
     "start_time": "2023-01-06T07:09:24.438262",
     "status": "completed"
    },
    "tags": []
   },
   "outputs": [
    {
     "data": {
      "text/html": [
       "<div>\n",
       "<style scoped>\n",
       "    .dataframe tbody tr th:only-of-type {\n",
       "        vertical-align: middle;\n",
       "    }\n",
       "\n",
       "    .dataframe tbody tr th {\n",
       "        vertical-align: top;\n",
       "    }\n",
       "\n",
       "    .dataframe thead th {\n",
       "        text-align: right;\n",
       "    }\n",
       "</style>\n",
       "<table border=\"1\" class=\"dataframe\">\n",
       "  <thead>\n",
       "    <tr style=\"text-align: right;\">\n",
       "      <th></th>\n",
       "      <th>Brand_lv</th>\n",
       "      <th>car_name</th>\n",
       "      <th>car_prices</th>\n",
       "      <th>multiply NT</th>\n",
       "      <th>kms_driven</th>\n",
       "      <th>fuel_type</th>\n",
       "      <th>transmission</th>\n",
       "      <th>ownership</th>\n",
       "      <th>Age</th>\n",
       "      <th>engine_class</th>\n",
       "      <th>Seats</th>\n",
       "      <th>Price_prediction</th>\n",
       "      <th>Deviation</th>\n",
       "    </tr>\n",
       "  </thead>\n",
       "  <tbody>\n",
       "    <tr>\n",
       "      <th>0</th>\n",
       "      <td>1</td>\n",
       "      <td>Compass 2.0 Longitude Option BSIV</td>\n",
       "      <td>37.30</td>\n",
       "      <td>10K</td>\n",
       "      <td>86226</td>\n",
       "      <td>Diesel</td>\n",
       "      <td>Manual</td>\n",
       "      <td>1</td>\n",
       "      <td>6</td>\n",
       "      <td>3</td>\n",
       "      <td>5</td>\n",
       "      <td>41.294900</td>\n",
       "      <td>3.994900</td>\n",
       "    </tr>\n",
       "    <tr>\n",
       "      <th>1</th>\n",
       "      <td>0</td>\n",
       "      <td>Duster RXZ Turbo CVT</td>\n",
       "      <td>47.72</td>\n",
       "      <td>10K</td>\n",
       "      <td>13248</td>\n",
       "      <td>Petrol</td>\n",
       "      <td>Automatic</td>\n",
       "      <td>1</td>\n",
       "      <td>2</td>\n",
       "      <td>2</td>\n",
       "      <td>5</td>\n",
       "      <td>51.316400</td>\n",
       "      <td>3.596400</td>\n",
       "    </tr>\n",
       "    <tr>\n",
       "      <th>2</th>\n",
       "      <td>0</td>\n",
       "      <td>Camry 2.5 G</td>\n",
       "      <td>61.00</td>\n",
       "      <td>10K</td>\n",
       "      <td>60343</td>\n",
       "      <td>Petrol</td>\n",
       "      <td>Automatic</td>\n",
       "      <td>1</td>\n",
       "      <td>7</td>\n",
       "      <td>4</td>\n",
       "      <td>5</td>\n",
       "      <td>50.214000</td>\n",
       "      <td>-10.786000</td>\n",
       "    </tr>\n",
       "    <tr>\n",
       "      <th>3</th>\n",
       "      <td>0</td>\n",
       "      <td>Jazz VX CVT</td>\n",
       "      <td>28.90</td>\n",
       "      <td>10K</td>\n",
       "      <td>26696</td>\n",
       "      <td>Petrol</td>\n",
       "      <td>Automatic</td>\n",
       "      <td>1</td>\n",
       "      <td>5</td>\n",
       "      <td>1</td>\n",
       "      <td>5</td>\n",
       "      <td>23.907800</td>\n",
       "      <td>-4.992200</td>\n",
       "    </tr>\n",
       "    <tr>\n",
       "      <th>4</th>\n",
       "      <td>1</td>\n",
       "      <td>Polo 1.2 MPI Highline</td>\n",
       "      <td>19.15</td>\n",
       "      <td>10K</td>\n",
       "      <td>69414</td>\n",
       "      <td>Petrol</td>\n",
       "      <td>Manual</td>\n",
       "      <td>1</td>\n",
       "      <td>7</td>\n",
       "      <td>1</td>\n",
       "      <td>5</td>\n",
       "      <td>18.123125</td>\n",
       "      <td>-1.026875</td>\n",
       "    </tr>\n",
       "    <tr>\n",
       "      <th>...</th>\n",
       "      <td>...</td>\n",
       "      <td>...</td>\n",
       "      <td>...</td>\n",
       "      <td>...</td>\n",
       "      <td>...</td>\n",
       "      <td>...</td>\n",
       "      <td>...</td>\n",
       "      <td>...</td>\n",
       "      <td>...</td>\n",
       "      <td>...</td>\n",
       "      <td>...</td>\n",
       "      <td>...</td>\n",
       "      <td>...</td>\n",
       "    </tr>\n",
       "    <tr>\n",
       "      <th>5507</th>\n",
       "      <td>2</td>\n",
       "      <td>X1 sDrive 20d xLine</td>\n",
       "      <td>107.49</td>\n",
       "      <td>10K</td>\n",
       "      <td>45000</td>\n",
       "      <td>Diesel</td>\n",
       "      <td>Automatic</td>\n",
       "      <td>1</td>\n",
       "      <td>5</td>\n",
       "      <td>4</td>\n",
       "      <td>7</td>\n",
       "      <td>166.554100</td>\n",
       "      <td>59.064100</td>\n",
       "    </tr>\n",
       "    <tr>\n",
       "      <th>5508</th>\n",
       "      <td>2</td>\n",
       "      <td>M Series M4 Coupe</td>\n",
       "      <td>241.38</td>\n",
       "      <td>10K</td>\n",
       "      <td>29000</td>\n",
       "      <td>Petrol</td>\n",
       "      <td>Automatic</td>\n",
       "      <td>2</td>\n",
       "      <td>8</td>\n",
       "      <td>3</td>\n",
       "      <td>5</td>\n",
       "      <td>204.623300</td>\n",
       "      <td>-36.756700</td>\n",
       "    </tr>\n",
       "    <tr>\n",
       "      <th>5509</th>\n",
       "      <td>2</td>\n",
       "      <td>XF 2.2 Litre Luxury</td>\n",
       "      <td>51.14</td>\n",
       "      <td>10K</td>\n",
       "      <td>90000</td>\n",
       "      <td>Diesel</td>\n",
       "      <td>Automatic</td>\n",
       "      <td>2</td>\n",
       "      <td>10</td>\n",
       "      <td>4</td>\n",
       "      <td>5</td>\n",
       "      <td>75.905500</td>\n",
       "      <td>24.765500</td>\n",
       "    </tr>\n",
       "    <tr>\n",
       "      <th>5510</th>\n",
       "      <td>2</td>\n",
       "      <td>7 Series 730Ld</td>\n",
       "      <td>111.21</td>\n",
       "      <td>10K</td>\n",
       "      <td>79000</td>\n",
       "      <td>Diesel</td>\n",
       "      <td>Automatic</td>\n",
       "      <td>3</td>\n",
       "      <td>8</td>\n",
       "      <td>4</td>\n",
       "      <td>6</td>\n",
       "      <td>112.677100</td>\n",
       "      <td>1.467100</td>\n",
       "    </tr>\n",
       "    <tr>\n",
       "      <th>5511</th>\n",
       "      <td>2</td>\n",
       "      <td>5 Series 520d M Sport</td>\n",
       "      <td>118.65</td>\n",
       "      <td>10K</td>\n",
       "      <td>42000</td>\n",
       "      <td>Diesel</td>\n",
       "      <td>Automatic</td>\n",
       "      <td>2</td>\n",
       "      <td>6</td>\n",
       "      <td>3</td>\n",
       "      <td>5</td>\n",
       "      <td>130.541700</td>\n",
       "      <td>11.891700</td>\n",
       "    </tr>\n",
       "  </tbody>\n",
       "</table>\n",
       "<p>5500 rows × 13 columns</p>\n",
       "</div>"
      ],
      "text/plain": [
       "      Brand_lv                           car_name  car_prices multiply NT  \\\n",
       "0            1  Compass 2.0 Longitude Option BSIV       37.30         10K   \n",
       "1            0               Duster RXZ Turbo CVT       47.72         10K   \n",
       "2            0                        Camry 2.5 G       61.00         10K   \n",
       "3            0                        Jazz VX CVT       28.90         10K   \n",
       "4            1              Polo 1.2 MPI Highline       19.15         10K   \n",
       "...        ...                                ...         ...         ...   \n",
       "5507         2                X1 sDrive 20d xLine      107.49         10K   \n",
       "5508         2                  M Series M4 Coupe      241.38         10K   \n",
       "5509         2                XF 2.2 Litre Luxury       51.14         10K   \n",
       "5510         2                     7 Series 730Ld      111.21         10K   \n",
       "5511         2              5 Series 520d M Sport      118.65         10K   \n",
       "\n",
       "      kms_driven fuel_type transmission  ownership  Age  engine_class  Seats  \\\n",
       "0          86226    Diesel       Manual          1    6             3      5   \n",
       "1          13248    Petrol    Automatic          1    2             2      5   \n",
       "2          60343    Petrol    Automatic          1    7             4      5   \n",
       "3          26696    Petrol    Automatic          1    5             1      5   \n",
       "4          69414    Petrol       Manual          1    7             1      5   \n",
       "...          ...       ...          ...        ...  ...           ...    ...   \n",
       "5507       45000    Diesel    Automatic          1    5             4      7   \n",
       "5508       29000    Petrol    Automatic          2    8             3      5   \n",
       "5509       90000    Diesel    Automatic          2   10             4      5   \n",
       "5510       79000    Diesel    Automatic          3    8             4      6   \n",
       "5511       42000    Diesel    Automatic          2    6             3      5   \n",
       "\n",
       "      Price_prediction  Deviation  \n",
       "0            41.294900   3.994900  \n",
       "1            51.316400   3.596400  \n",
       "2            50.214000 -10.786000  \n",
       "3            23.907800  -4.992200  \n",
       "4            18.123125  -1.026875  \n",
       "...                ...        ...  \n",
       "5507        166.554100  59.064100  \n",
       "5508        204.623300 -36.756700  \n",
       "5509         75.905500  24.765500  \n",
       "5510        112.677100   1.467100  \n",
       "5511        130.541700  11.891700  \n",
       "\n",
       "[5500 rows x 13 columns]"
      ]
     },
     "execution_count": 66,
     "metadata": {},
     "output_type": "execute_result"
    }
   ],
   "source": [
    "df2[\"Deviation\"] = (df2['Price_prediction']) - ( df2['car_prices'])\n",
    "df2"
   ]
  },
  {
   "cell_type": "code",
   "execution_count": 67,
   "id": "e365c5ea",
   "metadata": {
    "execution": {
     "iopub.execute_input": "2023-01-06T07:09:24.598245Z",
     "iopub.status.busy": "2023-01-06T07:09:24.597793Z",
     "iopub.status.idle": "2023-01-06T07:09:24.632252Z",
     "shell.execute_reply": "2023-01-06T07:09:24.630694Z"
    },
    "papermill": {
     "duration": 0.079654,
     "end_time": "2023-01-06T07:09:24.635643",
     "exception": false,
     "start_time": "2023-01-06T07:09:24.555989",
     "status": "completed"
    },
    "tags": []
   },
   "outputs": [
    {
     "data": {
      "text/html": [
       "<div>\n",
       "<style scoped>\n",
       "    .dataframe tbody tr th:only-of-type {\n",
       "        vertical-align: middle;\n",
       "    }\n",
       "\n",
       "    .dataframe tbody tr th {\n",
       "        vertical-align: top;\n",
       "    }\n",
       "\n",
       "    .dataframe thead th {\n",
       "        text-align: right;\n",
       "    }\n",
       "</style>\n",
       "<table border=\"1\" class=\"dataframe\">\n",
       "  <thead>\n",
       "    <tr style=\"text-align: right;\">\n",
       "      <th></th>\n",
       "      <th>Brand_lv</th>\n",
       "      <th>car_name</th>\n",
       "      <th>car_prices</th>\n",
       "      <th>multiply NT</th>\n",
       "      <th>kms_driven</th>\n",
       "      <th>fuel_type</th>\n",
       "      <th>transmission</th>\n",
       "      <th>ownership</th>\n",
       "      <th>Age</th>\n",
       "      <th>engine_class</th>\n",
       "      <th>Seats</th>\n",
       "      <th>Price_prediction</th>\n",
       "      <th>Deviation</th>\n",
       "    </tr>\n",
       "  </thead>\n",
       "  <tbody>\n",
       "    <tr>\n",
       "      <th>1609</th>\n",
       "      <td>2</td>\n",
       "      <td>X1 sDrive 20d xLine</td>\n",
       "      <td>120.88</td>\n",
       "      <td>10K</td>\n",
       "      <td>65000</td>\n",
       "      <td>Diesel</td>\n",
       "      <td>Automatic</td>\n",
       "      <td>1</td>\n",
       "      <td>4</td>\n",
       "      <td>2</td>\n",
       "      <td>5</td>\n",
       "      <td>699.257400</td>\n",
       "      <td>578.377400</td>\n",
       "    </tr>\n",
       "    <tr>\n",
       "      <th>3793</th>\n",
       "      <td>0</td>\n",
       "      <td>Seltos HTK Plus AT D</td>\n",
       "      <td>45.97</td>\n",
       "      <td>10K</td>\n",
       "      <td>27371</td>\n",
       "      <td>Diesel</td>\n",
       "      <td>Automatic</td>\n",
       "      <td>1</td>\n",
       "      <td>4</td>\n",
       "      <td>2</td>\n",
       "      <td>5</td>\n",
       "      <td>416.278000</td>\n",
       "      <td>370.308000</td>\n",
       "    </tr>\n",
       "    <tr>\n",
       "      <th>3253</th>\n",
       "      <td>0</td>\n",
       "      <td>Tigor EV XM</td>\n",
       "      <td>23.47</td>\n",
       "      <td>10K</td>\n",
       "      <td>25882</td>\n",
       "      <td>Electric</td>\n",
       "      <td>Automatic</td>\n",
       "      <td>1</td>\n",
       "      <td>4</td>\n",
       "      <td>2</td>\n",
       "      <td>5</td>\n",
       "      <td>300.294800</td>\n",
       "      <td>276.824800</td>\n",
       "    </tr>\n",
       "    <tr>\n",
       "      <th>1672</th>\n",
       "      <td>0</td>\n",
       "      <td>TUV 300 T10 AMT</td>\n",
       "      <td>23.25</td>\n",
       "      <td>10K</td>\n",
       "      <td>56276</td>\n",
       "      <td>Diesel</td>\n",
       "      <td>Automatic</td>\n",
       "      <td>2</td>\n",
       "      <td>5</td>\n",
       "      <td>2</td>\n",
       "      <td>5</td>\n",
       "      <td>297.695500</td>\n",
       "      <td>274.445500</td>\n",
       "    </tr>\n",
       "    <tr>\n",
       "      <th>2063</th>\n",
       "      <td>2</td>\n",
       "      <td>3 Series GT Luxury Line</td>\n",
       "      <td>163.65</td>\n",
       "      <td>10K</td>\n",
       "      <td>14000</td>\n",
       "      <td>Diesel</td>\n",
       "      <td>Automatic</td>\n",
       "      <td>1</td>\n",
       "      <td>3</td>\n",
       "      <td>2</td>\n",
       "      <td>5</td>\n",
       "      <td>382.446296</td>\n",
       "      <td>218.796296</td>\n",
       "    </tr>\n",
       "    <tr>\n",
       "      <th>...</th>\n",
       "      <td>...</td>\n",
       "      <td>...</td>\n",
       "      <td>...</td>\n",
       "      <td>...</td>\n",
       "      <td>...</td>\n",
       "      <td>...</td>\n",
       "      <td>...</td>\n",
       "      <td>...</td>\n",
       "      <td>...</td>\n",
       "      <td>...</td>\n",
       "      <td>...</td>\n",
       "      <td>...</td>\n",
       "      <td>...</td>\n",
       "    </tr>\n",
       "    <tr>\n",
       "      <th>5329</th>\n",
       "      <td>2</td>\n",
       "      <td>S-Class S 350 CDI</td>\n",
       "      <td>308.70</td>\n",
       "      <td>10K</td>\n",
       "      <td>61000</td>\n",
       "      <td>Diesel</td>\n",
       "      <td>Automatic</td>\n",
       "      <td>2</td>\n",
       "      <td>6</td>\n",
       "      <td>2</td>\n",
       "      <td>5</td>\n",
       "      <td>94.052650</td>\n",
       "      <td>-214.647350</td>\n",
       "    </tr>\n",
       "    <tr>\n",
       "      <th>4213</th>\n",
       "      <td>2</td>\n",
       "      <td>RS7 4.0 TFSI</td>\n",
       "      <td>649.62</td>\n",
       "      <td>10K</td>\n",
       "      <td>7100</td>\n",
       "      <td>Petrol</td>\n",
       "      <td>Automatic</td>\n",
       "      <td>1</td>\n",
       "      <td>2</td>\n",
       "      <td>5</td>\n",
       "      <td>5</td>\n",
       "      <td>358.937000</td>\n",
       "      <td>-290.683000</td>\n",
       "    </tr>\n",
       "    <tr>\n",
       "      <th>1074</th>\n",
       "      <td>2</td>\n",
       "      <td>Panamera GTS</td>\n",
       "      <td>649.62</td>\n",
       "      <td>10K</td>\n",
       "      <td>10000</td>\n",
       "      <td>Petrol</td>\n",
       "      <td>Automatic</td>\n",
       "      <td>1</td>\n",
       "      <td>4</td>\n",
       "      <td>3</td>\n",
       "      <td>5</td>\n",
       "      <td>281.962000</td>\n",
       "      <td>-367.658000</td>\n",
       "    </tr>\n",
       "    <tr>\n",
       "      <th>2910</th>\n",
       "      <td>2</td>\n",
       "      <td>RS7 4.0 TFSI</td>\n",
       "      <td>649.62</td>\n",
       "      <td>10K</td>\n",
       "      <td>7100</td>\n",
       "      <td>Petrol</td>\n",
       "      <td>Automatic</td>\n",
       "      <td>1</td>\n",
       "      <td>2</td>\n",
       "      <td>3</td>\n",
       "      <td>5</td>\n",
       "      <td>230.880500</td>\n",
       "      <td>-418.739500</td>\n",
       "    </tr>\n",
       "    <tr>\n",
       "      <th>3258</th>\n",
       "      <td>2</td>\n",
       "      <td>Panamera GTS</td>\n",
       "      <td>649.62</td>\n",
       "      <td>10K</td>\n",
       "      <td>10000</td>\n",
       "      <td>Petrol</td>\n",
       "      <td>Automatic</td>\n",
       "      <td>1</td>\n",
       "      <td>4</td>\n",
       "      <td>1</td>\n",
       "      <td>5</td>\n",
       "      <td>226.795400</td>\n",
       "      <td>-422.824600</td>\n",
       "    </tr>\n",
       "  </tbody>\n",
       "</table>\n",
       "<p>102 rows × 13 columns</p>\n",
       "</div>"
      ],
      "text/plain": [
       "      Brand_lv                 car_name  car_prices multiply NT  kms_driven  \\\n",
       "1609         2      X1 sDrive 20d xLine      120.88         10K       65000   \n",
       "3793         0     Seltos HTK Plus AT D       45.97         10K       27371   \n",
       "3253         0              Tigor EV XM       23.47         10K       25882   \n",
       "1672         0          TUV 300 T10 AMT       23.25         10K       56276   \n",
       "2063         2  3 Series GT Luxury Line      163.65         10K       14000   \n",
       "...        ...                      ...         ...         ...         ...   \n",
       "5329         2        S-Class S 350 CDI      308.70         10K       61000   \n",
       "4213         2             RS7 4.0 TFSI      649.62         10K        7100   \n",
       "1074         2             Panamera GTS      649.62         10K       10000   \n",
       "2910         2             RS7 4.0 TFSI      649.62         10K        7100   \n",
       "3258         2             Panamera GTS      649.62         10K       10000   \n",
       "\n",
       "     fuel_type transmission  ownership  Age  engine_class  Seats  \\\n",
       "1609    Diesel    Automatic          1    4             2      5   \n",
       "3793    Diesel    Automatic          1    4             2      5   \n",
       "3253  Electric    Automatic          1    4             2      5   \n",
       "1672    Diesel    Automatic          2    5             2      5   \n",
       "2063    Diesel    Automatic          1    3             2      5   \n",
       "...        ...          ...        ...  ...           ...    ...   \n",
       "5329    Diesel    Automatic          2    6             2      5   \n",
       "4213    Petrol    Automatic          1    2             5      5   \n",
       "1074    Petrol    Automatic          1    4             3      5   \n",
       "2910    Petrol    Automatic          1    2             3      5   \n",
       "3258    Petrol    Automatic          1    4             1      5   \n",
       "\n",
       "      Price_prediction   Deviation  \n",
       "1609        699.257400  578.377400  \n",
       "3793        416.278000  370.308000  \n",
       "3253        300.294800  276.824800  \n",
       "1672        297.695500  274.445500  \n",
       "2063        382.446296  218.796296  \n",
       "...                ...         ...  \n",
       "5329         94.052650 -214.647350  \n",
       "4213        358.937000 -290.683000  \n",
       "1074        281.962000 -367.658000  \n",
       "2910        230.880500 -418.739500  \n",
       "3258        226.795400 -422.824600  \n",
       "\n",
       "[102 rows x 13 columns]"
      ]
     },
     "execution_count": 67,
     "metadata": {},
     "output_type": "execute_result"
    }
   ],
   "source": [
    "df2[ (abs(df2[\"Deviation\"])>= 50)].sort_values(\"Deviation\",ascending = False)"
   ]
  },
  {
   "cell_type": "code",
   "execution_count": 68,
   "id": "a02ef2d8",
   "metadata": {
    "execution": {
     "iopub.execute_input": "2023-01-06T07:09:24.725670Z",
     "iopub.status.busy": "2023-01-06T07:09:24.723788Z",
     "iopub.status.idle": "2023-01-06T07:09:24.740142Z",
     "shell.execute_reply": "2023-01-06T07:09:24.738273Z"
    },
    "papermill": {
     "duration": 0.064451,
     "end_time": "2023-01-06T07:09:24.743577",
     "exception": false,
     "start_time": "2023-01-06T07:09:24.679126",
     "status": "completed"
    },
    "tags": []
   },
   "outputs": [
    {
     "data": {
      "text/plain": [
       "1    25\n",
       "2    25\n",
       "3    34\n",
       "4    13\n",
       "5     3\n",
       "6     2\n",
       "Name: engine_class, dtype: int64"
      ]
     },
     "execution_count": 68,
     "metadata": {},
     "output_type": "execute_result"
    }
   ],
   "source": [
    "df2[ (abs(df2[\"Deviation\"])>= 50)][\"engine_class\"].value_counts().sort_index(ascending = True)"
   ]
  },
  {
   "cell_type": "code",
   "execution_count": 69,
   "id": "24d409bf",
   "metadata": {
    "execution": {
     "iopub.execute_input": "2023-01-06T07:09:24.831872Z",
     "iopub.status.busy": "2023-01-06T07:09:24.831122Z",
     "iopub.status.idle": "2023-01-06T07:09:24.847126Z",
     "shell.execute_reply": "2023-01-06T07:09:24.845260Z"
    },
    "papermill": {
     "duration": 0.064597,
     "end_time": "2023-01-06T07:09:24.850583",
     "exception": false,
     "start_time": "2023-01-06T07:09:24.785986",
     "status": "completed"
    },
    "tags": []
   },
   "outputs": [
    {
     "data": {
      "text/plain": [
       "1     1.165501\n",
       "2     1.278119\n",
       "3     3.563941\n",
       "4     3.324808\n",
       "5    13.043478\n",
       "6     7.692308\n",
       "7          NaN\n",
       "Name: engine_class, dtype: float64"
      ]
     },
     "execution_count": 69,
     "metadata": {},
     "output_type": "execute_result"
    }
   ],
   "source": [
    "(df2[ (abs(df2[\"Deviation\"])>= 50)][\"engine_class\"].value_counts().sort_index(ascending = True)/df2[\"engine_class\"].value_counts() )*100"
   ]
  },
  {
   "cell_type": "code",
   "execution_count": 70,
   "id": "45043df7",
   "metadata": {
    "execution": {
     "iopub.execute_input": "2023-01-06T07:09:24.944450Z",
     "iopub.status.busy": "2023-01-06T07:09:24.943991Z",
     "iopub.status.idle": "2023-01-06T07:09:24.957761Z",
     "shell.execute_reply": "2023-01-06T07:09:24.956537Z"
    },
    "papermill": {
     "duration": 0.064607,
     "end_time": "2023-01-06T07:09:24.961783",
     "exception": false,
     "start_time": "2023-01-06T07:09:24.897176",
     "status": "completed"
    },
    "tags": []
   },
   "outputs": [
    {
     "data": {
      "text/plain": [
       "0    27\n",
       "1     9\n",
       "2    65\n",
       "3     1\n",
       "Name: Brand_lv, dtype: int64"
      ]
     },
     "execution_count": 70,
     "metadata": {},
     "output_type": "execute_result"
    }
   ],
   "source": [
    "df2[ (abs(df2[\"Deviation\"])>= 50)][\"Brand_lv\"].value_counts().sort_index(ascending = True)"
   ]
  },
  {
   "cell_type": "code",
   "execution_count": 71,
   "id": "ccecbfee",
   "metadata": {
    "execution": {
     "iopub.execute_input": "2023-01-06T07:09:25.051474Z",
     "iopub.status.busy": "2023-01-06T07:09:25.050978Z",
     "iopub.status.idle": "2023-01-06T07:09:25.067848Z",
     "shell.execute_reply": "2023-01-06T07:09:25.065346Z"
    },
    "papermill": {
     "duration": 0.064351,
     "end_time": "2023-01-06T07:09:25.070838",
     "exception": false,
     "start_time": "2023-01-06T07:09:25.006487",
     "status": "completed"
    },
    "tags": []
   },
   "outputs": [
    {
     "data": {
      "text/plain": [
       "0     0.624133\n",
       "1     2.393617\n",
       "2     8.207071\n",
       "3    16.666667\n",
       "Name: Brand_lv, dtype: float64"
      ]
     },
     "execution_count": 71,
     "metadata": {},
     "output_type": "execute_result"
    }
   ],
   "source": [
    "df2[ (abs(df2[\"Deviation\"])>= 50)][\"Brand_lv\"].value_counts().sort_index(ascending = True)/(df2[\"Brand_lv\"].value_counts())*100"
   ]
  }
 ],
 "metadata": {
  "kernelspec": {
   "display_name": "Python 3",
   "language": "python",
   "name": "python3"
  },
  "language_info": {
   "codemirror_mode": {
    "name": "ipython",
    "version": 3
   },
   "file_extension": ".py",
   "mimetype": "text/x-python",
   "name": "python",
   "nbconvert_exporter": "python",
   "pygments_lexer": "ipython3",
   "version": "3.7.12"
  },
  "papermill": {
   "default_parameters": {},
   "duration": 58.950613,
   "end_time": "2023-01-06T07:09:27.740751",
   "environment_variables": {},
   "exception": null,
   "input_path": "__notebook__.ipynb",
   "output_path": "__notebook__.ipynb",
   "parameters": {},
   "start_time": "2023-01-06T07:08:28.790138",
   "version": "2.3.4"
  }
 },
 "nbformat": 4,
 "nbformat_minor": 5
}
